{
 "cells": [
  {
   "cell_type": "markdown",
   "id": "ea98dbee-46df-4445-8f70-9dbb57733789",
   "metadata": {},
   "source": [
    "# Python Functionals"
   ]
  },
  {
   "cell_type": "markdown",
   "id": "904babe4-1a9c-463b-94ab-f2efc2d5f7f8",
   "metadata": {},
   "source": [
    "## Maps and Lambda Function"
   ]
  },
  {
   "cell_type": "code",
   "execution_count": 2,
   "id": "75338c16-d31e-4538-aa67-f600f98f4ef5",
   "metadata": {},
   "outputs": [
    {
     "name": "stdout",
     "output_type": "stream",
     "text": [
      "[4, 3, 3]\n"
     ]
    }
   ],
   "source": [
    "print(list(map(len, ['Tina', 'Raj', 'Tom'])))"
   ]
  },
  {
   "cell_type": "code",
   "execution_count": 4,
   "id": "f8baf41c-c9af-4dc9-afdd-e4cfc9a2681b",
   "metadata": {},
   "outputs": [],
   "source": [
    "sum = lambda a, b, c: a+b+c"
   ]
  },
  {
   "cell_type": "code",
   "execution_count": 5,
   "id": "9f4f7cb2-bdce-4fc0-8bde-113a0501c57e",
   "metadata": {},
   "outputs": [
    {
     "data": {
      "text/plain": [
       "6"
      ]
     },
     "execution_count": 5,
     "metadata": {},
     "output_type": "execute_result"
    }
   ],
   "source": [
    "sum(1,2,3)"
   ]
  },
  {
   "cell_type": "code",
   "execution_count": 14,
   "id": "cc889192-8c50-44a5-b4a5-062ee136442e",
   "metadata": {},
   "outputs": [
    {
     "name": "stdin",
     "output_type": "stream",
     "text": [
      " 5\n"
     ]
    },
    {
     "name": "stdout",
     "output_type": "stream",
     "text": [
      "[0, 1, 1, 8, 27]\n"
     ]
    }
   ],
   "source": [
    "n = int(input())\n",
    "\n",
    "a, b = 0, 1\n",
    "\n",
    "f = []\n",
    "\n",
    "for i in range(n):\n",
    "    f.append(a**3)\n",
    "    a, b = b, a+b\n",
    "\n",
    "print(f)"
   ]
  },
  {
   "cell_type": "code",
   "execution_count": 22,
   "id": "41c5ae61-fbaf-40bf-97cc-546f38161b38",
   "metadata": {},
   "outputs": [
    {
     "name": "stdin",
     "output_type": "stream",
     "text": [
      " 5\n"
     ]
    },
    {
     "name": "stdout",
     "output_type": "stream",
     "text": [
      "[0, 1, 1, 8, 27]\n"
     ]
    }
   ],
   "source": [
    "cube = lambda x: x**3 # complete the lambda function \n",
    "\n",
    "def fibonacci(n):\n",
    "    # return a list of fibonacci numbers\n",
    "    a, b = 0, 1\n",
    "    \n",
    "    f = []\n",
    "\n",
    "    for i in range(n):\n",
    "        f.append(a)\n",
    "        a, b = b, a+b\n",
    "    return f\n",
    "    \n",
    "\n",
    "if __name__ == '__main__':\n",
    "    n = int(input())\n",
    "    print(list(map(cube, fibonacci(n))))"
   ]
  },
  {
   "cell_type": "markdown",
   "id": "708c87b3-1166-4564-ae07-f32c6aec6fa9",
   "metadata": {},
   "source": [
    "## Validating Email Addresses With a Filter"
   ]
  },
  {
   "cell_type": "code",
   "execution_count": null,
   "id": "53488d09-2f52-4c66-8f70-bca9c40b0465",
   "metadata": {},
   "outputs": [],
   "source": [
    "import re\n",
    "def fun(s):\n",
    "    # return True if s is a valid email, else return False\n",
    "    email_pattern = r'^[a-zA-Z0-9-_]+@[a-zA-Z0-9]+\\.[a-zA-Z]{1,3}$'\n",
    "    return re.match(email_pattern, s)\n",
    "    \n",
    "def filter_mail(emails):\n",
    "    return list(filter(fun, emails))\n",
    "\n",
    "if __name__ == '__main__':\n",
    "    n = int(input())\n",
    "    emails = []\n",
    "    for _ in range(n):\n",
    "        emails.append(input())\n",
    "\n",
    "filtered_emails = filter_mail(emails)\n",
    "filtered_emails.sort()\n",
    "print(filtered_emails)"
   ]
  },
  {
   "cell_type": "markdown",
   "id": "a9012130-81ad-40b9-ad19-d0b9f862cc2c",
   "metadata": {},
   "source": [
    "## Reduce Function"
   ]
  },
  {
   "cell_type": "code",
   "execution_count": null,
   "id": "12d74662-4f2e-49b6-87a1-3946ddfff0d6",
   "metadata": {},
   "outputs": [],
   "source": [
    "from fractions import Fraction\n",
    "from functools import reduce\n",
    "\n",
    "def product(fracs):\n",
    "    t = reduce(lambda x, y: x*y, fracs) \n",
    "    # complete this line with a reduce statement\n",
    "    return t.numerator, t.denominator\n",
    "\n",
    "if __name__ == '__main__':\n",
    "    fracs = []\n",
    "    for _ in range(int(input())):\n",
    "        fracs.append(Fraction(*map(int, input().split())))\n",
    "    result = product(fracs)\n",
    "    print(*result)"
   ]
  }
 ],
 "metadata": {
  "kernelspec": {
   "display_name": "Python 3 (ipykernel)",
   "language": "python",
   "name": "python3"
  },
  "language_info": {
   "codemirror_mode": {
    "name": "ipython",
    "version": 3
   },
   "file_extension": ".py",
   "mimetype": "text/x-python",
   "name": "python",
   "nbconvert_exporter": "python",
   "pygments_lexer": "ipython3",
   "version": "3.11.5"
  },
  "toc": {
   "base_numbering": 1,
   "nav_menu": {},
   "number_sections": true,
   "sideBar": true,
   "skip_h1_title": false,
   "title_cell": "Table of Contents",
   "title_sidebar": "Contents",
   "toc_cell": false,
   "toc_position": {},
   "toc_section_display": true,
   "toc_window_display": false
  }
 },
 "nbformat": 4,
 "nbformat_minor": 5
}
