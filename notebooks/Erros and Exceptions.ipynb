{
 "cells": [
  {
   "cell_type": "markdown",
   "id": "ea98dbee-46df-4445-8f70-9dbb57733789",
   "metadata": {},
   "source": [
    "# Erros and Exceptions"
   ]
  },
  {
   "cell_type": "markdown",
   "id": "904babe4-1a9c-463b-94ab-f2efc2d5f7f8",
   "metadata": {},
   "source": [
    "## Incorrect Regex"
   ]
  },
  {
   "cell_type": "code",
   "execution_count": null,
   "id": "468cc81a-d906-41e7-8a31-293a6bb34c8f",
   "metadata": {},
   "outputs": [],
   "source": [
    "t = int(input())\n",
    "for _ in range(t):\n",
    "    "
   ]
  },
  {
   "cell_type": "code",
   "execution_count": 1,
   "id": "11e6b2df-37c7-483c-bb66-8cfa3bbb690d",
   "metadata": {},
   "outputs": [
    {
     "name": "stdin",
     "output_type": "stream",
     "text": [
      " 2\n"
     ]
    }
   ],
   "source": [
    "t = int(input())\n"
   ]
  },
  {
   "cell_type": "code",
   "execution_count": 3,
   "id": "f62186bb-a2ac-487a-809e-cf2b7d194a16",
   "metadata": {},
   "outputs": [
    {
     "name": "stdin",
     "output_type": "stream",
     "text": [
      " .*\\+\n"
     ]
    }
   ],
   "source": [
    "a = input()"
   ]
  },
  {
   "cell_type": "code",
   "execution_count": 4,
   "id": "b410e30c-bf1f-4c89-96ea-f8f6bd3c2af2",
   "metadata": {},
   "outputs": [
    {
     "name": "stdin",
     "output_type": "stream",
     "text": [
      " .*+\n"
     ]
    }
   ],
   "source": [
    "b = input()"
   ]
  },
  {
   "cell_type": "code",
   "execution_count": 6,
   "id": "b2917857-00cd-4faf-9dbb-3d6e1f46a871",
   "metadata": {},
   "outputs": [
    {
     "data": {
      "text/plain": [
       "re.compile(r'.*\\+', re.UNICODE)"
      ]
     },
     "execution_count": 6,
     "metadata": {},
     "output_type": "execute_result"
    }
   ],
   "source": [
    "import re\n",
    "re.compile(a)"
   ]
  },
  {
   "cell_type": "code",
   "execution_count": 7,
   "id": "0d02fe22-0d84-492a-81ca-357d3a933849",
   "metadata": {},
   "outputs": [
    {
     "data": {
      "text/plain": [
       "re.compile(r'.*+', re.UNICODE)"
      ]
     },
     "execution_count": 7,
     "metadata": {},
     "output_type": "execute_result"
    }
   ],
   "source": [
    "re.compile(b)"
   ]
  },
  {
   "cell_type": "code",
   "execution_count": null,
   "id": "ba71eb4d-f39e-4a56-b75d-358de6e46d55",
   "metadata": {},
   "outputs": [],
   "source": [
    "import re\n",
    "for i in range(int(input())):\n",
    "    try:\n",
    "        re.compile(input())\n",
    "        print(True)\n",
    "    except:\n",
    "        print(False)"
   ]
  },
  {
   "cell_type": "code",
   "execution_count": 14,
   "id": "823ef8c7-4d9d-4985-bc7c-db0fd73ec0c8",
   "metadata": {},
   "outputs": [],
   "source": [
    "# This is not working in Python3\n",
    "# Please use Pypy3"
   ]
  },
  {
   "cell_type": "markdown",
   "id": "b601f358-be34-4488-9a07-fa2ad65e993c",
   "metadata": {},
   "source": [
    "## Exceptions"
   ]
  },
  {
   "cell_type": "code",
   "execution_count": 15,
   "id": "a72e13f6-797f-46dc-8dc1-27182585fc2d",
   "metadata": {},
   "outputs": [
    {
     "ename": "ZeroDivisionError",
     "evalue": "division by zero",
     "output_type": "error",
     "traceback": [
      "\u001b[0;31m---------------------------------------------------------------------------\u001b[0m",
      "\u001b[0;31mZeroDivisionError\u001b[0m                         Traceback (most recent call last)",
      "Cell \u001b[0;32mIn[15], line 3\u001b[0m\n\u001b[1;32m      1\u001b[0m a \u001b[38;5;241m=\u001b[39m \u001b[38;5;124m'\u001b[39m\u001b[38;5;124m1\u001b[39m\u001b[38;5;124m'\u001b[39m\n\u001b[1;32m      2\u001b[0m b \u001b[38;5;241m=\u001b[39m \u001b[38;5;124m'\u001b[39m\u001b[38;5;124m0\u001b[39m\u001b[38;5;124m'\u001b[39m\n\u001b[0;32m----> 3\u001b[0m \u001b[38;5;28mprint\u001b[39m(\u001b[38;5;28;43mint\u001b[39;49m\u001b[43m(\u001b[49m\u001b[43ma\u001b[49m\u001b[43m)\u001b[49m\u001b[43m \u001b[49m\u001b[38;5;241;43m/\u001b[39;49m\u001b[43m \u001b[49m\u001b[38;5;28;43mint\u001b[39;49m\u001b[43m(\u001b[49m\u001b[43mb\u001b[49m\u001b[43m)\u001b[49m)\n",
      "\u001b[0;31mZeroDivisionError\u001b[0m: division by zero"
     ]
    }
   ],
   "source": [
    "a = '1'\n",
    "b = '0'\n",
    "print(int(a) / int(b))"
   ]
  },
  {
   "cell_type": "code",
   "execution_count": 16,
   "id": "85f237ef-cb9b-4844-aa3d-1d6ca5e7ccf0",
   "metadata": {},
   "outputs": [
    {
     "ename": "ValueError",
     "evalue": "invalid literal for int() with base 10: '#'",
     "output_type": "error",
     "traceback": [
      "\u001b[0;31m---------------------------------------------------------------------------\u001b[0m",
      "\u001b[0;31mValueError\u001b[0m                                Traceback (most recent call last)",
      "Cell \u001b[0;32mIn[16], line 3\u001b[0m\n\u001b[1;32m      1\u001b[0m a \u001b[38;5;241m=\u001b[39m \u001b[38;5;124m'\u001b[39m\u001b[38;5;124m1\u001b[39m\u001b[38;5;124m'\u001b[39m\n\u001b[1;32m      2\u001b[0m b \u001b[38;5;241m=\u001b[39m \u001b[38;5;124m'\u001b[39m\u001b[38;5;124m#\u001b[39m\u001b[38;5;124m'\u001b[39m\n\u001b[0;32m----> 3\u001b[0m \u001b[38;5;28mprint\u001b[39m(\u001b[38;5;28mint\u001b[39m(a) \u001b[38;5;241m/\u001b[39m \u001b[38;5;28;43mint\u001b[39;49m\u001b[43m(\u001b[49m\u001b[43mb\u001b[49m\u001b[43m)\u001b[49m)\n",
      "\u001b[0;31mValueError\u001b[0m: invalid literal for int() with base 10: '#'"
     ]
    }
   ],
   "source": [
    "a = '1'\n",
    "b = '#'\n",
    "print(int(a) / int(b))"
   ]
  },
  {
   "cell_type": "code",
   "execution_count": 18,
   "id": "380b7c1b-c2c0-4b6f-9ba4-8bd9d7c1b705",
   "metadata": {},
   "outputs": [
    {
     "name": "stdout",
     "output_type": "stream",
     "text": [
      "Error Code: division by zero\n"
     ]
    }
   ],
   "source": [
    "a = '1'\n",
    "b = '0'\n",
    "\n",
    "#Code\n",
    "try:\n",
    "    print(1/0)\n",
    "except ZeroDivisionError as e:\n",
    "    print(\"Error Code:\",e)"
   ]
  },
  {
   "cell_type": "code",
   "execution_count": 48,
   "id": "b57b4d41-1763-4654-b280-37794cc3aebf",
   "metadata": {},
   "outputs": [
    {
     "name": "stdin",
     "output_type": "stream",
     "text": [
      " 3\n",
      " 1 0\n"
     ]
    },
    {
     "name": "stdout",
     "output_type": "stream",
     "text": [
      "Error Code: integer division or modulo by zero\n"
     ]
    },
    {
     "name": "stdin",
     "output_type": "stream",
     "text": [
      " 2 $\n"
     ]
    },
    {
     "name": "stdout",
     "output_type": "stream",
     "text": [
      "Error Code: invalid literal for int() with base 10: '$'\n"
     ]
    },
    {
     "name": "stdin",
     "output_type": "stream",
     "text": [
      " 3 1\n"
     ]
    },
    {
     "name": "stdout",
     "output_type": "stream",
     "text": [
      "3\n"
     ]
    }
   ],
   "source": [
    "t = int(input())\n",
    "\n",
    "for _ in range(t):\n",
    "    a, b = map(str, input().split())\n",
    "    \n",
    "    try:\n",
    "        print(int(a)//int(b))\n",
    "    except ZeroDivisionError as e:\n",
    "        print(\"Error Code:\",e)\n",
    "    except ValueError as v:\n",
    "        print(\"Error Code:\", v)"
   ]
  },
  {
   "cell_type": "code",
   "execution_count": null,
   "id": "f547826a-3f36-496e-b181-9a200abcc60e",
   "metadata": {},
   "outputs": [],
   "source": []
  },
  {
   "cell_type": "code",
   "execution_count": 1,
   "id": "c273a500-9bf8-4664-b855-9ff505c1bf0e",
   "metadata": {},
   "outputs": [
    {
     "data": {
      "text/plain": [
       "True"
      ]
     },
     "execution_count": 1,
     "metadata": {},
     "output_type": "execute_result"
    }
   ],
   "source": [
    "any([1>0, 1==0, 1<0])"
   ]
  },
  {
   "cell_type": "code",
   "execution_count": 2,
   "id": "8b9dd8be-02ff-4a29-92f2-9705378091db",
   "metadata": {},
   "outputs": [
    {
     "data": {
      "text/plain": [
       "False"
      ]
     },
     "execution_count": 2,
     "metadata": {},
     "output_type": "execute_result"
    }
   ],
   "source": [
    "any([1<0, 2<1, 3<2])"
   ]
  },
  {
   "cell_type": "code",
   "execution_count": 3,
   "id": "59ccf678-e0f4-42dc-ba41-de1fa9a62eb4",
   "metadata": {},
   "outputs": [
    {
     "data": {
      "text/plain": [
       "True"
      ]
     },
     "execution_count": 3,
     "metadata": {},
     "output_type": "execute_result"
    }
   ],
   "source": [
    "all(['a'<'b', 'b'<'c'])"
   ]
  },
  {
   "cell_type": "code",
   "execution_count": 4,
   "id": "721fbb7f-b89c-4985-947b-fc8869b0a893",
   "metadata": {},
   "outputs": [
    {
     "data": {
      "text/plain": [
       "False"
      ]
     },
     "execution_count": 4,
     "metadata": {},
     "output_type": "execute_result"
    }
   ],
   "source": [
    "all(['a'<'b', 'c'<'b'])"
   ]
  },
  {
   "cell_type": "code",
   "execution_count": 50,
   "id": "0cf38db8-d99d-4741-9cac-728a101aac3c",
   "metadata": {},
   "outputs": [
    {
     "name": "stdin",
     "output_type": "stream",
     "text": [
      " 5\n",
      " 12 9 61 5 14\n"
     ]
    },
    {
     "name": "stdout",
     "output_type": "stream",
     "text": [
      "True\n"
     ]
    }
   ],
   "source": [
    "n = int(input())\n",
    "\n",
    "integers = input().split()\n",
    "\n",
    "\n",
    "print(all([int(i) > 0 for i in integers]) and any(a[::-1] == a for a in integers))"
   ]
  }
 ],
 "metadata": {
  "kernelspec": {
   "display_name": "Python 3 (ipykernel)",
   "language": "python",
   "name": "python3"
  },
  "language_info": {
   "codemirror_mode": {
    "name": "ipython",
    "version": 3
   },
   "file_extension": ".py",
   "mimetype": "text/x-python",
   "name": "python",
   "nbconvert_exporter": "python",
   "pygments_lexer": "ipython3",
   "version": "3.11.5"
  },
  "toc": {
   "base_numbering": 1,
   "nav_menu": {},
   "number_sections": true,
   "sideBar": true,
   "skip_h1_title": false,
   "title_cell": "Table of Contents",
   "title_sidebar": "Contents",
   "toc_cell": false,
   "toc_position": {},
   "toc_section_display": true,
   "toc_window_display": false
  }
 },
 "nbformat": 4,
 "nbformat_minor": 5
}
