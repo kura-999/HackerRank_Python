{
 "cells": [
  {
   "cell_type": "markdown",
   "id": "ea98dbee-46df-4445-8f70-9dbb57733789",
   "metadata": {},
   "source": [
    "# XML"
   ]
  },
  {
   "cell_type": "markdown",
   "id": "904babe4-1a9c-463b-94ab-f2efc2d5f7f8",
   "metadata": {},
   "source": [
    "## Re.start() & Re.end()"
   ]
  },
  {
   "cell_type": "code",
   "execution_count": 1,
   "id": "6fa455e2-88f1-427d-89c4-b4c84e2b7aa6",
   "metadata": {},
   "outputs": [
    {
     "data": {
      "text/plain": [
       "4"
      ]
     },
     "execution_count": 1,
     "metadata": {},
     "output_type": "execute_result"
    }
   ],
   "source": [
    "import re\n",
    "m = re.search(r'\\d+','1234')\n",
    "m.end()"
   ]
  },
  {
   "cell_type": "code",
   "execution_count": 2,
   "id": "81d53324-6f73-4aeb-9a50-cecfc3d5f02f",
   "metadata": {},
   "outputs": [
    {
     "data": {
      "text/plain": [
       "0"
      ]
     },
     "execution_count": 2,
     "metadata": {},
     "output_type": "execute_result"
    }
   ],
   "source": [
    "m.start()"
   ]
  },
  {
   "cell_type": "code",
   "execution_count": 3,
   "id": "0de3677c-e3e8-44ca-93ce-42b9ea23d621",
   "metadata": {},
   "outputs": [
    {
     "name": "stdout",
     "output_type": "stream",
     "text": [
      "<re.Match object; span=(0, 4), match='1234'>\n"
     ]
    }
   ],
   "source": [
    "print(m)"
   ]
  },
  {
   "cell_type": "code",
   "execution_count": 23,
   "id": "e8fb1f57-9948-4c3d-8122-02c2b768ab5f",
   "metadata": {},
   "outputs": [
    {
     "name": "stdin",
     "output_type": "stream",
     "text": [
      " \n",
      " \n"
     ]
    },
    {
     "ename": "NameError",
     "evalue": "name 'B' is not defined",
     "output_type": "error",
     "traceback": [
      "\u001b[0;31m---------------------------------------------------------------------------\u001b[0m",
      "\u001b[0;31mNameError\u001b[0m                                 Traceback (most recent call last)",
      "Cell \u001b[0;32mIn[23], line 8\u001b[0m\n\u001b[1;32m      4\u001b[0m k \u001b[38;5;241m=\u001b[39m \u001b[38;5;28minput\u001b[39m()\u001b[38;5;241m.\u001b[39mstrip()\n\u001b[1;32m      6\u001b[0m found \u001b[38;5;241m=\u001b[39m \u001b[38;5;28;01mFalse\u001b[39;00m\n\u001b[0;32m----> 8\u001b[0m \u001b[38;5;28;01mfor\u001b[39;00m match \u001b[38;5;129;01min\u001b[39;00m re\u001b[38;5;241m.\u001b[39mfinditer(\u001b[38;5;124mr\u001b[39m\u001b[38;5;124m'\u001b[39m\u001b[38;5;124m(?=\u001b[39m\u001b[38;5;132;01m{}\u001b[39;00m\u001b[38;5;124m'\u001b[39m\u001b[38;5;241m.\u001b[39mformat(re\u001b[38;5;241m.\u001b[39mescape(\u001b[43mB\u001b[49m)), A):\n\u001b[1;32m      9\u001b[0m     start_index \u001b[38;5;241m=\u001b[39m match\u001b[38;5;241m.\u001b[39mstart()\n\u001b[1;32m     10\u001b[0m     end_index \u001b[38;5;241m=\u001b[39m start_index \u001b[38;5;241m=\u001b[39m \u001b[38;5;28mlen\u001b[39m(B) \u001b[38;5;241m-\u001b[39m \u001b[38;5;241m1\u001b[39m\n",
      "\u001b[0;31mNameError\u001b[0m: name 'B' is not defined"
     ]
    }
   ],
   "source": [
    "import re\n",
    "\n",
    "A = input().strip()\n",
    "B = input().strip()\n",
    "\n",
    "found = False\n",
    "\n",
    "for match in re.finditer(r'(?={})'.format(re.escape(B)), A):\n",
    "    start_index = match.start()\n",
    "    end_index = start_index + len(B) - 1\n",
    "    print((start_index, end_index))\n",
    "    found = True\n",
    "\n",
    "if not found:\n",
    "    print((-1, -1))"
   ]
  },
  {
   "cell_type": "markdown",
   "id": "0e980e15-07e8-4831-a41b-663780a0fefb",
   "metadata": {},
   "source": [
    "## Regex Substitution"
   ]
  },
  {
   "cell_type": "code",
   "execution_count": 24,
   "id": "6641bbff-bb86-4174-9592-6014c2e988b0",
   "metadata": {},
   "outputs": [
    {
     "name": "stdout",
     "output_type": "stream",
     "text": [
      "1 4 9 16 25 36 49 64 81\n"
     ]
    }
   ],
   "source": [
    "import re\n",
    "\n",
    "#Squaring numbers\n",
    "def square(match):\n",
    "    number = int(match.group(0))\n",
    "    return str(number**2)\n",
    "\n",
    "print(re.sub(r\"\\d+\", square, \"1 2 3 4 5 6 7 8 9\"))"
   ]
  },
  {
   "cell_type": "code",
   "execution_count": 29,
   "id": "760404d2-46e8-4eea-8f86-66470b75c3a1",
   "metadata": {},
   "outputs": [
    {
     "name": "stdin",
     "output_type": "stream",
     "text": [
      " \n"
     ]
    },
    {
     "ename": "ValueError",
     "evalue": "invalid literal for int() with base 10: ''",
     "output_type": "error",
     "traceback": [
      "\u001b[0;31m---------------------------------------------------------------------------\u001b[0m",
      "\u001b[0;31mValueError\u001b[0m                                Traceback (most recent call last)",
      "Cell \u001b[0;32mIn[29], line 1\u001b[0m\n\u001b[0;32m----> 1\u001b[0m n \u001b[38;5;241m=\u001b[39m \u001b[38;5;28;43mint\u001b[39;49m\u001b[43m(\u001b[49m\u001b[38;5;28;43minput\u001b[39;49m\u001b[43m(\u001b[49m\u001b[43m)\u001b[49m\u001b[43m)\u001b[49m \u001b[38;5;66;03m# numbers of lines\u001b[39;00m\n\u001b[1;32m      3\u001b[0m \u001b[38;5;28;01mfor\u001b[39;00m _ \u001b[38;5;129;01min\u001b[39;00m \u001b[38;5;28mrange\u001b[39m(n):\n\u001b[1;32m      4\u001b[0m     \u001b[38;5;28mprint\u001b[39m(\u001b[38;5;28minput\u001b[39m())\n",
      "\u001b[0;31mValueError\u001b[0m: invalid literal for int() with base 10: ''"
     ]
    }
   ],
   "source": [
    "import re\n",
    "\n",
    "n = int(input()) \n",
    "\n",
    "for _ in range(n):\n",
    "    line = input()\n",
    "    line = re.sub(r\"(?<= )&&(?= )\", \"and\", line)\n",
    "    line = re.sub(r\"(?<= )\\|\\|(?= )\", \"or\", line)\n",
    "    print(line)"
   ]
  },
  {
   "cell_type": "code",
   "execution_count": null,
   "id": "992eff42-023d-4dad-b9f7-6a5373b2deed",
   "metadata": {},
   "outputs": [],
   "source": [
    "import re\n",
    "n = int(input())\n",
    "for _ in range(n):\n",
    "    print(re.sub(r\"(?<= )\\|\\|(?= )\", \"or\", re.sub(r\"(?<= )&&(?= )\", \"and\", input())))"
   ]
  },
  {
   "cell_type": "markdown",
   "id": "a362413c-8f24-43fe-977a-8ef81b131e35",
   "metadata": {},
   "source": [
    "## Validating Roman Numerals"
   ]
  },
  {
   "cell_type": "code",
   "execution_count": null,
   "id": "9d0a2a86-c83e-4e5a-a606-20e8c6d30141",
   "metadata": {},
   "outputs": [],
   "source": [
    "# roman_map = {\n",
    "#         1: \"I\", 5: \"V\",\n",
    "#         10: \"X\", 50: \"L\", \n",
    "#         100: \"C\", 500: \"D\",\n",
    "#         1000: \"M\",\n",
    "#     }\n",
    "\n",
    "# IXCMは3回まで繰り返し使える\n",
    "# VLDは繰り返し使えない\n",
    "\n",
    "# IはVとXの前に\n",
    "# XはLとCの前に\n",
    "# CはDとMの前\n",
    "\n",
    "# 数字は１〜3999\n",
    "\n",
    "# {m,n}\tm〜n回の繰り返し\n",
    "# $\t文字列の末尾\n",
    "# ?\t０回または１回"
   ]
  },
  {
   "cell_type": "code",
   "execution_count": 35,
   "id": "94c3f13b-ad66-406f-a90d-41fe118ca203",
   "metadata": {},
   "outputs": [
    {
     "name": "stdin",
     "output_type": "stream",
     "text": [
      " CDXXI\n"
     ]
    },
    {
     "name": "stdout",
     "output_type": "stream",
     "text": [
      "True\n"
     ]
    }
   ],
   "source": [
    "regex_pattern = r\"M{0,3}(CM|CD|D?C{0,3})(XC|XL|L?X{0,3})(IX|IV|V?I{0,3})$\"\t# Do not delete 'r'.\n",
    "\n",
    "import re\n",
    "print(str(bool(re.match(regex_pattern, input()))))"
   ]
  },
  {
   "cell_type": "markdown",
   "id": "9b1b8cc8-a435-4c02-b8a0-91acafde3b93",
   "metadata": {},
   "source": [
    "## Validating phone numbers"
   ]
  },
  {
   "cell_type": "markdown",
   "id": "c647b8a3-ae2c-4474-8752-4c3f336d7c43",
   "metadata": {},
   "source": [
    "start: 7, 8, 9"
   ]
  },
  {
   "cell_type": "code",
   "execution_count": 41,
   "id": "0d184014-b19b-46af-aa51-a3529807ec4e",
   "metadata": {},
   "outputs": [
    {
     "name": "stdin",
     "output_type": "stream",
     "text": [
      " 3\n",
      " 8956324712\n"
     ]
    },
    {
     "name": "stdout",
     "output_type": "stream",
     "text": [
      "YES\n"
     ]
    },
    {
     "name": "stdin",
     "output_type": "stream",
     "text": [
      " FACBGEGADB\n"
     ]
    },
    {
     "name": "stdout",
     "output_type": "stream",
     "text": [
      "NO\n"
     ]
    },
    {
     "name": "stdin",
     "output_type": "stream",
     "text": [
      " 85234789651\n"
     ]
    },
    {
     "name": "stdout",
     "output_type": "stream",
     "text": [
      "NO\n"
     ]
    }
   ],
   "source": [
    "import re\n",
    "\n",
    "n = int(input())\n",
    "\n",
    "regex_pattern = r\"^[789](\\d{9}$)\"\n",
    "\n",
    "for _ in range(n):\n",
    "    mobile_number = str(bool(re.match(regex_pattern, input())))\n",
    "    if mobile_number == 'True':\n",
    "        print(\"YES\")\n",
    "    else:\n",
    "        print(\"NO\")"
   ]
  },
  {
   "cell_type": "markdown",
   "id": "bd50b404-44c8-4607-8e82-f85ca57ae597",
   "metadata": {},
   "source": [
    "## Validating and Parsing Email Addresses"
   ]
  },
  {
   "cell_type": "markdown",
   "id": "72f88625-1a9e-4ecc-9161-1b2bf1d0dafa",
   "metadata": {},
   "source": [
    "username, domain name, extension\n",
    "\n",
    "usename: starts with english alphabetical chacter\n",
    "\n",
    "domain: only english alphabetical\n",
    "\n",
    "extension: 1, 2, 3 characters in length"
   ]
  },
  {
   "cell_type": "code",
   "execution_count": 44,
   "id": "eb6639f3-49e3-436d-a207-80f3dde343d9",
   "metadata": {},
   "outputs": [
    {
     "name": "stdout",
     "output_type": "stream",
     "text": [
      "('DOSHI', 'DOSHI@hackerrank.com')\n",
      "DOSHI <DOSHI@hackerrank.com>\n"
     ]
    }
   ],
   "source": [
    "import email.utils\n",
    "\n",
    "print(email.utils.parseaddr('DOSHI <DOSHI@hackerrank.com>'))\n",
    "print(email.utils.formataddr(('DOSHI', 'DOSHI@hackerrank.com')))"
   ]
  },
  {
   "cell_type": "code",
   "execution_count": 50,
   "id": "883c60b4-deef-4c3d-9d05-de7bb76f560a",
   "metadata": {},
   "outputs": [
    {
     "name": "stdout",
     "output_type": "stream",
     "text": [
      "DEXTER <<dexter@hotmail.com>>\n"
     ]
    }
   ],
   "source": [
    "print(email.utils.formataddr(('DEXTER', '<dexter@hotmail.com>')))"
   ]
  },
  {
   "cell_type": "code",
   "execution_count": 51,
   "id": "69ffe137-e460-434d-aa7d-57db19c2b391",
   "metadata": {},
   "outputs": [
    {
     "name": "stdout",
     "output_type": "stream",
     "text": [
      "VIRUS <<virus!@variable.:p>>\n"
     ]
    }
   ],
   "source": [
    "print(email.utils.formataddr(('VIRUS', '<virus!@variable.:p>')))"
   ]
  },
  {
   "cell_type": "code",
   "execution_count": 57,
   "id": "2b31bd34-9c8b-4d37-8c2d-243a27e888ee",
   "metadata": {},
   "outputs": [
    {
     "name": "stdin",
     "output_type": "stream",
     "text": [
      " 2\n",
      " DEXTER <dexter@hotmail.com>\n"
     ]
    },
    {
     "name": "stdout",
     "output_type": "stream",
     "text": [
      "DEXTER <dexter@hotmail.com>\n"
     ]
    },
    {
     "name": "stdin",
     "output_type": "stream",
     "text": [
      " VIRUS <virus!@variable.:p>\n"
     ]
    }
   ],
   "source": [
    "import re\n",
    "import email.utils\n",
    "\n",
    "regex_pattern = r\"[a-zA-Z][\\w\\.\\-]*@[a-zA-Z]+\\.[a-zA-Z]{1,3}$\"\n",
    "\n",
    "n = int(input())\n",
    "\n",
    "for _ in range(n):\n",
    "    name, address = email.utils.parseaddr(input())\n",
    "\n",
    "    if re.match(regex_pattern, address):\n",
    "        print(email.utils.formataddr((name, address)))"
   ]
  },
  {
   "cell_type": "markdown",
   "id": "66f37512-9468-49e4-844f-da21b0848c88",
   "metadata": {},
   "source": [
    "## Hex Color Code\n"
   ]
  },
  {
   "cell_type": "markdown",
   "id": "9f2782ae-5ec3-45b1-8312-5f77af887cad",
   "metadata": {},
   "source": [
    "■ It must start with a '#' symbol.\n",
    "■ It can have 3 or 6 digits.\n",
    "■ Each digit is in the range of 0 to F. (0-9 and A-F).\n",
    "■ A-F letters can be lower case. (a-f are also valid digits)."
   ]
  },
  {
   "cell_type": "code",
   "execution_count": 4,
   "id": "05cd427f-5749-495a-9980-242204777ead",
   "metadata": {},
   "outputs": [
    {
     "name": "stdin",
     "output_type": "stream",
     "text": [
      " \n"
     ]
    },
    {
     "ename": "ValueError",
     "evalue": "invalid literal for int() with base 10: ''",
     "output_type": "error",
     "traceback": [
      "\u001b[0;31m---------------------------------------------------------------------------\u001b[0m",
      "\u001b[0;31mValueError\u001b[0m                                Traceback (most recent call last)",
      "Cell \u001b[0;32mIn[4], line 5\u001b[0m\n\u001b[1;32m      1\u001b[0m \u001b[38;5;28;01mimport\u001b[39;00m \u001b[38;5;21;01mre\u001b[39;00m\n\u001b[1;32m      3\u001b[0m pattern \u001b[38;5;241m=\u001b[39m \u001b[38;5;124mr\u001b[39m\u001b[38;5;124m\"\u001b[39m\u001b[38;5;124m#[0-9a-fA-F]\u001b[39m\u001b[38;5;132;01m{6}\u001b[39;00m\u001b[38;5;124m|#[0-9a-fA-F]\u001b[39m\u001b[38;5;132;01m{3}\u001b[39;00m\u001b[38;5;124m(?=[.\u001b[39m\u001b[38;5;124m\\\u001b[39m\u001b[38;5;124m;\u001b[39m\u001b[38;5;124m\\\u001b[39m\u001b[38;5;124m)])\u001b[39m\u001b[38;5;124m\"\u001b[39m\n\u001b[0;32m----> 5\u001b[0m n \u001b[38;5;241m=\u001b[39m \u001b[38;5;28;43mint\u001b[39;49m\u001b[43m(\u001b[49m\u001b[38;5;28;43minput\u001b[39;49m\u001b[43m(\u001b[49m\u001b[43m)\u001b[49m\u001b[43m)\u001b[49m\n\u001b[1;32m      7\u001b[0m \u001b[38;5;28;01mfor\u001b[39;00m _ \u001b[38;5;129;01min\u001b[39;00m \u001b[38;5;28mrange\u001b[39m(n):\n\u001b[1;32m      8\u001b[0m     line \u001b[38;5;241m=\u001b[39m \u001b[38;5;28minput\u001b[39m()\n",
      "\u001b[0;31mValueError\u001b[0m: invalid literal for int() with base 10: ''"
     ]
    }
   ],
   "source": [
    "import re\n",
    "\n",
    "pattern = r\"#[0-9a-fA-F]{6}|#[0-9a-fA-F]{3}(?=[.\\;\\)])\"\n",
    "\n",
    "n = int(input())\n",
    "\n",
    "for _ in range(n):\n",
    "    line = input()\n",
    "    results = re.findall(pattern, line, re.S)\n",
    "    for result in results:\n",
    "        print(result)"
   ]
  },
  {
   "cell_type": "markdown",
   "id": "8b4aab37-37d1-48a2-b6a9-ba6e8bf8684a",
   "metadata": {},
   "source": [
    "## HTML Parser - Part 1"
   ]
  },
  {
   "cell_type": "code",
   "execution_count": 10,
   "id": "39604304-a87b-41bf-a6a5-e0e31be2ba76",
   "metadata": {},
   "outputs": [
    {
     "name": "stdout",
     "output_type": "stream",
     "text": [
      "Found a start tag  : html\n",
      "Found a start tag  : head\n",
      "Found a start tag  : title\n",
      "Found an end tag   : title\n",
      "Found an end tag   : head\n",
      "Found a start tag  : body\n",
      "Found a start tag  : h1\n",
      "Found an end tag   : h1\n",
      "Found an empty tag : br\n",
      "Found an end tag   : body\n",
      "Found an end tag   : html\n"
     ]
    }
   ],
   "source": [
    "from html.parser import HTMLParser\n",
    "\n",
    "# create a subclass and override the handler methods\n",
    "class MyHTMLParser(HTMLParser):\n",
    "    def handle_starttag(self, tag, attrs):\n",
    "        print(\"Found a start tag  :\", tag)\n",
    "    def handle_endtag(self, tag):\n",
    "        print(\"Found an end tag   :\", tag)\n",
    "    def handle_startendtag(self, tag, attrs):\n",
    "        print(\"Found an empty tag :\", tag)\n",
    "\n",
    "# instantiate the parser and fed it some HTML\n",
    "parser = MyHTMLParser()\n",
    "parser.feed(\"<html><head><title>HTML Parser - I</title></head>\"\n",
    "            +\"<body><h1>HackerRank</h1><br /></body></html>\")"
   ]
  },
  {
   "cell_type": "code",
   "execution_count": 12,
   "id": "a02c01e2-6966-4b65-b75c-93c9600906ea",
   "metadata": {},
   "outputs": [
    {
     "name": "stdout",
     "output_type": "stream",
     "text": [
      "Found a start tag  : html\n",
      "Found a start tag  : head\n",
      "Found a start tag  : title\n",
      "Found an end tag   : title\n",
      "Found an end tag   : head\n",
      "Found a start tag  : body\n",
      "Found a start tag  : h1\n",
      "Found an end tag   : h1\n",
      "Found an empty tag : br\n",
      "Found an end tag   : body\n",
      "Found an end tag   : html\n"
     ]
    }
   ],
   "source": [
    "parser.feed(\"<html><head><title>HTML Parser - I</title></head>\"\n",
    "            +\"<body data-modal-target class='1'><h1>HackerRank</h1><br /></body></html>\")"
   ]
  },
  {
   "cell_type": "code",
   "execution_count": 31,
   "id": "19d439dd-3450-4e9d-aa70-af361a870a81",
   "metadata": {},
   "outputs": [
    {
     "name": "stdin",
     "output_type": "stream",
     "text": [
      " 2\n",
      " <html><head><title>HTML Parser - I</title></head>\n",
      " <body data-modal-target class='1'><h1>HackerRank</h1><br /></body></html>\n"
     ]
    },
    {
     "name": "stdout",
     "output_type": "stream",
     "text": [
      "Start : html\n",
      "Start : head\n",
      "Start : title\n",
      "End   : title\n",
      "End   : head\n",
      "Start : body\n",
      "-> data-modal-target > None\n",
      "-> class > 1\n",
      "Start : h1\n",
      "End   : h1\n",
      "Empty : br\n",
      "End   : body\n",
      "End   : html\n"
     ]
    }
   ],
   "source": [
    "from html.parser import HTMLParser\n",
    "\n",
    "class MyHTMLParser(HTMLParser):\n",
    "    def handle_starttag(self, tag, attrs):\n",
    "        print(\"Start :\", tag)\n",
    "        for attr, value in attrs:\n",
    "            print(f'-> {attr} > {value if value else \"None\"}')\n",
    "    def handle_endtag(self, tag):\n",
    "        print(\"End   :\", tag)\n",
    "    def handle_startendtag(self, tag, attrs):\n",
    "        print(\"Empty :\", tag)\n",
    "        for attr, value in attrs:\n",
    "            print(f'-> {attr} > {value if value else \"None\"}')\n",
    "\n",
    "n = int(input())\n",
    "html_code = \"\\n\".join([input() for _ in range(n)])\n",
    "\n",
    "parser = MyHTMLParser()\n",
    "parser.feed(html_code)"
   ]
  },
  {
   "cell_type": "markdown",
   "id": "f173a6af-3636-42af-b692-bf06363c0952",
   "metadata": {},
   "source": [
    "## HTML Parser - Part 2"
   ]
  },
  {
   "cell_type": "code",
   "execution_count": 36,
   "id": "6d5eca38-8f32-4e5a-917b-e08e14db6fc3",
   "metadata": {},
   "outputs": [],
   "source": [
    "from html.parser import HTMLParser\n",
    "\n",
    "class MyHTMLParser(HTMLParser):\n",
    "    def handle_comment(self, data):\n",
    "        print('Comment :', data)"
   ]
  },
  {
   "cell_type": "code",
   "execution_count": 37,
   "id": "bf91404d-1e83-430f-aae5-f9572bde6de6",
   "metadata": {},
   "outputs": [],
   "source": [
    "from html.parser import HTMLParser\n",
    "\n",
    "class MyHTMLParser(HTMLParser):\n",
    "    def handle_data(self, data):\n",
    "        print(\"Data     :\", data)"
   ]
  },
  {
   "cell_type": "code",
   "execution_count": 67,
   "id": "12d7e869-9607-4e06-a282-eaced8891f2a",
   "metadata": {},
   "outputs": [],
   "source": [
    "from html.parser import HTMLParser\n",
    "\n",
    "class MyHTMLParser(HTMLParser):\n",
    "    def handle_comment(self, data):\n",
    "        if '\\n' in data:\n",
    "            print(\">>> Multi-line Comment\")\n",
    "            print(data)\n",
    "        else:\n",
    "            print(\">>> Single-line Comment\")\n",
    "            print(data)\n",
    "    def handle_data(self, data):\n",
    "        if data.strip():\n",
    "            print(\">>> Data\")\n",
    "            print(data)"
   ]
  },
  {
   "cell_type": "code",
   "execution_count": 69,
   "id": "61dd45d0-32d2-4e76-b2b6-2a277ecc25b9",
   "metadata": {},
   "outputs": [
    {
     "name": "stdin",
     "output_type": "stream",
     "text": [
      " 4\n",
      " <!--[if IE 9]>IE9-specific content\n",
      " <![endif]-->\n",
      " <div> Welcome to HackerRank</div>\n",
      " <!--[if IE 9]>IE9-specific content<![endif]-->\n"
     ]
    },
    {
     "name": "stdout",
     "output_type": "stream",
     "text": [
      ">>> Multi-line Comment\n",
      "[if IE 9]>IE9-specific content\n",
      "<![endif]\n",
      ">>> Data\n",
      " Welcome to HackerRank\n",
      ">>> Single-line Comment\n",
      "[if IE 9]>IE9-specific content<![endif]\n"
     ]
    }
   ],
   "source": [
    "html = \"\"       \n",
    "for i in range(int(input())):\n",
    "    html += input().rstrip()\n",
    "    html += '\\n'\n",
    "    \n",
    "parser = MyHTMLParser()\n",
    "parser.feed(html)\n",
    "parser.close()"
   ]
  },
  {
   "cell_type": "code",
   "execution_count": 66,
   "id": "9866d644-314a-4a97-808f-faaaa6f0dec4",
   "metadata": {},
   "outputs": [
    {
     "data": {
      "text/plain": [
       "'<!--[if IE 9]>IE9-specific content\\n<![endif]-->\\n<div> Welcome to HackerRank</div>\\n<!--[if IE 9]>IE9-specific content<![endif]-->\\n'"
      ]
     },
     "execution_count": 66,
     "metadata": {},
     "output_type": "execute_result"
    }
   ],
   "source": [
    "html"
   ]
  },
  {
   "cell_type": "markdown",
   "id": "54137f6d-9a12-43fa-850f-a4f3578075ad",
   "metadata": {},
   "source": [
    "## Detect Floating Point Number"
   ]
  },
  {
   "cell_type": "code",
   "execution_count": 92,
   "id": "3c95d9e7-c2c4-4efb-9da8-39c5503e52dd",
   "metadata": {},
   "outputs": [
    {
     "name": "stdin",
     "output_type": "stream",
     "text": [
      " \n"
     ]
    },
    {
     "ename": "ValueError",
     "evalue": "invalid literal for int() with base 10: ''",
     "output_type": "error",
     "traceback": [
      "\u001b[0;31m---------------------------------------------------------------------------\u001b[0m",
      "\u001b[0;31mValueError\u001b[0m                                Traceback (most recent call last)",
      "Cell \u001b[0;32mIn[92], line 3\u001b[0m\n\u001b[1;32m      1\u001b[0m \u001b[38;5;28;01mimport\u001b[39;00m \u001b[38;5;21;01mre\u001b[39;00m\n\u001b[0;32m----> 3\u001b[0m t \u001b[38;5;241m=\u001b[39m \u001b[38;5;28;43mint\u001b[39;49m\u001b[43m(\u001b[49m\u001b[38;5;28;43minput\u001b[39;49m\u001b[43m(\u001b[49m\u001b[43m)\u001b[49m\u001b[43m)\u001b[49m\n\u001b[1;32m      5\u001b[0m pattern \u001b[38;5;241m=\u001b[39m \u001b[38;5;124mr\u001b[39m\u001b[38;5;124m\"\u001b[39m\u001b[38;5;124m^([+-]?\u001b[39m\u001b[38;5;124m\\\u001b[39m\u001b[38;5;124md+(\u001b[39m\u001b[38;5;124m\\\u001b[39m\u001b[38;5;124m.\u001b[39m\u001b[38;5;124m\\\u001b[39m\u001b[38;5;124md+)?$)|(\u001b[39m\u001b[38;5;124m\\\u001b[39m\u001b[38;5;124m.\u001b[39m\u001b[38;5;124m\\\u001b[39m\u001b[38;5;124md+$)\u001b[39m\u001b[38;5;124m\"\u001b[39m\n\u001b[1;32m      7\u001b[0m \u001b[38;5;28;01mfor\u001b[39;00m _ \u001b[38;5;129;01min\u001b[39;00m \u001b[38;5;28mrange\u001b[39m(t):\n",
      "\u001b[0;31mValueError\u001b[0m: invalid literal for int() with base 10: ''"
     ]
    }
   ],
   "source": [
    "import re\n",
    "\n",
    "t = int(input())\n",
    "\n",
    "pattern = r\"^([+-]?\\d+(\\.\\d+)?$)|(\\.\\d+$)\"\n",
    "\n",
    "for _ in range(t):\n",
    "    print(bool(re.match(pattern, input())))"
   ]
  },
  {
   "cell_type": "markdown",
   "id": "61b96214-2369-462d-9487-0038adb51d93",
   "metadata": {},
   "source": [
    "## Re.split()"
   ]
  },
  {
   "cell_type": "code",
   "execution_count": 105,
   "id": "071565e7-1767-428c-a1ff-25767132c4b8",
   "metadata": {},
   "outputs": [
    {
     "name": "stdin",
     "output_type": "stream",
     "text": [
      " 100,000,000.000\n"
     ]
    },
    {
     "name": "stdout",
     "output_type": "stream",
     "text": [
      "100\n",
      "000\n",
      "000\n",
      "000\n"
     ]
    }
   ],
   "source": [
    "regex_pattern = r\"\\,|\\.\"\t# Do not delete 'r'.\n",
    "\n",
    "import re\n",
    "print(\"\\n\".join(re.split(regex_pattern, input())))"
   ]
  },
  {
   "cell_type": "markdown",
   "id": "54a28d55-1110-408f-a2dc-ff5aeace0352",
   "metadata": {},
   "source": [
    "## Group(), Groups() & Groupdict()"
   ]
  },
  {
   "cell_type": "code",
   "execution_count": 107,
   "id": "497ef211-7f97-46e7-ac44-7003a11154df",
   "metadata": {},
   "outputs": [],
   "source": [
    "import re\n",
    "m = re.match(r'(\\w+)@(\\w+)\\.(\\w+)', 'username@hackerrank.com')"
   ]
  },
  {
   "cell_type": "code",
   "execution_count": 109,
   "id": "8d2de3c0-71b5-4ace-8165-07a6702c6e92",
   "metadata": {},
   "outputs": [
    {
     "name": "stdout",
     "output_type": "stream",
     "text": [
      "username@hackerrank.com\n",
      "username\n",
      "hackerrank\n",
      "com\n",
      "('username', 'hackerrank', 'com')\n"
     ]
    }
   ],
   "source": [
    "print(m.group(0))\n",
    "print(m.group(1))\n",
    "print(m.group(2))\n",
    "print(m.group(3))\n",
    "print(m.group(1, 2, 3))"
   ]
  },
  {
   "cell_type": "code",
   "execution_count": 110,
   "id": "f518ff1a-09a8-44d8-b29c-1e4791df1508",
   "metadata": {},
   "outputs": [
    {
     "data": {
      "text/plain": [
       "('username', 'hackerrank')"
      ]
     },
     "execution_count": 110,
     "metadata": {},
     "output_type": "execute_result"
    }
   ],
   "source": [
    "import re\n",
    "m = re.match(r'(\\w+)@(\\w+)', 'username@hackerrank.com')\n",
    "m.groups()"
   ]
  },
  {
   "cell_type": "code",
   "execution_count": 112,
   "id": "efcbb0a0-a894-4668-8eff-97f2dedea28e",
   "metadata": {},
   "outputs": [
    {
     "data": {
      "text/plain": [
       "{'user': 'myname', 'website': 'hackerrank', 'extension': 'com'}"
      ]
     },
     "execution_count": 112,
     "metadata": {},
     "output_type": "execute_result"
    }
   ],
   "source": [
    "import re\n",
    "m = re.match(r'(?P<user>\\w+)@(?P<website>\\w+)\\.(?P<extension>\\w+)', 'myname@hackerrank.com')\n",
    "m.groupdict()"
   ]
  },
  {
   "cell_type": "code",
   "execution_count": 271,
   "id": "11a035e0-948c-4da9-a450-1951cb0efd9d",
   "metadata": {},
   "outputs": [
    {
     "name": "stdin",
     "output_type": "stream",
     "text": [
      " \n"
     ]
    },
    {
     "name": "stdout",
     "output_type": "stream",
     "text": [
      "-1\n"
     ]
    }
   ],
   "source": [
    "import re\n",
    "\n",
    "s = input()\n",
    "\n",
    "pattern = r'([a-zA-Z0-9])\\1'\n",
    "\n",
    "m = re.search(pattern, s)\n",
    "\n",
    "if m:\n",
    "    print(m.group(1))\n",
    "\n",
    "else:\n",
    "    print('-1')"
   ]
  },
  {
   "cell_type": "markdown",
   "id": "3824ef09-d9be-4623-b8b4-29c655d58493",
   "metadata": {},
   "source": [
    "## Re.findall() & Re.finditer()"
   ]
  },
  {
   "cell_type": "code",
   "execution_count": 209,
   "id": "da8c235f-c754-47ee-9b79-1be11717b850",
   "metadata": {},
   "outputs": [
    {
     "data": {
      "text/plain": [
       "['h',\n",
       " 't',\n",
       " 't',\n",
       " 'p',\n",
       " 'w',\n",
       " 'w',\n",
       " 'w',\n",
       " 'h',\n",
       " 'a',\n",
       " 'c',\n",
       " 'k',\n",
       " 'e',\n",
       " 'r',\n",
       " 'r',\n",
       " 'a',\n",
       " 'n',\n",
       " 'k',\n",
       " 'c',\n",
       " 'o',\n",
       " 'm']"
      ]
     },
     "execution_count": 209,
     "metadata": {},
     "output_type": "execute_result"
    }
   ],
   "source": [
    "import re\n",
    "re.findall(r\"\\w\", \"http://www.hackerrank.com/\")"
   ]
  },
  {
   "cell_type": "code",
   "execution_count": 211,
   "id": "21050b1b-b04c-4fc0-a7c8-ec4dc3f7d074",
   "metadata": {},
   "outputs": [
    {
     "data": {
      "text/plain": [
       "<callable_iterator at 0x10e346830>"
      ]
     },
     "execution_count": 211,
     "metadata": {},
     "output_type": "execute_result"
    }
   ],
   "source": [
    "re.finditer(r'\\w', 'http://www.hackerrank.com/')"
   ]
  },
  {
   "cell_type": "code",
   "execution_count": 238,
   "id": "1509fa0c-87a5-4724-ae69-d9244aa251d4",
   "metadata": {},
   "outputs": [
    {
     "name": "stdout",
     "output_type": "stream",
     "text": [
      "h\n",
      "t\n",
      "t\n",
      "p\n",
      "w\n",
      "w\n",
      "w\n",
      "h\n",
      "a\n",
      "c\n",
      "k\n",
      "e\n",
      "r\n",
      "r\n",
      "a\n",
      "n\n",
      "k\n",
      "c\n",
      "o\n",
      "m\n"
     ]
    }
   ],
   "source": [
    "for m in re.finditer(r'\\w', 'http://www.hackerrank.com/'):\n",
    "    print(m.group())"
   ]
  },
  {
   "cell_type": "code",
   "execution_count": 246,
   "id": "0057e26a-0376-4213-9502-3285b3248532",
   "metadata": {},
   "outputs": [
    {
     "data": {
      "text/plain": [
       "<map at 0x10e511090>"
      ]
     },
     "execution_count": 246,
     "metadata": {},
     "output_type": "execute_result"
    }
   ],
   "source": [
    "map(lambda x: x.group(),re.finditer(r'\\w','http://www.hackerrank.com/'))"
   ]
  },
  {
   "cell_type": "code",
   "execution_count": 283,
   "id": "4bc4b12d-5323-40c6-bc88-054e4d39721a",
   "metadata": {},
   "outputs": [
    {
     "name": "stdin",
     "output_type": "stream",
     "text": [
      " abaabaabaabaae\n"
     ]
    },
    {
     "name": "stdout",
     "output_type": "stream",
     "text": [
      "aa\n",
      "aa\n",
      "aa\n",
      "aae\n"
     ]
    }
   ],
   "source": [
    "import re\n",
    "\n",
    "pattern = r\"[aeiouAEIOU]+\"\n",
    "s = input().replace(\" \", \"\")\n",
    "m = re.findall(pattern, s)\n",
    "\n",
    "correct = 0\n",
    "one_letter = 0\n",
    "\n",
    "if m:\n",
    "    for string in m:\n",
    "        if len(string) >= 2:\n",
    "            correct += 1\n",
    "            print(string)\n",
    "        else:\n",
    "            one_letter +=1\n",
    "else:\n",
    "    print(-1)\n",
    "\n",
    "if correct == 0 and one_letter > 1:\n",
    "    print(-1)"
   ]
  },
  {
   "cell_type": "code",
   "execution_count": null,
   "id": "5fb1fdaa-4f91-4698-9945-4aa8492839a6",
   "metadata": {},
   "outputs": [],
   "source": [
    "([qwrtypsdfghjklzxcvbnmQWRTYPSDFGHJKLZXCVBNM]+)([aeiouAEIOU]{2,})([qwrtypsdfghjklzxcvbnmQWRTYPSDFGHJKLZXCVBNM]+)"
   ]
  },
  {
   "cell_type": "code",
   "execution_count": 292,
   "id": "33e649c4-daed-4df0-9cf5-98428e9958c0",
   "metadata": {},
   "outputs": [
    {
     "name": "stdin",
     "output_type": "stream",
     "text": [
      " rabcdeefgyYhFjkIoomnpOeorteeeeet\n"
     ]
    },
    {
     "name": "stdout",
     "output_type": "stream",
     "text": [
      "ee\n",
      "Ioo\n",
      "Oeo\n",
      "eeeee\n"
     ]
    }
   ],
   "source": [
    "import re\n",
    "\n",
    "s = input()\n",
    "\n",
    "pattern = r\"(?<=[qwrtypsdfghjklzxcvbnmQWRTYPSDFGHJKLZXCVBNM])([aeiouAEIOU]{2,})(?=[qwrtypsdfghjklzxcvbnmQWRTYPSDFGHJKLZXCVBNM])\"\n",
    "\n",
    "matches = re.findall(pattern, s)\n",
    "\n",
    "if matches:\n",
    "    for match in matches:\n",
    "        print(match)\n",
    "\n",
    "else:\n",
    "    print(-1)"
   ]
  },
  {
   "cell_type": "markdown",
   "id": "a7783ffe-9da1-4803-9557-53eaaa0999db",
   "metadata": {},
   "source": [
    "## Detect HTML Tags, Attributes and Attribute Values"
   ]
  },
  {
   "cell_type": "code",
   "execution_count": 305,
   "id": "8b37e942-2870-4cea-8b37-b86bdce4371a",
   "metadata": {},
   "outputs": [],
   "source": [
    "from html.parser import HTMLParser\n",
    "\n",
    "class MyHTMLParser(HTMLParser):\n",
    "    def handle_starttag(self, tag, attrs):\n",
    "        print(tag)\n",
    "        for attr, value in attrs:\n",
    "            print(f'-> {attr} > {value if value else \"None\"}')\n",
    "\n",
    "n = int(input())\n",
    "html_code = \"\\n\".join([input() for _ in range(n)])\n",
    "\n",
    "parser = MyHTMLParser()\n",
    "parser.feed(html_code)"
   ]
  },
  {
   "cell_type": "markdown",
   "id": "7ba252a9-e6ed-436f-840f-ed62a5b3cf76",
   "metadata": {},
   "source": [
    "## Validating UID"
   ]
  },
  {
   "cell_type": "code",
   "execution_count": null,
   "id": "b9981d5e-8219-4d57-a64e-ad63a1fda233",
   "metadata": {},
   "outputs": [],
   "source": [
    "import re\n",
    "\n",
    "pattern = r\"^(?=(?:[a-zA-Z0-9])(?!.*(.).*\\1))(?!.*(.).*\\2)(?=(?:.*[A-Z]){2,})(?=(?:.*\\d){3,})[a-zA-Z0-9]{10}$\"\n",
    "\n",
    "t = int(input())\n",
    "\n",
    "for _ in range(t):\n",
    "    uid = input()\n",
    "    if re.match(pattern, uid):\n",
    "        print(\"Valid\")\n",
    "    else:\n",
    "        print(\"Invalid\")"
   ]
  },
  {
   "cell_type": "markdown",
   "id": "b8640465-dc3d-4f2b-a691-c78c551b3c81",
   "metadata": {},
   "source": [
    "## Validating Credit Card Numbers"
   ]
  },
  {
   "cell_type": "code",
   "execution_count": 344,
   "id": "9ed5767a-03f3-4d2b-acef-7886b042d3a7",
   "metadata": {},
   "outputs": [
    {
     "name": "stdin",
     "output_type": "stream",
     "text": [
      " 6\n",
      " 4123456789123456\n"
     ]
    },
    {
     "name": "stdout",
     "output_type": "stream",
     "text": [
      "Valid\n"
     ]
    },
    {
     "name": "stdin",
     "output_type": "stream",
     "text": [
      " 5123-4567-8912-3456\n"
     ]
    },
    {
     "name": "stdout",
     "output_type": "stream",
     "text": [
      "Valid\n"
     ]
    },
    {
     "name": "stdin",
     "output_type": "stream",
     "text": [
      " 61234-567-8912-3456\n"
     ]
    },
    {
     "name": "stdout",
     "output_type": "stream",
     "text": [
      "Invalid\n"
     ]
    },
    {
     "name": "stdin",
     "output_type": "stream",
     "text": [
      " 4123356789123456\n"
     ]
    },
    {
     "name": "stdout",
     "output_type": "stream",
     "text": [
      "Valid\n"
     ]
    },
    {
     "name": "stdin",
     "output_type": "stream",
     "text": [
      " 5133-3367-8912-3456\n"
     ]
    },
    {
     "name": "stdout",
     "output_type": "stream",
     "text": [
      "Invalid\n"
     ]
    },
    {
     "name": "stdin",
     "output_type": "stream",
     "text": [
      " 5123 - 3567 - 8912 - 3456\n"
     ]
    },
    {
     "name": "stdout",
     "output_type": "stream",
     "text": [
      "Invalid\n"
     ]
    }
   ],
   "source": [
    "import re\n",
    "\n",
    "pattern = r\"^[4-6]\\d{3}(-?\\d{4}){3}$\"\n",
    "\n",
    "n = int(input())\n",
    "\n",
    "for _ in range(n):\n",
    "    credit = input()\n",
    "\n",
    "    if re.match(pattern, credit) and not re.search(r\"(\\d)\\1{3}\", credit.replace(\"-\",\"\")):\n",
    "        print(\"Valid\")\n",
    "    else:\n",
    "        print(\"Invalid\")"
   ]
  },
  {
   "cell_type": "markdown",
   "id": "54c64ed0-df29-4e12-b95a-f7cd2cd03308",
   "metadata": {},
   "source": [
    "## Validating Postal Codes"
   ]
  },
  {
   "cell_type": "code",
   "execution_count": 351,
   "id": "73c1867f-e645-4d38-8929-9d910c2fa780",
   "metadata": {},
   "outputs": [
    {
     "name": "stdin",
     "output_type": "stream",
     "text": [
      " 523563\n"
     ]
    },
    {
     "name": "stdout",
     "output_type": "stream",
     "text": [
      "True\n"
     ]
    }
   ],
   "source": [
    "regex_integer_in_range = r\"^[1-9]\\d{5}$\"\t# Do not delete 'r'.\n",
    "regex_alternating_repetitive_digit_pair = r\"(\\d{1})(?=\\d{1}\\1)\"\t# Do not delete 'r'.\n",
    "\n",
    "\n",
    "import re\n",
    "P = input()\n",
    "\n",
    "print (bool(re.match(regex_integer_in_range, P)) \n",
    "and len(re.findall(regex_alternating_repetitive_digit_pair, P)) < 2)"
   ]
  },
  {
   "cell_type": "markdown",
   "id": "c11b9d7f-6530-41d6-85f3-8dfbef7b2163",
   "metadata": {},
   "source": [
    "## Matrix Script"
   ]
  },
  {
   "cell_type": "code",
   "execution_count": null,
   "id": "2bb801d7-6a43-4438-ad8c-ca6d48290e0e",
   "metadata": {},
   "outputs": [],
   "source": [
    "#!/bin/python3\n",
    "\n",
    "import math\n",
    "import os\n",
    "import random\n",
    "import re\n",
    "import sys\n",
    "\n",
    "\n",
    "\n",
    "\n",
    "first_multiple_input = input().rstrip().split()\n",
    "\n",
    "n = int(first_multiple_input[0])\n",
    "\n",
    "m = int(first_multiple_input[1])\n",
    "\n",
    "matrix = []\n",
    "\n",
    "for _ in range(n):\n",
    "    matrix_item = input()\n",
    "    matrix.append(matrix_item)\n",
    "\n",
    "decoded_script = \"\"\n",
    "\n",
    "for col in range(m):\n",
    "    for row in range(n):\n",
    "        decoded_script += matrix[row][col]\n",
    "\n",
    "pattern = r\"(?<=[a-zA-Z0-9])[^a-zA-Z0-9]+(?=[a-zA-Z0-9])\"\n",
    "\n",
    "string = re.sub(pattern, \" \", decoded_script)\n",
    "\n",
    "print(string)"
   ]
  }
 ],
 "metadata": {
  "kernelspec": {
   "display_name": "Python 3 (ipykernel)",
   "language": "python",
   "name": "python3"
  },
  "language_info": {
   "codemirror_mode": {
    "name": "ipython",
    "version": 3
   },
   "file_extension": ".py",
   "mimetype": "text/x-python",
   "name": "python",
   "nbconvert_exporter": "python",
   "pygments_lexer": "ipython3",
   "version": "3.11.5"
  },
  "toc": {
   "base_numbering": 1,
   "nav_menu": {},
   "number_sections": true,
   "sideBar": true,
   "skip_h1_title": false,
   "title_cell": "Table of Contents",
   "title_sidebar": "Contents",
   "toc_cell": false,
   "toc_position": {},
   "toc_section_display": true,
   "toc_window_display": false
  }
 },
 "nbformat": 4,
 "nbformat_minor": 5
}
