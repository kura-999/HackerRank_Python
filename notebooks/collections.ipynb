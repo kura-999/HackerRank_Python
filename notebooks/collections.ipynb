{
 "cells": [
  {
   "cell_type": "markdown",
   "id": "ea98dbee-46df-4445-8f70-9dbb57733789",
   "metadata": {},
   "source": [
    "# Collections"
   ]
  },
  {
   "cell_type": "markdown",
   "id": "904babe4-1a9c-463b-94ab-f2efc2d5f7f8",
   "metadata": {},
   "source": [
    "## ollections.Counter()"
   ]
  },
  {
   "cell_type": "code",
   "execution_count": 1,
   "id": "836eb674-7459-4ad3-bf29-c654dc98a604",
   "metadata": {},
   "outputs": [
    {
     "name": "stdout",
     "output_type": "stream",
     "text": [
      "Counter({2: 4, 3: 4, 1: 3, 4: 2, 5: 1})\n"
     ]
    }
   ],
   "source": [
    "from collections import Counter\n",
    "\n",
    "myList = [1,1,2,3,4,5,3,2,3,4,2,1,2,3]\n",
    "print(Counter(myList))"
   ]
  },
  {
   "cell_type": "code",
   "execution_count": 2,
   "id": "b80e7888-f5ea-4f42-adfd-c9c47d939f9f",
   "metadata": {},
   "outputs": [
    {
     "name": "stdout",
     "output_type": "stream",
     "text": [
      "dict_items([(1, 3), (2, 4), (3, 4), (4, 2), (5, 1)])\n"
     ]
    }
   ],
   "source": [
    "print(Counter(myList).items())"
   ]
  },
  {
   "cell_type": "code",
   "execution_count": 3,
   "id": "40e73799-e8b3-4ac5-8f45-01938be5dd40",
   "metadata": {},
   "outputs": [
    {
     "name": "stdout",
     "output_type": "stream",
     "text": [
      "dict_keys([1, 2, 3, 4, 5])\n"
     ]
    }
   ],
   "source": [
    "print(Counter(myList).keys())"
   ]
  },
  {
   "cell_type": "code",
   "execution_count": 4,
   "id": "f739b6d3-98be-4971-9449-602fd66d814b",
   "metadata": {},
   "outputs": [
    {
     "name": "stdout",
     "output_type": "stream",
     "text": [
      "dict_values([3, 4, 4, 2, 1])\n"
     ]
    }
   ],
   "source": [
    "print(Counter(myList).values())"
   ]
  },
  {
   "cell_type": "code",
   "execution_count": null,
   "id": "f37b0583-916a-499b-aeab-c1920223bacb",
   "metadata": {},
   "outputs": [],
   "source": [
    "from collections import Counter\n",
    "\n",
    "X = int(input()) \n",
    "shoes = [str(x) for x in input().split()] \n",
    "inventory = Counter(shoes) \n",
    "rev = 0 \n",
    "N = int(input()) \n",
    "for _ in range(N):\n",
    "    ss, price = [int(x) for x in input().split()] \n",
    "    if inventory[str(ss)] > 0:\n",
    "        rev += price \n",
    "        inventory[str(ss)] -= 1 \n",
    "print(str(rev))"
   ]
  },
  {
   "cell_type": "markdown",
   "id": "ebf57f1e-7ab3-47f7-8166-d30163a50055",
   "metadata": {},
   "source": [
    "## DefaultDict Tutorial"
   ]
  },
  {
   "cell_type": "code",
   "execution_count": null,
   "id": "dbdb059f-3544-4ad2-a08f-a34c87cc04e8",
   "metadata": {},
   "outputs": [],
   "source": [
    "from collections import defaultdict\n",
    "\n",
    "A = defaultdict(list)\n",
    "\n",
    "n, m = map(int, input().split())\n",
    "\n",
    "for i in range(n):\n",
    "    A[input()].append(i+1)\n",
    "\n",
    "for _ in range(m):\n",
    "    word = input()\n",
    "    if word in A:\n",
    "        print(\" \".join(list(map(str, A[word]))))\n",
    "    else:\n",
    "        print(-1)    "
   ]
  },
  {
   "cell_type": "markdown",
   "id": "85ce18f2-ccac-49c2-bfbd-ddd1414e2425",
   "metadata": {},
   "source": [
    "## collections.namedtuple()"
   ]
  },
  {
   "cell_type": "code",
   "execution_count": null,
   "id": "e1a54691-3699-44f1-aee1-43be0d7a76a2",
   "metadata": {},
   "outputs": [],
   "source": [
    "from collections import namedtuple\n",
    "Point = namedtuple('Point', 'x,y')\n",
    "pt1 = Point(1,2)\n",
    "pt2 = Point(3,4)\n",
    "dot_product = (pt1.x * pt2.x) + (pt1.y * pt2.y)\n",
    "print(dot_product)"
   ]
  },
  {
   "cell_type": "code",
   "execution_count": null,
   "id": "cb2ae718-33bd-4151-8c1f-328b6370d494",
   "metadata": {},
   "outputs": [],
   "source": [
    "Car = namedtuple('Car', 'Price Mileage Colour Class')\n",
    "xyz = Car(Price = 100000, Mileage = 30, Colour = 'Cyan', Class = 'Y')\n",
    "print(xyz)"
   ]
  },
  {
   "cell_type": "code",
   "execution_count": null,
   "id": "93094b7e-7943-4ea0-8916-4864f14cabeb",
   "metadata": {},
   "outputs": [],
   "source": [
    "print(xyz.Class)"
   ]
  },
  {
   "cell_type": "code",
   "execution_count": null,
   "id": "f564a34c-c490-4772-a75a-bcbaf3bae396",
   "metadata": {},
   "outputs": [],
   "source": [
    "from collections import namedtuple\n",
    "\n",
    "N = int(input())\n",
    "student = namedtuple('student', input().split())\n",
    "\n",
    "marks = 0\n",
    "\n",
    "for _ in range(N):\n",
    "    columns = student(*input().split())\n",
    "\n",
    "    marks += int(columns.MARKS)\n",
    "\n",
    "print(round(marks/N, 2))"
   ]
  },
  {
   "cell_type": "markdown",
   "id": "960b7c3a-5994-4386-8a9c-78d2e0dbe710",
   "metadata": {},
   "source": [
    "## collections.OrderedDict"
   ]
  },
  {
   "cell_type": "code",
   "execution_count": null,
   "id": "e362da26-9942-42c6-926c-9aad3f0dad6a",
   "metadata": {},
   "outputs": [],
   "source": [
    "from collections import OrderedDict"
   ]
  },
  {
   "cell_type": "code",
   "execution_count": null,
   "id": "05b00fac-e0f3-4c87-bfcc-fe617f13f9d2",
   "metadata": {},
   "outputs": [],
   "source": [
    "from collections import OrderedDict\n",
    "\n",
    "N = int(input())\n",
    "ordered_dictionary = OrderedDict()\n",
    "\n",
    "for _ in range(N):\n",
    "    item, price = input().rsplit(' ', 1)\n",
    "    if item in ordered_dictionary:\n",
    "        ordered_dictionary[item] += int(price)\n",
    "    else:\n",
    "        ordered_dictionary[item] = int(price)\n",
    "\n",
    "for name, price in ordered_dictionary.items():\n",
    "    print(f\"{name} {price}\")"
   ]
  },
  {
   "cell_type": "markdown",
   "id": "211712f8-93e8-4662-b863-31ed6b97b42a",
   "metadata": {},
   "source": [
    "## Word Order"
   ]
  },
  {
   "cell_type": "code",
   "execution_count": null,
   "id": "41e3b669-b19f-417d-a6c8-e0a555caf2f4",
   "metadata": {},
   "outputs": [],
   "source": [
    "from collections import Counter\n",
    "\n",
    "n = int(input())\n",
    "\n",
    "myList = []\n",
    "\n",
    "for _ in range(n):\n",
    "    myList.append(input())\n",
    "\n",
    "counter = Counter(myList)\n",
    "\n",
    "print(len(counter))\n",
    "print(\" \".join(map(str, list(counter.values()))))"
   ]
  },
  {
   "cell_type": "markdown",
   "id": "6afdc8a7-0f82-44f4-95b1-8ef534ad0098",
   "metadata": {},
   "source": [
    "## Collections.deque()"
   ]
  },
  {
   "cell_type": "code",
   "execution_count": null,
   "id": "0b84d035-004e-473f-8838-2e1170be73e5",
   "metadata": {},
   "outputs": [],
   "source": [
    "from collections import deque\n",
    "\n",
    "N = int(input())\n",
    "d = deque()\n",
    "\n",
    "for _ in range(N):\n",
    "    m, *rest = input().split()\n",
    "    if rest:\n",
    "        n = rest[0]\n",
    "        if m == 'append':\n",
    "            d.append(n)\n",
    "        elif m == 'appendleft':\n",
    "            d.appendleft(n)\n",
    "    else:\n",
    "        if m == 'pop':\n",
    "            d.pop()\n",
    "        elif m == 'popleft':\n",
    "            d.popleft()\n",
    "print(' '.join(d))"
   ]
  },
  {
   "cell_type": "markdown",
   "id": "8622c855-db82-4893-b8eb-4b729bb9d6de",
   "metadata": {},
   "source": [
    "## Piling Up!"
   ]
  },
  {
   "cell_type": "code",
   "execution_count": null,
   "id": "028e8d4f-11ca-46f5-a67d-3a26c1a95749",
   "metadata": {},
   "outputs": [],
   "source": [
    "t = int(input())\n",
    "\n",
    "for _ in range(t):\n",
    "    size = int(input())\n",
    "    blocks = list(map(int, input().split()))\n",
    "    result = True\n",
    "    for i in range(size//2):\n",
    "        if blocks[i] < blocks[-(i+1)]:\n",
    "            result = False\n",
    "            break\n",
    "    if result:\n",
    "        print('Yes')\n",
    "    else:\n",
    "        print('No')"
   ]
  },
  {
   "cell_type": "code",
   "execution_count": null,
   "id": "852de44e-ed5a-4859-a7c5-fa2c47bc681e",
   "metadata": {},
   "outputs": [],
   "source": [
    "from collections import deque\n",
    "\n",
    "t = int(input())\n",
    "\n",
    "for _ in range(t):\n",
    "    size = int(input())\n",
    "    blocks = deque(map(int, input().split()))\n",
    "    \n",
    "    last_cube = float('inf')\n",
    "    possible = True\n",
    "\n",
    "    while blocks:\n",
    "        if blocks[0] >= blocks[-1]:\n",
    "            current_cube = blocks.popleft()\n",
    "        else:\n",
    "            current_cube = blocks.pop()\n",
    "\n",
    "        if current_cube > last_cube:\n",
    "            possible = False\n",
    "            break\n",
    "            \n",
    "        last_cube = current_cube\n",
    "        \n",
    "    if possible:\n",
    "        print('Yes')\n",
    "    else:\n",
    "        print('No')"
   ]
  }
 ],
 "metadata": {
  "kernelspec": {
   "display_name": "Python 3 (ipykernel)",
   "language": "python",
   "name": "python3"
  },
  "language_info": {
   "codemirror_mode": {
    "name": "ipython",
    "version": 3
   },
   "file_extension": ".py",
   "mimetype": "text/x-python",
   "name": "python",
   "nbconvert_exporter": "python",
   "pygments_lexer": "ipython3",
   "version": "3.11.5"
  },
  "toc": {
   "base_numbering": 1,
   "nav_menu": {},
   "number_sections": true,
   "sideBar": true,
   "skip_h1_title": false,
   "title_cell": "Table of Contents",
   "title_sidebar": "Contents",
   "toc_cell": false,
   "toc_position": {},
   "toc_section_display": true,
   "toc_window_display": false
  }
 },
 "nbformat": 4,
 "nbformat_minor": 5
}
