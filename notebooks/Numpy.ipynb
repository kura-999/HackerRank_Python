{
 "cells": [
  {
   "cell_type": "markdown",
   "id": "ea98dbee-46df-4445-8f70-9dbb57733789",
   "metadata": {},
   "source": [
    "# Numpy"
   ]
  },
  {
   "cell_type": "markdown",
   "id": "904babe4-1a9c-463b-94ab-f2efc2d5f7f8",
   "metadata": {},
   "source": [
    "## Array Mathematics\n"
   ]
  },
  {
   "cell_type": "code",
   "execution_count": 1,
   "id": "179a9465-9f54-4aa1-a9dd-ae7ca0bca686",
   "metadata": {},
   "outputs": [
    {
     "name": "stdout",
     "output_type": "stream",
     "text": [
      "[ 6.  8. 10. 12.]\n",
      "[ 6.  8. 10. 12.]\n",
      "[-4. -4. -4. -4.]\n",
      "[-4. -4. -4. -4.]\n",
      "[ 5. 12. 21. 32.]\n",
      "[ 5. 12. 21. 32.]\n",
      "[0.2        0.33333333 0.42857143 0.5       ]\n",
      "[0.2        0.33333333 0.42857143 0.5       ]\n",
      "[1. 2. 3. 4.]\n",
      "[1. 2. 3. 4.]\n",
      "[1.0000e+00 6.4000e+01 2.1870e+03 6.5536e+04]\n",
      "[1.0000e+00 6.4000e+01 2.1870e+03 6.5536e+04]\n"
     ]
    }
   ],
   "source": [
    "import numpy\n",
    "\n",
    "a = numpy.array([1,2,3,4], float)\n",
    "b = numpy.array([5,6,7,8], float)\n",
    "\n",
    "print(a + b)                     #[  6.   8.  10.  12.]\n",
    "print(numpy.add(a, b))          #[  6.   8.  10.  12.]\n",
    "\n",
    "print(a - b)                     #[-4. -4. -4. -4.]\n",
    "print(numpy.subtract(a, b))      #[-4. -4. -4. -4.]\n",
    "\n",
    "print(a * b)                     #[  5.  12.  21.  32.]\n",
    "print(numpy.multiply(a, b))      #[  5.  12.  21.  32.]\n",
    "\n",
    "print(a / b)                     #[ 0.2         0.33333333  0.42857143  0.5       ]\n",
    "print(numpy.divide(a, b))        #[ 0.2         0.33333333  0.42857143  0.5       ]\n",
    "\n",
    "print(a % b)                     #[ 1.  2.  3.  4.]\n",
    "print(numpy.mod(a, b))           #[ 1.  2.  3.  4.]\n",
    "\n",
    "print(a**b)                      #[  1.00000000e+00   6.40000000e+01   2.18700000e+03   6.55360000e+04]\n",
    "print(numpy.power(a, b))         #[  1.00000000e+00   6.40000000e+01   2.18700000e+03   6.55360000e+04]"
   ]
  },
  {
   "cell_type": "code",
   "execution_count": 44,
   "id": "52f56ec6-64f8-468d-8514-fe5b1cd724de",
   "metadata": {},
   "outputs": [
    {
     "name": "stdin",
     "output_type": "stream",
     "text": [
      " 1 4\n",
      " 1 2 3 4\n",
      " 5 6 7 8\n"
     ]
    },
    {
     "name": "stdout",
     "output_type": "stream",
     "text": [
      "[[ 6  8 10 12]]\n",
      "[[-4 -4 -4 -4]]\n",
      "[[ 5 12 21 32]]\n",
      "[[0 0 0 0]]\n",
      "[[1 2 3 4]]\n",
      "[[    1    64  2187 65536]]\n"
     ]
    }
   ],
   "source": [
    "import numpy \n",
    "\n",
    "n, m = map(int, input().split())\n",
    "\n",
    "a = numpy.array([list(map(int, input().split())) for i in range(n)])\n",
    "b = numpy.array([list(map(int, input().split())) for i in range(n)])\n",
    "\n",
    "print(numpy.add(a, b))\n",
    "print(numpy.subtract(a, b))\n",
    "print(numpy.multiply(a, b))\n",
    "print(numpy.floor_divide(a, b))\n",
    "print(numpy.mod(a, b))\n",
    "print(numpy.power(a, b))"
   ]
  },
  {
   "cell_type": "markdown",
   "id": "6e3e5625-6ded-44d9-9d4a-1000876884ce",
   "metadata": {},
   "source": [
    "## Floor, Ceil and Rint"
   ]
  },
  {
   "cell_type": "code",
   "execution_count": 48,
   "id": "dce8c001-741c-4c23-b983-02c904506f5f",
   "metadata": {},
   "outputs": [],
   "source": [
    "import numpy\n",
    "\n",
    "my_array = numpy.array([1.1, 2.2, 3.3, 4.4, 5.5, 6.6, 7.7, 8.8, 9.9])"
   ]
  },
  {
   "cell_type": "code",
   "execution_count": 49,
   "id": "a8e8c19f-4c7a-4b75-a0bd-36afd3402dd8",
   "metadata": {},
   "outputs": [
    {
     "name": "stdout",
     "output_type": "stream",
     "text": [
      "[1. 2. 3. 4. 5. 6. 7. 8. 9.]\n"
     ]
    }
   ],
   "source": [
    "print(numpy.floor(my_array))"
   ]
  },
  {
   "cell_type": "code",
   "execution_count": 50,
   "id": "6cd5cc34-2742-4262-a85f-52cb46b8761a",
   "metadata": {},
   "outputs": [
    {
     "name": "stdout",
     "output_type": "stream",
     "text": [
      "[ 2.  3.  4.  5.  6.  7.  8.  9. 10.]\n"
     ]
    }
   ],
   "source": [
    "print(numpy.ceil(my_array))"
   ]
  },
  {
   "cell_type": "code",
   "execution_count": 51,
   "id": "7d6ceecf-4ffd-47e8-8767-abd15caad3eb",
   "metadata": {},
   "outputs": [
    {
     "name": "stdout",
     "output_type": "stream",
     "text": [
      "[ 1.  2.  3.  4.  6.  7.  8.  9. 10.]\n"
     ]
    }
   ],
   "source": [
    "print(numpy.rint(my_array))"
   ]
  },
  {
   "cell_type": "code",
   "execution_count": 72,
   "id": "2586228e-44e9-4b00-909b-55d94a26c156",
   "metadata": {},
   "outputs": [
    {
     "name": "stdin",
     "output_type": "stream",
     "text": [
      " 1.1 2.2 3.3 4.4 5.5 6.6 7.7 8.8 9.9\n"
     ]
    },
    {
     "name": "stdout",
     "output_type": "stream",
     "text": [
      "[ 1.  2.  3.  4.  5.  6.  7.  8.  9.]\n",
      "[  2.   3.   4.   5.   6.   7.   8.   9.  10.]\n",
      "[  1.   2.   3.   4.   6.   7.   8.   9.  10.]\n"
     ]
    }
   ],
   "source": [
    "import numpy\n",
    "\n",
    "a = numpy.array(list(map(float, input().split())))\n",
    "numpy.set_printoptions(legacy='1.13')\n",
    "\n",
    "print(numpy.floor(a))\n",
    "print(numpy.ceil(a))\n",
    "print(numpy.rint(a))"
   ]
  },
  {
   "cell_type": "markdown",
   "id": "0de082c8-8ffa-439c-bf45-883703d7e270",
   "metadata": {},
   "source": [
    "## Sum and Prod"
   ]
  },
  {
   "cell_type": "code",
   "execution_count": 74,
   "id": "27d248c1-c9d1-444a-acec-c8f8e3a394a7",
   "metadata": {},
   "outputs": [
    {
     "name": "stdout",
     "output_type": "stream",
     "text": [
      "[[1 2]\n",
      " [3 4]]\n",
      "[4 6]\n",
      "[3 7]\n",
      "10\n",
      "10\n"
     ]
    }
   ],
   "source": [
    "import numpy\n",
    "\n",
    "my_array = numpy.array([ [1, 2], [3, 4] ])\n",
    "\n",
    "print(my_array)\n",
    "print(numpy.sum(my_array, axis=0))\n",
    "print(numpy.sum(my_array, axis=1))\n",
    "print(numpy.sum(my_array, axis=None))\n",
    "print(numpy.sum(my_array))"
   ]
  },
  {
   "cell_type": "code",
   "execution_count": 75,
   "id": "9c32717c-1887-4309-9d24-12b3243c2e75",
   "metadata": {},
   "outputs": [
    {
     "name": "stdout",
     "output_type": "stream",
     "text": [
      "[3 8]\n",
      "[ 2 12]\n",
      "24\n",
      "24\n"
     ]
    }
   ],
   "source": [
    "print(numpy.prod(my_array, axis=0))\n",
    "print(numpy.prod(my_array, axis=1))\n",
    "print(numpy.prod(my_array, axis=None))\n",
    "print(numpy.prod(my_array))"
   ]
  },
  {
   "cell_type": "code",
   "execution_count": 97,
   "id": "1c213194-a689-4c7f-82de-61fe97084c35",
   "metadata": {},
   "outputs": [
    {
     "name": "stdin",
     "output_type": "stream",
     "text": [
      " 2 2\n",
      " 1 2\n",
      " 3 2\n"
     ]
    },
    {
     "name": "stdout",
     "output_type": "stream",
     "text": [
      "16\n"
     ]
    }
   ],
   "source": [
    "import numpy\n",
    "\n",
    "n, m = map(int, input().split())\n",
    "\n",
    "a = numpy.array([list(map(int, input().split())) for i in range(n)])\n",
    "\n",
    "print(numpy.prod(numpy.sum(a,axis=0)))"
   ]
  },
  {
   "cell_type": "markdown",
   "id": "23a92228-6fc8-4d28-b24c-85317547b3d1",
   "metadata": {},
   "source": [
    "## Inner and Outer"
   ]
  },
  {
   "cell_type": "code",
   "execution_count": 98,
   "id": "0ef8470f-e386-4d43-b939-59ead4f8826f",
   "metadata": {},
   "outputs": [
    {
     "name": "stdout",
     "output_type": "stream",
     "text": [
      "4\n"
     ]
    }
   ],
   "source": [
    "import numpy\n",
    "\n",
    "A = numpy.array([0, 1])\n",
    "B = numpy.array([3, 4])\n",
    "\n",
    "print(numpy.inner(A, B))"
   ]
  },
  {
   "cell_type": "code",
   "execution_count": 99,
   "id": "5442c20b-4855-475d-a23c-d4167d1a6d9f",
   "metadata": {},
   "outputs": [
    {
     "name": "stdout",
     "output_type": "stream",
     "text": [
      "[[0 0]\n",
      " [3 4]]\n"
     ]
    }
   ],
   "source": [
    "print(numpy.outer(A, B))"
   ]
  },
  {
   "cell_type": "code",
   "execution_count": 100,
   "id": "455c5ee9-b133-48f3-b35b-240dc416bc81",
   "metadata": {},
   "outputs": [
    {
     "name": "stdin",
     "output_type": "stream",
     "text": [
      " 0 1\n",
      " 2 3\n"
     ]
    },
    {
     "name": "stdout",
     "output_type": "stream",
     "text": [
      "3\n",
      "[[0 0]\n",
      " [2 3]]\n"
     ]
    }
   ],
   "source": [
    "import numpy\n",
    "\n",
    "a = numpy.array(list(map(int, input().split())))\n",
    "b = numpy.array(list(map(int, input().split())))\n",
    "\n",
    "print(numpy.inner(a, b))\n",
    "print(numpy.outer(a, b))"
   ]
  },
  {
   "cell_type": "markdown",
   "id": "1418f7d7-5b72-42f5-afdf-b4d77e7c8595",
   "metadata": {},
   "source": [
    "## Polynominas"
   ]
  },
  {
   "cell_type": "code",
   "execution_count": 103,
   "id": "dbacf3d6-52b4-46e1-8e6f-b3420293b1a1",
   "metadata": {},
   "outputs": [
    {
     "name": "stdout",
     "output_type": "stream",
     "text": [
      "[  1. -11.   9.  11. -10.]\n"
     ]
    }
   ],
   "source": [
    "print(numpy.poly([-1, 1, 1, 10]))\n",
    "\n",
    "# (x+1)(x-1)(x-1)(x-10)=0 となる係数を探す -> p(x) = 1*x^4-11*x^3+9*x^2+11*x-10"
   ]
  },
  {
   "cell_type": "code",
   "execution_count": 102,
   "id": "b3dfe417-e4ea-4ea5-9856-45a9038966f3",
   "metadata": {},
   "outputs": [
    {
     "name": "stdout",
     "output_type": "stream",
     "text": [
      "[-1.  1.]\n"
     ]
    }
   ],
   "source": [
    "print(numpy.roots([1, 0, -1]))\n",
    "\n",
    "# 1*x^3+0*x^2-1*x=0となるxを探す -> x(x+1)(x-1)=0 "
   ]
  },
  {
   "cell_type": "code",
   "execution_count": 105,
   "id": "cf8f2e8d-c87d-4180-98de-5cc7c2af817f",
   "metadata": {},
   "outputs": [
    {
     "name": "stdout",
     "output_type": "stream",
     "text": [
      "[ 0.33333333  0.5         1.          0.        ]\n"
     ]
    }
   ],
   "source": [
    "print(numpy.polyint([1, 1, 1]))\n",
    "\n",
    "# p(x)=1*x^3+1*x^2+1*xを積分した時の係数,デフォルトは積分定数Cは0"
   ]
  },
  {
   "cell_type": "code",
   "execution_count": 107,
   "id": "c2b8c4a5-9f1f-4904-931c-c85d414c6ee3",
   "metadata": {},
   "outputs": [
    {
     "name": "stdout",
     "output_type": "stream",
     "text": [
      "[3 2 1]\n"
     ]
    }
   ],
   "source": [
    "print(numpy.polyder([1, 1, 1, 1]))\n",
    "\n",
    "# p(x)=1*x^3+1*x^2+1*x+1を微分した時の係数"
   ]
  },
  {
   "cell_type": "code",
   "execution_count": 109,
   "id": "19c95ab1-44af-4f26-ba34-b9f370bd961b",
   "metadata": {},
   "outputs": [
    {
     "name": "stdout",
     "output_type": "stream",
     "text": [
      "34\n"
     ]
    }
   ],
   "source": [
    "print(numpy.polyval([1, -2, 0, 2], 4))\n",
    "\n",
    "# 係数 [1, -2, 0, 2] は p(x) = 1x^3-2x^2+4 に対応、　この多項式をx=4で評価"
   ]
  },
  {
   "cell_type": "code",
   "execution_count": 113,
   "id": "4929d19e-759a-4246-b53e-6cd54f50b45c",
   "metadata": {},
   "outputs": [
    {
     "name": "stdin",
     "output_type": "stream",
     "text": [
      " 1.1 2 3\n",
      " 0\n"
     ]
    },
    {
     "name": "stdout",
     "output_type": "stream",
     "text": [
      "3.0\n"
     ]
    }
   ],
   "source": [
    "import numpy\n",
    "\n",
    "coefficients = numpy.array(list(map(float,input().split())))\n",
    "\n",
    "x = int(input())\n",
    "\n",
    "print(numpy.polyval(coefficients, x))"
   ]
  },
  {
   "cell_type": "markdown",
   "id": "75396eb4-b395-4eef-aa3b-f352e91e72d9",
   "metadata": {},
   "source": [
    "## Linear Algebra"
   ]
  },
  {
   "cell_type": "code",
   "execution_count": 118,
   "id": "774ec7cb-68d2-4aeb-a231-e8fa570fc04e",
   "metadata": {},
   "outputs": [
    {
     "name": "stdout",
     "output_type": "stream",
     "text": [
      "-3.0\n"
     ]
    }
   ],
   "source": [
    "print(numpy.linalg.det([[1 , 2], [2, 1]]))\n",
    "# 1*1 - 2*2 (a11*a22-a12*a21)\n",
    "# 行列式"
   ]
  },
  {
   "cell_type": "code",
   "execution_count": 117,
   "id": "81aa9cfe-7ca2-49e0-bea5-7a34bdf6da31",
   "metadata": {},
   "outputs": [
    {
     "name": "stdout",
     "output_type": "stream",
     "text": [
      "[ 3. -1.]\n",
      "[[ 0.70710678 -0.70710678]\n",
      " [ 0.70710678  0.70710678]]\n"
     ]
    }
   ],
   "source": [
    "vals, vecs = numpy.linalg.eig([[1, 2], [2, 1]])\n",
    "print(vals)\n",
    "print(vecs\n",
    "\n",
    "# 固有値と固有ベクトル"
   ]
  },
  {
   "cell_type": "code",
   "execution_count": 119,
   "id": "6c1dcf3f-fe96-4f48-bb38-16fa7878a157",
   "metadata": {},
   "outputs": [
    {
     "name": "stdout",
     "output_type": "stream",
     "text": [
      "[[-0.33333333  0.66666667]\n",
      " [ 0.66666667 -0.33333333]]\n"
     ]
    }
   ],
   "source": [
    "print(numpy.linalg.inv([[1, 2], [2, 1]]))\n",
    "\n",
    "# 逆行列"
   ]
  },
  {
   "cell_type": "code",
   "execution_count": 125,
   "id": "adf23894-6598-4d84-b6b4-048ae149658b",
   "metadata": {},
   "outputs": [
    {
     "name": "stdin",
     "output_type": "stream",
     "text": [
      " 2\n",
      " 1.1 1.1\n",
      " 1.1 1.2\n"
     ]
    },
    {
     "name": "stdout",
     "output_type": "stream",
     "text": [
      "0.11\n"
     ]
    }
   ],
   "source": [
    "n = int(input())\n",
    "\n",
    "a = numpy.array([list(map(float, input().split())) for i in range(n)])\n",
    "print(round(numpy.linalg.det(a), 2))"
   ]
  },
  {
   "cell_type": "markdown",
   "id": "36ce94c5-292d-4265-a29a-ba023815fff0",
   "metadata": {},
   "source": [
    "## Concatenate"
   ]
  },
  {
   "cell_type": "code",
   "execution_count": 2,
   "id": "69447c85-df91-4b4f-9b46-3c98fcaab001",
   "metadata": {},
   "outputs": [
    {
     "name": "stdout",
     "output_type": "stream",
     "text": [
      "[1 2 3 4 5 6 7 8 9]\n"
     ]
    }
   ],
   "source": [
    "import numpy\n",
    "\n",
    "array_1 = numpy.array([1,2,3])\n",
    "array_2 = numpy.array([4,5,6])\n",
    "array_3 = numpy.array([7,8,9])\n",
    "\n",
    "print(numpy.concatenate((array_1, array_2, array_3)))"
   ]
  },
  {
   "cell_type": "code",
   "execution_count": 3,
   "id": "d78e5587-05ae-4559-a9d9-cb1e7b35b36e",
   "metadata": {},
   "outputs": [
    {
     "name": "stdout",
     "output_type": "stream",
     "text": [
      "[[1 2 3 0 0 0]\n",
      " [0 0 0 7 8 9]]\n"
     ]
    }
   ],
   "source": [
    "array_1 = numpy.array([[1,2,3],[0,0,0]])\n",
    "array_2 = numpy.array([[0,0,0],[7,8,9]])\n",
    "\n",
    "print(numpy.concatenate((array_1, array_2), axis=1))"
   ]
  },
  {
   "cell_type": "code",
   "execution_count": 7,
   "id": "5367b013-609d-4c30-b8c5-cf9b560cc793",
   "metadata": {},
   "outputs": [
    {
     "name": "stdin",
     "output_type": "stream",
     "text": [
      " 4 3 2\n",
      " 1 2\n",
      " 1 2\n",
      " 1 2\n",
      " 1 2\n",
      " 3 4\n",
      " 3 4\n",
      " 3 4\n"
     ]
    },
    {
     "name": "stdout",
     "output_type": "stream",
     "text": [
      "[[1 2]\n",
      " [1 2]\n",
      " [1 2]\n",
      " [1 2]\n",
      " [3 4]\n",
      " [3 4]\n",
      " [3 4]]\n"
     ]
    }
   ],
   "source": [
    "n, m, p = map(int, input().split())\n",
    "\n",
    "arrays = numpy.array([list(map(int, input().split())) for _ in range(n+m)])\n",
    "\n",
    "print(arrays)"
   ]
  },
  {
   "cell_type": "markdown",
   "id": "da7b86c6-ad66-46f5-92a3-2b91b345ec65",
   "metadata": {},
   "source": [
    "## Zeros and Ones"
   ]
  },
  {
   "cell_type": "code",
   "execution_count": 8,
   "id": "c7402f58-4fa7-4c8a-9048-5e6531cce7ab",
   "metadata": {},
   "outputs": [
    {
     "name": "stdout",
     "output_type": "stream",
     "text": [
      "[[0. 0.]]\n"
     ]
    }
   ],
   "source": [
    "print(numpy.zeros((1,2)))"
   ]
  },
  {
   "cell_type": "code",
   "execution_count": 10,
   "id": "449fe19f-6198-4cef-963e-45e74b4e3543",
   "metadata": {},
   "outputs": [
    {
     "name": "stdout",
     "output_type": "stream",
     "text": [
      "[[0 0]]\n"
     ]
    },
    {
     "name": "stderr",
     "output_type": "stream",
     "text": [
      "/var/folders/fj/rf2znhjj53z6lgms_bsqgt740000gn/T/ipykernel_63340/3425974107.py:1: DeprecationWarning: `np.int` is a deprecated alias for the builtin `int`. To silence this warning, use `int` by itself. Doing this will not modify any behavior and is safe. When replacing `np.int`, you may wish to use e.g. `np.int64` or `np.int32` to specify the precision. If you wish to review your current use, check the release note link for additional information.\n",
      "Deprecated in NumPy 1.20; for more details and guidance: https://numpy.org/devdocs/release/1.20.0-notes.html#deprecations\n",
      "  print(numpy.zeros((1,2), dtype=numpy.int))\n"
     ]
    }
   ],
   "source": [
    "print(numpy.zeros((1,2), dtype=numpy.int))"
   ]
  },
  {
   "cell_type": "code",
   "execution_count": 11,
   "id": "f50e965c-cadd-436e-93b9-2135e33141b3",
   "metadata": {},
   "outputs": [
    {
     "name": "stdout",
     "output_type": "stream",
     "text": [
      "[[1. 1.]]\n"
     ]
    }
   ],
   "source": [
    "print(numpy.ones((1,2)))"
   ]
  },
  {
   "cell_type": "code",
   "execution_count": 12,
   "id": "a5e7fe61-5272-47f1-92a1-604f7f234b44",
   "metadata": {},
   "outputs": [
    {
     "name": "stdout",
     "output_type": "stream",
     "text": [
      "[[1 1]]\n"
     ]
    },
    {
     "name": "stderr",
     "output_type": "stream",
     "text": [
      "/var/folders/fj/rf2znhjj53z6lgms_bsqgt740000gn/T/ipykernel_63340/3502782573.py:1: DeprecationWarning: `np.int` is a deprecated alias for the builtin `int`. To silence this warning, use `int` by itself. Doing this will not modify any behavior and is safe. When replacing `np.int`, you may wish to use e.g. `np.int64` or `np.int32` to specify the precision. If you wish to review your current use, check the release note link for additional information.\n",
      "Deprecated in NumPy 1.20; for more details and guidance: https://numpy.org/devdocs/release/1.20.0-notes.html#deprecations\n",
      "  print(numpy.ones((1,2), dtype=numpy.int))\n"
     ]
    }
   ],
   "source": [
    "print(numpy.ones((1,2), dtype=numpy.int))"
   ]
  },
  {
   "cell_type": "code",
   "execution_count": 1,
   "id": "c5f88f0f-5bf1-42f5-bfae-b7d2a5e7dccb",
   "metadata": {},
   "outputs": [
    {
     "name": "stdin",
     "output_type": "stream",
     "text": [
      " 3 3 3\n"
     ]
    },
    {
     "name": "stdout",
     "output_type": "stream",
     "text": [
      "[[[0 0 0]\n",
      "  [0 0 0]\n",
      "  [0 0 0]]\n",
      "\n",
      " [[0 0 0]\n",
      "  [0 0 0]\n",
      "  [0 0 0]]\n",
      "\n",
      " [[0 0 0]\n",
      "  [0 0 0]\n",
      "  [0 0 0]]]\n",
      "[[[1 1 1]\n",
      "  [1 1 1]\n",
      "  [1 1 1]]\n",
      "\n",
      " [[1 1 1]\n",
      "  [1 1 1]\n",
      "  [1 1 1]]\n",
      "\n",
      " [[1 1 1]\n",
      "  [1 1 1]\n",
      "  [1 1 1]]]\n"
     ]
    },
    {
     "name": "stderr",
     "output_type": "stream",
     "text": [
      "/var/folders/fj/rf2znhjj53z6lgms_bsqgt740000gn/T/ipykernel_64283/1421512430.py:4: DeprecationWarning: `np.int` is a deprecated alias for the builtin `int`. To silence this warning, use `int` by itself. Doing this will not modify any behavior and is safe. When replacing `np.int`, you may wish to use e.g. `np.int64` or `np.int32` to specify the precision. If you wish to review your current use, check the release note link for additional information.\n",
      "Deprecated in NumPy 1.20; for more details and guidance: https://numpy.org/devdocs/release/1.20.0-notes.html#deprecations\n",
      "  print(numpy.zeros(shape, dtype=numpy.int))\n",
      "/var/folders/fj/rf2znhjj53z6lgms_bsqgt740000gn/T/ipykernel_64283/1421512430.py:5: DeprecationWarning: `np.int` is a deprecated alias for the builtin `int`. To silence this warning, use `int` by itself. Doing this will not modify any behavior and is safe. When replacing `np.int`, you may wish to use e.g. `np.int64` or `np.int32` to specify the precision. If you wish to review your current use, check the release note link for additional information.\n",
      "Deprecated in NumPy 1.20; for more details and guidance: https://numpy.org/devdocs/release/1.20.0-notes.html#deprecations\n",
      "  print(numpy.ones(shape, dtype=numpy.int))\n"
     ]
    }
   ],
   "source": [
    "import numpy\n",
    "\n",
    "shape = list(map(int, input().split()))\n",
    "print(numpy.zeros(shape, dtype=int))\n",
    "print(numpy.ones(shape, dtype=int))"
   ]
  },
  {
   "cell_type": "markdown",
   "id": "8d5d154d-a731-4cc1-8d02-172c2d86cbb7",
   "metadata": {},
   "source": [
    "## Eye and Identity"
   ]
  },
  {
   "cell_type": "code",
   "execution_count": 2,
   "id": "7b81e23e-446f-4c07-888b-8b1be67d3389",
   "metadata": {},
   "outputs": [
    {
     "name": "stdout",
     "output_type": "stream",
     "text": [
      "[[1. 0. 0.]\n",
      " [0. 1. 0.]\n",
      " [0. 0. 1.]]\n"
     ]
    }
   ],
   "source": [
    "print(numpy.identity(3))"
   ]
  },
  {
   "cell_type": "code",
   "execution_count": 3,
   "id": "a9b23a0c-3ac2-4f68-9a1e-66c470cfd9d9",
   "metadata": {},
   "outputs": [
    {
     "name": "stdout",
     "output_type": "stream",
     "text": [
      "[[0. 1. 0. 0. 0. 0. 0.]\n",
      " [0. 0. 1. 0. 0. 0. 0.]\n",
      " [0. 0. 0. 1. 0. 0. 0.]\n",
      " [0. 0. 0. 0. 1. 0. 0.]\n",
      " [0. 0. 0. 0. 0. 1. 0.]\n",
      " [0. 0. 0. 0. 0. 0. 1.]\n",
      " [0. 0. 0. 0. 0. 0. 0.]\n",
      " [0. 0. 0. 0. 0. 0. 0.]]\n"
     ]
    }
   ],
   "source": [
    "print(numpy.eye(8,7,k=1))"
   ]
  },
  {
   "cell_type": "code",
   "execution_count": 5,
   "id": "d9413f7d-7d24-4edf-9a63-cb5d47df7556",
   "metadata": {},
   "outputs": [
    {
     "name": "stdout",
     "output_type": "stream",
     "text": [
      "[[ 0.  0.  0.  0.  0.  0.  0.]\n",
      " [ 0.  0.  0.  0.  0.  0.  0.]\n",
      " [ 1.  0.  0.  0.  0.  0.  0.]\n",
      " [ 0.  1.  0.  0.  0.  0.  0.]\n",
      " [ 0.  0.  1.  0.  0.  0.  0.]\n",
      " [ 0.  0.  0.  1.  0.  0.  0.]\n",
      " [ 0.  0.  0.  0.  1.  0.  0.]\n",
      " [ 0.  0.  0.  0.  0.  1.  0.]]\n"
     ]
    }
   ],
   "source": [
    "print(numpy.eye(8,7,k=-2))"
   ]
  },
  {
   "cell_type": "code",
   "execution_count": 7,
   "id": "ca1f9d00-4321-444f-a2dc-a667762af0ef",
   "metadata": {},
   "outputs": [
    {
     "name": "stdout",
     "output_type": "stream",
     "text": [
      "[[ 1.  0.  0.  0.  0.  0.  0.]\n",
      " [ 0.  1.  0.  0.  0.  0.  0.]\n",
      " [ 0.  0.  1.  0.  0.  0.  0.]\n",
      " [ 0.  0.  0.  1.  0.  0.  0.]\n",
      " [ 0.  0.  0.  0.  1.  0.  0.]\n",
      " [ 0.  0.  0.  0.  0.  1.  0.]\n",
      " [ 0.  0.  0.  0.  0.  0.  1.]\n",
      " [ 0.  0.  0.  0.  0.  0.  0.]]\n"
     ]
    }
   ],
   "source": [
    "print(numpy.eye(8,7))"
   ]
  },
  {
   "cell_type": "code",
   "execution_count": 8,
   "id": "83320102-1764-4668-b850-f1c12a761f40",
   "metadata": {},
   "outputs": [
    {
     "name": "stdin",
     "output_type": "stream",
     "text": [
      " 3 3\n"
     ]
    },
    {
     "name": "stdout",
     "output_type": "stream",
     "text": [
      "[[ 1.  0.  0.]\n",
      " [ 0.  1.  0.]\n",
      " [ 0.  0.  1.]]\n"
     ]
    }
   ],
   "source": [
    "import numpy\n",
    "numpy.set_printoptions(legacy='1.13')\n",
    "\n",
    "n, m = map(int, input().split())\n",
    "\n",
    "print(numpy.eye(n,m))"
   ]
  }
 ],
 "metadata": {
  "kernelspec": {
   "display_name": "Python 3 (ipykernel)",
   "language": "python",
   "name": "python3"
  },
  "language_info": {
   "codemirror_mode": {
    "name": "ipython",
    "version": 3
   },
   "file_extension": ".py",
   "mimetype": "text/x-python",
   "name": "python",
   "nbconvert_exporter": "python",
   "pygments_lexer": "ipython3",
   "version": "3.11.5"
  },
  "toc": {
   "base_numbering": 1,
   "nav_menu": {},
   "number_sections": true,
   "sideBar": true,
   "skip_h1_title": false,
   "title_cell": "Table of Contents",
   "title_sidebar": "Contents",
   "toc_cell": false,
   "toc_position": {},
   "toc_section_display": true,
   "toc_window_display": false
  }
 },
 "nbformat": 4,
 "nbformat_minor": 5
}
