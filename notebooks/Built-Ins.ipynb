{
 "cells": [
  {
   "cell_type": "markdown",
   "id": "ea98dbee-46df-4445-8f70-9dbb57733789",
   "metadata": {},
   "source": [
    "# Built-Ins"
   ]
  },
  {
   "cell_type": "markdown",
   "id": "904babe4-1a9c-463b-94ab-f2efc2d5f7f8",
   "metadata": {},
   "source": [
    "## Any or All"
   ]
  },
  {
   "cell_type": "code",
   "execution_count": 1,
   "id": "c273a500-9bf8-4664-b855-9ff505c1bf0e",
   "metadata": {},
   "outputs": [
    {
     "data": {
      "text/plain": [
       "True"
      ]
     },
     "execution_count": 1,
     "metadata": {},
     "output_type": "execute_result"
    }
   ],
   "source": [
    "any([1>0, 1==0, 1<0])"
   ]
  },
  {
   "cell_type": "code",
   "execution_count": 2,
   "id": "8b9dd8be-02ff-4a29-92f2-9705378091db",
   "metadata": {},
   "outputs": [
    {
     "data": {
      "text/plain": [
       "False"
      ]
     },
     "execution_count": 2,
     "metadata": {},
     "output_type": "execute_result"
    }
   ],
   "source": [
    "any([1<0, 2<1, 3<2])"
   ]
  },
  {
   "cell_type": "code",
   "execution_count": 3,
   "id": "59ccf678-e0f4-42dc-ba41-de1fa9a62eb4",
   "metadata": {},
   "outputs": [
    {
     "data": {
      "text/plain": [
       "True"
      ]
     },
     "execution_count": 3,
     "metadata": {},
     "output_type": "execute_result"
    }
   ],
   "source": [
    "all(['a'<'b', 'b'<'c'])"
   ]
  },
  {
   "cell_type": "code",
   "execution_count": 4,
   "id": "721fbb7f-b89c-4985-947b-fc8869b0a893",
   "metadata": {},
   "outputs": [
    {
     "data": {
      "text/plain": [
       "False"
      ]
     },
     "execution_count": 4,
     "metadata": {},
     "output_type": "execute_result"
    }
   ],
   "source": [
    "all(['a'<'b', 'c'<'b'])"
   ]
  },
  {
   "cell_type": "code",
   "execution_count": 50,
   "id": "0cf38db8-d99d-4741-9cac-728a101aac3c",
   "metadata": {},
   "outputs": [
    {
     "name": "stdin",
     "output_type": "stream",
     "text": [
      " 5\n",
      " 12 9 61 5 14\n"
     ]
    },
    {
     "name": "stdout",
     "output_type": "stream",
     "text": [
      "True\n"
     ]
    }
   ],
   "source": [
    "n = int(input())\n",
    "\n",
    "integers = input().split()\n",
    "\n",
    "\n",
    "print(all([int(i) > 0 for i in integers]) and any(a[::-1] == a for a in integers))"
   ]
  },
  {
   "cell_type": "markdown",
   "id": "9403dc60-2133-4542-83f6-d678cfd9b854",
   "metadata": {},
   "source": [
    "## ginortS"
   ]
  },
  {
   "cell_type": "code",
   "execution_count": 86,
   "id": "3fb91500-9882-477f-a69d-078c12d8868e",
   "metadata": {},
   "outputs": [
    {
     "name": "stdin",
     "output_type": "stream",
     "text": [
      " Sorting1234\n"
     ]
    },
    {
     "name": "stdout",
     "output_type": "stream",
     "text": [
      "ginortS1324\n"
     ]
    }
   ],
   "source": [
    "s = sorted([string for string in input()])\n",
    "\n",
    "lowers = []\n",
    "uppers = []\n",
    "digits = []\n",
    "\n",
    "for string in s:\n",
    "    if string.islower():\n",
    "        lowers.append(string)\n",
    "    elif string.isupper():\n",
    "        uppers.append(string)\n",
    "    else:\n",
    "        digits.append(string)\n",
    "\n",
    "even = []\n",
    "odd = []\n",
    "\n",
    "for d in digits:\n",
    "    if int(d) % 2:\n",
    "        odd.append(d)\n",
    "    else:\n",
    "        even.append(d)\n",
    "        \n",
    "print(\"\".join(lowers+uppers+odd+even))  "
   ]
  },
  {
   "cell_type": "markdown",
   "id": "a4c7df66-d747-470c-8ca0-494e2da0d0bd",
   "metadata": {},
   "source": [
    "## Zipped!"
   ]
  },
  {
   "cell_type": "code",
   "execution_count": 94,
   "id": "684dcebc-7e67-483f-9709-12f5a159a94a",
   "metadata": {},
   "outputs": [
    {
     "name": "stdout",
     "output_type": "stream",
     "text": [
      "<zip object at 0x1063a6440>\n"
     ]
    }
   ],
   "source": [
    "print(zip([1,2,3,4,5,6],'Hacker'))"
   ]
  },
  {
   "cell_type": "code",
   "execution_count": 98,
   "id": "eac1d9e9-751f-4e47-ac32-dbc4b7db558c",
   "metadata": {},
   "outputs": [
    {
     "name": "stdout",
     "output_type": "stream",
     "text": [
      "[(1, 'H'), (2, 'a'), (3, 'c'), (4, 'k'), (5, 'e'), (6, 'r')]\n"
     ]
    }
   ],
   "source": [
    "print(list(zip([1,2,3,4,5,6], 'Hacker')))"
   ]
  },
  {
   "cell_type": "code",
   "execution_count": 95,
   "id": "8255e4d1-e1b1-4616-8344-b5c0220a0b2c",
   "metadata": {},
   "outputs": [
    {
     "name": "stdout",
     "output_type": "stream",
     "text": [
      "<zip object at 0x106303800>\n"
     ]
    }
   ],
   "source": [
    "print(zip([1,2,3,4,5,6],[0,9,8,7,6,5,4,3,2,1]))"
   ]
  },
  {
   "cell_type": "code",
   "execution_count": 99,
   "id": "73448e58-44b6-4de9-a2e8-33daae94f77a",
   "metadata": {},
   "outputs": [
    {
     "name": "stdout",
     "output_type": "stream",
     "text": [
      "[(1, 0), (2, 9), (3, 8), (4, 7), (5, 6), (6, 5)]\n"
     ]
    }
   ],
   "source": [
    "print(list(zip([1,2,3,4,5,6],[0,9,8,7,6,5,4,3,2,1])))"
   ]
  },
  {
   "cell_type": "code",
   "execution_count": 96,
   "id": "7150bc6b-6251-4a78-a36c-7d0d30e2f032",
   "metadata": {},
   "outputs": [],
   "source": [
    "A = [1,2,3]\n",
    "B = [6,5,4]\n",
    "C = [7,8,9]\n",
    "X = [A] + [B] + [C]"
   ]
  },
  {
   "cell_type": "code",
   "execution_count": 101,
   "id": "1c128e91-5e1f-4ba5-a88e-34136b681d78",
   "metadata": {},
   "outputs": [
    {
     "data": {
      "text/plain": [
       "[[1, 2, 3], [6, 5, 4], [7, 8, 9]]"
      ]
     },
     "execution_count": 101,
     "metadata": {},
     "output_type": "execute_result"
    }
   ],
   "source": [
    "X"
   ]
  },
  {
   "cell_type": "code",
   "execution_count": 97,
   "id": "70dfc534-3aed-423e-9c02-336c3ecc0df3",
   "metadata": {},
   "outputs": [
    {
     "name": "stdout",
     "output_type": "stream",
     "text": [
      "<zip object at 0x1063a7480>\n"
     ]
    }
   ],
   "source": [
    "print(zip(*X))"
   ]
  },
  {
   "cell_type": "code",
   "execution_count": 100,
   "id": "8fc9ac2c-adcc-495d-9b83-3103c0cdaa22",
   "metadata": {},
   "outputs": [
    {
     "name": "stdout",
     "output_type": "stream",
     "text": [
      "[(1, 6, 7), (2, 5, 8), (3, 4, 9)]\n"
     ]
    }
   ],
   "source": [
    "print(list(zip(*X)))"
   ]
  },
  {
   "cell_type": "code",
   "execution_count": 134,
   "id": "fad44944-85c0-46cb-aa97-2444252d2cda",
   "metadata": {},
   "outputs": [
    {
     "name": "stdin",
     "output_type": "stream",
     "text": [
      " 5 3\n",
      " 89 90 78 93 80\n",
      " 90 91 85 88 86\n",
      " 91 92 83 89 90.5\n"
     ]
    },
    {
     "name": "stdout",
     "output_type": "stream",
     "text": [
      "90.0\n",
      "91.0\n",
      "82.0\n",
      "90.0\n",
      "85.5\n"
     ]
    }
   ],
   "source": [
    "n, m = map(int, input().split())\n",
    "\n",
    "subjects = []\n",
    "\n",
    "for i in range(m):\n",
    "    subjects.append(list(map(float, input().split())))\n",
    "\n",
    "z = list(zip(*subjects))\n",
    "\n",
    "for j in range(n):\n",
    "    print(sum(z[j])/m)"
   ]
  },
  {
   "cell_type": "markdown",
   "id": "4639318a-a37a-4124-a105-b5980e61d712",
   "metadata": {},
   "source": [
    "## Input()"
   ]
  },
  {
   "cell_type": "code",
   "execution_count": 1,
   "id": "98ecbd48-42e6-40d1-b39e-82c956bc037c",
   "metadata": {},
   "outputs": [
    {
     "name": "stdin",
     "output_type": "stream",
     "text": [
      " 1 4\n",
      " x**3 + x**2 + x + 1\n"
     ]
    },
    {
     "name": "stdout",
     "output_type": "stream",
     "text": [
      "True\n"
     ]
    }
   ],
   "source": [
    "x, k = map(int, input().split())\n",
    "\n",
    "p = eval(input())\n",
    "\n",
    "print(p == k)"
   ]
  },
  {
   "cell_type": "markdown",
   "id": "ba5fbdbe-4020-4e4b-a999-992f8711dd31",
   "metadata": {},
   "source": [
    "## Python Evaluation"
   ]
  },
  {
   "cell_type": "code",
   "execution_count": 2,
   "id": "d1336054-6c8d-401c-91b1-b151a60d4b6f",
   "metadata": {},
   "outputs": [
    {
     "data": {
      "text/plain": [
       "14"
      ]
     },
     "execution_count": 2,
     "metadata": {},
     "output_type": "execute_result"
    }
   ],
   "source": [
    "eval('9+5')"
   ]
  },
  {
   "cell_type": "code",
   "execution_count": 3,
   "id": "af6d980a-1cd5-41c6-acad-b7b6f61cb0c3",
   "metadata": {},
   "outputs": [
    {
     "data": {
      "text/plain": [
       "5"
      ]
     },
     "execution_count": 3,
     "metadata": {},
     "output_type": "execute_result"
    }
   ],
   "source": [
    "x = 2\n",
    "eval('x+3')"
   ]
  },
  {
   "cell_type": "code",
   "execution_count": 4,
   "id": "a8af36dd-34a5-4419-95a7-c30f54cb4a3e",
   "metadata": {},
   "outputs": [
    {
     "data": {
      "text/plain": [
       "builtin_function_or_method"
      ]
     },
     "execution_count": 4,
     "metadata": {},
     "output_type": "execute_result"
    }
   ],
   "source": [
    "type(eval('len'))"
   ]
  },
  {
   "cell_type": "code",
   "execution_count": 5,
   "id": "8b5c0e92-8919-42cc-af6a-4821a62bcfd6",
   "metadata": {},
   "outputs": [
    {
     "data": {
      "text/plain": [
       "str"
      ]
     },
     "execution_count": 5,
     "metadata": {},
     "output_type": "execute_result"
    }
   ],
   "source": [
    "type('len')"
   ]
  },
  {
   "cell_type": "code",
   "execution_count": 7,
   "id": "cfb5ecf0-8ebf-4b72-8d6f-b864a1043ec1",
   "metadata": {},
   "outputs": [
    {
     "name": "stdin",
     "output_type": "stream",
     "text": [
      " print(2 + 3)\n"
     ]
    }
   ],
   "source": [
    "string = input()"
   ]
  },
  {
   "cell_type": "code",
   "execution_count": 8,
   "id": "12e9ac6f-2b0d-437e-8f82-3de949a0f13c",
   "metadata": {},
   "outputs": [
    {
     "data": {
      "text/plain": [
       "'print(2 + 3)'"
      ]
     },
     "execution_count": 8,
     "metadata": {},
     "output_type": "execute_result"
    }
   ],
   "source": [
    "string"
   ]
  },
  {
   "cell_type": "code",
   "execution_count": 9,
   "id": "500dfa56-1c9a-41af-acc9-ea0550d2fb9a",
   "metadata": {},
   "outputs": [
    {
     "name": "stdout",
     "output_type": "stream",
     "text": [
      "5\n"
     ]
    }
   ],
   "source": [
    "eval(string)"
   ]
  },
  {
   "cell_type": "markdown",
   "id": "27ebcdf7-18dd-429f-98ae-003ab9247ce0",
   "metadata": {},
   "source": [
    "## Athlete Sort"
   ]
  },
  {
   "cell_type": "code",
   "execution_count": null,
   "id": "529c1da3-512d-4359-9b06-433c74c4785c",
   "metadata": {},
   "outputs": [],
   "source": [
    "n, m = map(int, input().split())\n",
    "\n",
    "athletes = []\n",
    "\n",
    "for i in range(n):\n",
    "    athletes.append(list(map(int, input().split())))\n",
    "\n",
    "k = int(input())\n",
    "\n",
    "athletes = sorted(athletes, key=lambda athlete: athlete[k])\n",
    "\n",
    "for i in range(n):\n",
    "    result = \" \".join(map(str, athletes[i]))\n",
    "    print(result)"
   ]
  },
  {
   "cell_type": "code",
   "execution_count": 60,
   "id": "2a1feca1-907d-42ca-928e-832119ba7dc8",
   "metadata": {},
   "outputs": [
    {
     "name": "stdin",
     "output_type": "stream",
     "text": [
      " 5 3\n",
      " 10 2 5\n",
      " 7 1 0\n",
      " 9 9 9\n",
      " 1 23 12\n",
      " 6 5 9\n",
      " 1\n"
     ]
    },
    {
     "name": "stdout",
     "output_type": "stream",
     "text": [
      "7 1 0\n",
      "10 2 5\n",
      "6 5 9\n",
      "9 9 9\n",
      "1 23 12\n"
     ]
    }
   ],
   "source": [
    "#!/bin/python3\n",
    "\n",
    "import math\n",
    "import os\n",
    "import random\n",
    "import re\n",
    "import sys\n",
    "\n",
    "\n",
    "\n",
    "if __name__ == '__main__':\n",
    "    nm = input().split()\n",
    "\n",
    "    n = int(nm[0])\n",
    "\n",
    "    m = int(nm[1])\n",
    "\n",
    "    arr = []\n",
    "\n",
    "    for _ in range(n):\n",
    "        arr.append(list(map(int, input().rstrip().split())))\n",
    "\n",
    "    k = int(input())\n",
    "\n",
    "    arr = sorted(arr, key=lambda athlete: athlete[k])\n",
    "\n",
    "    for i in range(n):\n",
    "        result = \" \".join(map(str, arr[i]))\n",
    "        print(result)"
   ]
  }
 ],
 "metadata": {
  "kernelspec": {
   "display_name": "Python 3 (ipykernel)",
   "language": "python",
   "name": "python3"
  },
  "language_info": {
   "codemirror_mode": {
    "name": "ipython",
    "version": 3
   },
   "file_extension": ".py",
   "mimetype": "text/x-python",
   "name": "python",
   "nbconvert_exporter": "python",
   "pygments_lexer": "ipython3",
   "version": "3.11.5"
  },
  "toc": {
   "base_numbering": 1,
   "nav_menu": {},
   "number_sections": true,
   "sideBar": true,
   "skip_h1_title": false,
   "title_cell": "Table of Contents",
   "title_sidebar": "Contents",
   "toc_cell": false,
   "toc_position": {},
   "toc_section_display": true,
   "toc_window_display": false
  }
 },
 "nbformat": 4,
 "nbformat_minor": 5
}
