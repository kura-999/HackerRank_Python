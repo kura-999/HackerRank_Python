{
 "cells": [
  {
   "cell_type": "markdown",
   "id": "ea98dbee-46df-4445-8f70-9dbb57733789",
   "metadata": {},
   "source": [
    "# Closures and Decorators"
   ]
  },
  {
   "cell_type": "markdown",
   "id": "904babe4-1a9c-463b-94ab-f2efc2d5f7f8",
   "metadata": {},
   "source": [
    "## Standardize Mobile Number Using Decorators"
   ]
  },
  {
   "cell_type": "code",
   "execution_count": 1,
   "id": "3c78f492-1ea9-4afb-83f2-4c78a4ea0af0",
   "metadata": {},
   "outputs": [
    {
     "name": "stdin",
     "output_type": "stream",
     "text": [
      " 3\n",
      " 07895462130\n",
      " 919875641230\n",
      " 9195969878\n"
     ]
    },
    {
     "name": "stdout",
     "output_type": "stream",
     "text": [
      "+91 78954 62130\n",
      "+91 91959 69878\n",
      "+91 98756 41230\n"
     ]
    }
   ],
   "source": [
    "def wrapper(f):\n",
    "    def fun(l):\n",
    "        # complete the function\n",
    "        formatted_numbers = [f\"+91 {num[-10:-5]} {num[-5:]}\" for num in l]\n",
    "        f(formatted_numbers)\n",
    "    return fun\n",
    "\n",
    "@wrapper\n",
    "def sort_phone(l):\n",
    "    print(*sorted(l), sep='\\n')\n",
    "\n",
    "if __name__ == '__main__':\n",
    "    l = [input() for _ in range(int(input()))]\n",
    "    sort_phone(l) \n"
   ]
  },
  {
   "cell_type": "markdown",
   "id": "b8f04604-3886-422a-9972-2458b141e1f3",
   "metadata": {},
   "source": [
    "## Decorators 2 - Name Directory\n"
   ]
  },
  {
   "cell_type": "code",
   "execution_count": 21,
   "id": "7205a0c3-4b6c-4115-9fcf-47764e6a7b01",
   "metadata": {},
   "outputs": [
    {
     "name": "stdin",
     "output_type": "stream",
     "text": [
      " 3\n",
      " Mike Thomson 20 M\n",
      " Robert Bustle 32 M\n",
      " Andria Bustle 30 F\n"
     ]
    },
    {
     "name": "stdout",
     "output_type": "stream",
     "text": [
      "Mr. Mike Thomson\n",
      "Ms. Andria Bustle\n",
      "Mr. Robert Bustle\n"
     ]
    }
   ],
   "source": [
    "import operator\n",
    "\n",
    "def person_lister(f):\n",
    "    def inner(people):\n",
    "        # complete the function\n",
    "        sorted_people = sorted(people, key=lambda x: int(x[2]))\n",
    "        format_people = [f(person) for person in sorted_people]\n",
    "        return format_people\n",
    "    return inner\n",
    "\n",
    "@person_lister\n",
    "def name_format(person):\n",
    "    return (\"Mr. \" if person[3] == \"M\" else \"Ms. \") + person[0] + \" \" + person[1]\n",
    "\n",
    "if __name__ == '__main__':\n",
    "    people = [input().split() for i in range(int(input()))]\n",
    "    print(*name_format(people), sep='\\n')"
   ]
  }
 ],
 "metadata": {
  "kernelspec": {
   "display_name": "Python 3 (ipykernel)",
   "language": "python",
   "name": "python3"
  },
  "language_info": {
   "codemirror_mode": {
    "name": "ipython",
    "version": 3
   },
   "file_extension": ".py",
   "mimetype": "text/x-python",
   "name": "python",
   "nbconvert_exporter": "python",
   "pygments_lexer": "ipython3",
   "version": "3.11.5"
  },
  "toc": {
   "base_numbering": 1,
   "nav_menu": {},
   "number_sections": true,
   "sideBar": true,
   "skip_h1_title": false,
   "title_cell": "Table of Contents",
   "title_sidebar": "Contents",
   "toc_cell": false,
   "toc_position": {},
   "toc_section_display": true,
   "toc_window_display": false
  }
 },
 "nbformat": 4,
 "nbformat_minor": 5
}
