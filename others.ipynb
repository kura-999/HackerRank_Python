{
 "cells": [
  {
   "cell_type": "code",
   "execution_count": 1,
   "id": "a49053d4",
   "metadata": {},
   "outputs": [
    {
     "name": "stdout",
     "output_type": "stream",
     "text": [
      "\n"
     ]
    },
    {
     "ename": "ValueError",
     "evalue": "invalid literal for int() with base 10: ''",
     "output_type": "error",
     "traceback": [
      "\u001b[0;31m---------------------------------------------------------------------------\u001b[0m",
      "\u001b[0;31mValueError\u001b[0m                                Traceback (most recent call last)",
      "Cell \u001b[0;32mIn[1], line 2\u001b[0m\n\u001b[1;32m      1\u001b[0m \u001b[38;5;28;01mif\u001b[39;00m \u001b[38;5;18m__name__\u001b[39m \u001b[38;5;241m==\u001b[39m \u001b[38;5;124m'\u001b[39m\u001b[38;5;124m__main__\u001b[39m\u001b[38;5;124m'\u001b[39m:\n\u001b[0;32m----> 2\u001b[0m     x \u001b[38;5;241m=\u001b[39m \u001b[38;5;28;43mint\u001b[39;49m\u001b[43m(\u001b[49m\u001b[38;5;28;43minput\u001b[39;49m\u001b[43m(\u001b[49m\u001b[43m)\u001b[49m\u001b[43m)\u001b[49m\n\u001b[1;32m      3\u001b[0m     y \u001b[38;5;241m=\u001b[39m \u001b[38;5;28mint\u001b[39m(\u001b[38;5;28minput\u001b[39m())\n\u001b[1;32m      4\u001b[0m     z \u001b[38;5;241m=\u001b[39m \u001b[38;5;28mint\u001b[39m(\u001b[38;5;28minput\u001b[39m())\n",
      "\u001b[0;31mValueError\u001b[0m: invalid literal for int() with base 10: ''"
     ]
    }
   ],
   "source": [
    "if __name__ == '__main__':\n",
    "    x = int(input())\n",
    "    y = int(input())\n",
    "    z = int(input())\n",
    "    n = int(input())\n",
    "    list_out = [[i, j, k] for i in range(x+1) for j in range(y+1) for k in range(z+1)if i+j+k != n]\n",
    "    print(list_out)"
   ]
  },
  {
   "cell_type": "code",
   "execution_count": 2,
   "id": "030d6be3",
   "metadata": {},
   "outputs": [
    {
     "name": "stdout",
     "output_type": "stream",
     "text": [
      "\n"
     ]
    },
    {
     "ename": "ValueError",
     "evalue": "invalid literal for int() with base 10: ''",
     "output_type": "error",
     "traceback": [
      "\u001b[0;31m---------------------------------------------------------------------------\u001b[0m",
      "\u001b[0;31mValueError\u001b[0m                                Traceback (most recent call last)",
      "Cell \u001b[0;32mIn[2], line 2\u001b[0m\n\u001b[1;32m      1\u001b[0m \u001b[38;5;28;01mif\u001b[39;00m \u001b[38;5;18m__name__\u001b[39m \u001b[38;5;241m==\u001b[39m \u001b[38;5;124m'\u001b[39m\u001b[38;5;124m__main__\u001b[39m\u001b[38;5;124m'\u001b[39m:\n\u001b[0;32m----> 2\u001b[0m     n \u001b[38;5;241m=\u001b[39m \u001b[38;5;28;43mint\u001b[39;49m\u001b[43m(\u001b[49m\u001b[38;5;28;43minput\u001b[39;49m\u001b[43m(\u001b[49m\u001b[43m)\u001b[49m\u001b[43m)\u001b[49m\n\u001b[1;32m      3\u001b[0m     student_marks \u001b[38;5;241m=\u001b[39m {}\n\u001b[1;32m      4\u001b[0m     \u001b[38;5;28;01mfor\u001b[39;00m _ \u001b[38;5;129;01min\u001b[39;00m \u001b[38;5;28mrange\u001b[39m(n):\n",
      "\u001b[0;31mValueError\u001b[0m: invalid literal for int() with base 10: ''"
     ]
    }
   ],
   "source": [
    "if __name__ == '__main__':\n",
    "    n = int(input())\n",
    "    student_marks = {}\n",
    "    for _ in range(n):\n",
    "        name, *line = input().split()\n",
    "        scores = list(map(float, line))\n",
    "        student_marks[name] = scores\n",
    "    query_name = input()\n",
    "    \n",
    "    print(\"{:.2f}\".format(sum(student_marks[query_name])/len(student_marks[query_name]), 3))"
   ]
  },
  {
   "cell_type": "code",
   "execution_count": null,
   "id": "744320e3",
   "metadata": {},
   "outputs": [],
   "source": [
    "student_marks"
   ]
  },
  {
   "cell_type": "code",
   "execution_count": null,
   "id": "0655c23a",
   "metadata": {},
   "outputs": [],
   "source": [
    "print(query_name)"
   ]
  },
  {
   "cell_type": "code",
   "execution_count": null,
   "id": "ce0fd129",
   "metadata": {
    "scrolled": true
   },
   "outputs": [],
   "source": [
    "student_marks[query_name]"
   ]
  },
  {
   "cell_type": "code",
   "execution_count": null,
   "id": "7c7c3067",
   "metadata": {},
   "outputs": [],
   "source": [
    "print(\"{:.2f}\".format(sum(student_marks[query_name])/len(student_marks[query_name]), 3))"
   ]
  },
  {
   "cell_type": "code",
   "execution_count": 47,
   "id": "b8deaec5",
   "metadata": {},
   "outputs": [
    {
     "name": "stdout",
     "output_type": "stream",
     "text": [
      "2\n",
      "12\n",
      "-860454829093830431\n"
     ]
    }
   ],
   "source": [
    "if __name__ == '__main__':\n",
    "    n = int(input())\n",
    "    integer_list = map(int, input().split())\n",
    "    print(hash(tuple(integer_list)))"
   ]
  },
  {
   "cell_type": "code",
   "execution_count": 63,
   "id": "bb1d449b",
   "metadata": {},
   "outputs": [
    {
     "name": "stdout",
     "output_type": "stream",
     "text": [
      "HackerRank.com presents \"Pythonist 2\".\n",
      "hACKERrANK.COM PRESENTS \"pYTHONIST 2\".\n"
     ]
    }
   ],
   "source": [
    "def swap_case(s):\n",
    "    s_modify = []\n",
    "\n",
    "    for letter in s:\n",
    "        if letter.isupper():\n",
    "            s_modify.append(letter.lower())\n",
    "        elif letter.islower():\n",
    "            s_modify.append(letter.upper())\n",
    "        else:\n",
    "            s_modify.append(letter)\n",
    "\n",
    "    result=\"\".join(s_modify)\n",
    "    return result\n",
    "\n",
    "if __name__ == '__main__':\n",
    "    s = input()\n",
    "    result = swap_case(s)\n",
    "    print(result)"
   ]
  },
  {
   "cell_type": "code",
   "execution_count": 49,
   "id": "ed5b7256",
   "metadata": {},
   "outputs": [],
   "source": [
    "s = 'HackerRank.com presents \"Pythonist 2\".'"
   ]
  },
  {
   "cell_type": "code",
   "execution_count": 51,
   "id": "0e3a88e9",
   "metadata": {},
   "outputs": [
    {
     "data": {
      "text/plain": [
       "False"
      ]
     },
     "execution_count": 51,
     "metadata": {},
     "output_type": "execute_result"
    }
   ],
   "source": [
    "s.isupper()"
   ]
  },
  {
   "cell_type": "code",
   "execution_count": 61,
   "id": "d07dec11",
   "metadata": {},
   "outputs": [
    {
     "name": "stdout",
     "output_type": "stream",
     "text": [
      "hACKERrANK.COM PRESENTS \"pYTHONIST 2\".\n"
     ]
    }
   ],
   "source": [
    "s_modify = []\n",
    "\n",
    "for letter in s:\n",
    "    if letter.isupper():\n",
    "        s_modify.append(letter.lower())\n",
    "    elif letter.islower():\n",
    "        s_modify.append(letter.upper())\n",
    "    else:\n",
    "        s_modify.append(letter)\n",
    "\n",
    "result=\"\".join(s_modify)\n",
    "print(result)"
   ]
  },
  {
   "cell_type": "code",
   "execution_count": null,
   "id": "fcdd7f83",
   "metadata": {},
   "outputs": [],
   "source": [
    "def split_and_join(line):\n",
    "    # write your code here\n",
    "    line = line.split(\" \")\n",
    "    return \"-\".join(line)\n",
    "\n",
    "if __name__ == '__main__':\n",
    "    line = input()\n",
    "    result = split_and_join(line)\n",
    "    print(result)"
   ]
  },
  {
   "cell_type": "code",
   "execution_count": 66,
   "id": "da0cbce5",
   "metadata": {},
   "outputs": [],
   "source": [
    "a = \"this is a string \""
   ]
  },
  {
   "cell_type": "code",
   "execution_count": 67,
   "id": "1b3fd725",
   "metadata": {},
   "outputs": [
    {
     "data": {
      "text/plain": [
       "'this-is-a-string-'"
      ]
     },
     "execution_count": 67,
     "metadata": {},
     "output_type": "execute_result"
    }
   ],
   "source": [
    "a = a.split(\" \")\n",
    "a = \"-\".join(a)\n",
    "a"
   ]
  },
  {
   "cell_type": "code",
   "execution_count": 69,
   "id": "98f6f570",
   "metadata": {},
   "outputs": [
    {
     "name": "stdout",
     "output_type": "stream",
     "text": [
      "Ross\n",
      "Taylor\n",
      "Hello Ross Taylor! You just delved into python.\n"
     ]
    }
   ],
   "source": [
    "#\n",
    "# Complete the 'print_full_name' function below.\n",
    "#\n",
    "# The function is expected to return a STRING.\n",
    "# The function accepts following parameters:\n",
    "#  1. STRING first\n",
    "#  2. STRING last\n",
    "#\n",
    "\n",
    "def print_full_name(first, last):\n",
    "    # Write your code here\n",
    "    return print(f\"Hello {first} {last}! You just delved into python.\")\n",
    "\n",
    "if __name__ == '__main__':\n",
    "    first_name = input()\n",
    "    last_name = input()\n",
    "    print_full_name(first_name, last_name)"
   ]
  },
  {
   "cell_type": "code",
   "execution_count": 72,
   "id": "f89397ff",
   "metadata": {},
   "outputs": [
    {
     "name": "stdout",
     "output_type": "stream",
     "text": [
      "abracadabra \n",
      "5 k\n",
      "abrackdabra \n"
     ]
    }
   ],
   "source": [
    "def mutate_string(string, position, character):\n",
    "    l = list(string)\n",
    "    l[position] = f\"{character}\"\n",
    "    result = \"\".join(l)\n",
    "    return result\n",
    "\n",
    "if __name__ == '__main__':\n",
    "    s = input()\n",
    "    i, c = input().split()\n",
    "    s_new = mutate_string(s, int(i), c)\n",
    "    print(s_new)"
   ]
  },
  {
   "cell_type": "code",
   "execution_count": 73,
   "id": "1660d0a5",
   "metadata": {},
   "outputs": [
    {
     "name": "stdout",
     "output_type": "stream",
     "text": [
      "5\n",
      "    \n",
      "   H\n",
      "  HH\n",
      " HHH\n",
      "HHHH\n"
     ]
    }
   ],
   "source": [
    "thickness = int(input())\n",
    "c = 'H'\n",
    "\n",
    "for i in range(thickness):\n",
    "    print((c*i).rjust(thickness-1))"
   ]
  },
  {
   "cell_type": "code",
   "execution_count": 76,
   "id": "50a265a7",
   "metadata": {},
   "outputs": [
    {
     "name": "stdout",
     "output_type": "stream",
     "text": [
      "5\n",
      "                    HHHHHHHHH \n",
      "                     HHHHHHH  \n",
      "                      HHHHH   \n",
      "                       HHH    \n",
      "                        H     \n"
     ]
    }
   ],
   "source": [
    "thickness = int(input())\n",
    "c = 'H'\n",
    "\n",
    "for i in range(thickness):\n",
    "    print(((c*(thickness-i-1)).rjust(thickness)+c+(c*(thickness-i-1)).ljust(thickness)).rjust(thickness*6))"
   ]
  },
  {
   "cell_type": "code",
   "execution_count": 86,
   "id": "0eaa6155",
   "metadata": {},
   "outputs": [
    {
     "name": "stdout",
     "output_type": "stream",
     "text": [
      "5\n",
      "    H    \n",
      "   HHH   \n",
      "  HHHHH  \n",
      " HHHHHHH \n",
      "HHHHHHHHH\n",
      "  HHHHH               HHHHH             \n",
      "  HHHHH               HHHHH             \n",
      "  HHHHH               HHHHH             \n",
      "  HHHHH               HHHHH             \n",
      "  HHHHH               HHHHH             \n",
      "  HHHHH               HHHHH             \n",
      "  HHHHHHHHHHHHHHHHHHHHHHHHH   \n",
      "  HHHHHHHHHHHHHHHHHHHHHHHHH   \n",
      "  HHHHHHHHHHHHHHHHHHHHHHHHH   \n",
      "  HHHHH               HHHHH             \n",
      "  HHHHH               HHHHH             \n",
      "  HHHHH               HHHHH             \n",
      "  HHHHH               HHHHH             \n",
      "  HHHHH               HHHHH             \n",
      "  HHHHH               HHHHH             \n",
      "                    HHHHHHHHH \n",
      "                     HHHHHHH  \n",
      "                      HHHHH   \n",
      "                       HHH    \n",
      "                        H     \n"
     ]
    }
   ],
   "source": [
    "thickness = int(input())\n",
    "c = 'H'\n",
    "\n",
    "for i in range(thickness):\n",
    "    print((c*i).rjust(thickness-1)+c+(c*i).ljust(thickness-1))\n",
    "\n",
    "for i in range(thickness+1):\n",
    "    print((c*thickness).center(thickness*2)+(c*thickness).center(thickness*6))\n",
    "\n",
    "for i in range((thickness+1)//2):\n",
    "    print((c*thickness*5).center(thickness*6))\n",
    "\n",
    "for i in range(thickness+1):\n",
    "    print((c*thickness).center(thickness*2)+(c*thickness).center(thickness*6))\n",
    "    \n",
    "for i in range(thickness):\n",
    "    print(((c*(thickness-i-1)).rjust(thickness)+c+(c*(thickness-i-1)).ljust(thickness)).rjust(thickness*6))"
   ]
  },
  {
   "cell_type": "code",
   "execution_count": 63,
   "id": "35cee1e5",
   "metadata": {},
   "outputs": [
    {
     "name": "stdout",
     "output_type": "stream",
     "text": [
      "ABCDEFGHIJKLIMNOQRSTUVWXYZ\n",
      "4\n",
      "ABCD\n",
      "EFGH\n",
      "IJKL\n",
      "MNOQ\n",
      "RSTU\n",
      "VWXY\n",
      "Z\n",
      "None\n"
     ]
    }
   ],
   "source": [
    "import textwrap\n",
    "\n",
    "def wrap(string, max_width):\n",
    "    for i in range(round(len(string)/max_width) + 1):\n",
    "        a = string[:max_width]\n",
    "        print(a)\n",
    "        string = string.lstrip(a)\n",
    "    \n",
    "    return\n",
    "\n",
    "if __name__ == '__main__':\n",
    "    string, max_width = input(), int(input())\n",
    "    result = wrap(string, max_width)\n",
    "    print(result)"
   ]
  },
  {
   "cell_type": "code",
   "execution_count": null,
   "id": "19a45094",
   "metadata": {},
   "outputs": [],
   "source": []
  },
  {
   "cell_type": "code",
   "execution_count": 80,
   "id": "5c10dfae",
   "metadata": {},
   "outputs": [
    {
     "name": "stdout",
     "output_type": "stream",
     "text": [
      "ABCDEFGHIJKLIMNOQRSTUVWXYZ\n",
      "4\n",
      "ABCD\n",
      "EFGH\n",
      "IJKL\n",
      "IMNO\n",
      "QRST\n",
      "UVWX\n",
      "YZ\n"
     ]
    }
   ],
   "source": [
    "import textwrap\n",
    "\n",
    "def wrap(string, max_width):\n",
    "    a = []\n",
    "    for i in range(0, len(string), max_width):\n",
    "        a.append(string[i:i+max_width])\n",
    "    return \"\\n\".join(a)\n",
    "\n",
    "if __name__ == '__main__':\n",
    "    string, max_width = input(), int(input())\n",
    "    result = wrap(string, max_width)\n",
    "    print(result)"
   ]
  },
  {
   "cell_type": "code",
   "execution_count": 81,
   "id": "3bbb813d",
   "metadata": {},
   "outputs": [
    {
     "data": {
      "text/plain": [
       "9"
      ]
     },
     "execution_count": 81,
     "metadata": {},
     "output_type": "execute_result"
    }
   ],
   "source": [
    "len(\"---------\")"
   ]
  },
  {
   "cell_type": "code",
   "execution_count": 84,
   "id": "a9e5021c",
   "metadata": {},
   "outputs": [
    {
     "data": {
      "text/plain": [
       "21"
      ]
     },
     "execution_count": 84,
     "metadata": {},
     "output_type": "execute_result"
    }
   ],
   "source": [
    "len(\"------.|..|..|.------\")"
   ]
  },
  {
   "cell_type": "code",
   "execution_count": 85,
   "id": "aae1ce21",
   "metadata": {},
   "outputs": [
    {
     "data": {
      "text/plain": [
       "21"
      ]
     },
     "execution_count": 85,
     "metadata": {},
     "output_type": "execute_result"
    }
   ],
   "source": [
    "len(\"---.|..|..|..|..|.---\")"
   ]
  },
  {
   "cell_type": "code",
   "execution_count": 82,
   "id": "49ebfb09",
   "metadata": {},
   "outputs": [
    {
     "data": {
      "text/plain": [
       "21"
      ]
     },
     "execution_count": 82,
     "metadata": {},
     "output_type": "execute_result"
    }
   ],
   "source": [
    "len(\"---------.|.---------\")"
   ]
  },
  {
   "cell_type": "code",
   "execution_count": 83,
   "id": "4b21ffd1",
   "metadata": {},
   "outputs": [
    {
     "data": {
      "text/plain": [
       "33"
      ]
     },
     "execution_count": 83,
     "metadata": {},
     "output_type": "execute_result"
    }
   ],
   "source": [
    "len(\"---------------.|.---------------\")"
   ]
  },
  {
   "cell_type": "code",
   "execution_count": 99,
   "id": "2037003e",
   "metadata": {},
   "outputs": [
    {
     "name": "stdout",
     "output_type": "stream",
     "text": [
      "7 21\n",
      "---------.|.---------\n",
      "------.|..|..|.------\n",
      "---.|..|..|..|..|.---\n",
      "-------WELCOME-------\n",
      "---.|..|..|..|..|.---\n",
      "------.|..|..|.------\n",
      "---------.|.---------\n"
     ]
    }
   ],
   "source": [
    "def door_mat(n, m):\n",
    "    #top\n",
    "    for i in range(1, n, 2):\n",
    "        pattern = (\".|.\" * i).center(m, '-')\n",
    "        print(pattern)\n",
    "    \n",
    "    #middle\n",
    "    print(\"WELCOME\".center(m, '-'))\n",
    "    \n",
    "    #bottom\n",
    "    for i in range(n-2, 0, -2):\n",
    "        pattern = (\".|.\" * i).center(m, '-')\n",
    "        print(pattern)\n",
    "    \n",
    "if __name__ == '__main__':\n",
    "    n, m = map(int, input().split())\n",
    "    door_mat(n, m)"
   ]
  },
  {
   "cell_type": "code",
   "execution_count": 97,
   "id": "f17f2bd7",
   "metadata": {},
   "outputs": [
    {
     "name": "stdout",
     "output_type": "stream",
     "text": [
      "1\n",
      "3\n",
      "5\n"
     ]
    }
   ],
   "source": [
    "for i in range(1, 7, 2):\n",
    "    print(i)"
   ]
  },
  {
   "cell_type": "code",
   "execution_count": null,
   "id": "35fbcc24",
   "metadata": {},
   "outputs": [],
   "source": []
  },
  {
   "cell_type": "code",
   "execution_count": null,
   "id": "3eb9154a",
   "metadata": {},
   "outputs": [],
   "source": [
    "thickness = int(input())\n",
    "c = 'H'\n",
    "\n",
    "for i in range(thickness):\n",
    "    print((c*i).rjust(thickness-1)+c+(c*i).ljust(thickness-1))\n",
    "\n",
    "for i in range(thickness+1):\n",
    "    print((c*thickness).center(thickness*2)+(c*thickness).center(thickness*6))\n",
    "\n",
    "for i in range((thickness+1)//2):\n",
    "    print((c*thickness*5).center(thickness*6))\n",
    "\n",
    "for i in range(thickness+1):\n",
    "    print((c*thickness).center(thickness*2)+(c*thickness).center(thickness*6))\n",
    "    \n",
    "for i in range(thickness):\n",
    "    print(((c*(thickness-i-1)).rjust(thickness)+c+(c*(thickness-i-1)).ljust(thickness)).rjust(thickness*6))"
   ]
  },
  {
   "cell_type": "code",
   "execution_count": 96,
   "id": "6ff19df3",
   "metadata": {},
   "outputs": [
    {
     "name": "stdout",
     "output_type": "stream",
     "text": [
      "7 21\n",
      "---------.|.---------\n",
      "------.|..|..|.------\n",
      "---.|..|..|..|..|.---\n",
      "-------WELCOME-------\n",
      "---.|..|..|..|..|.---\n",
      "------.|..|..|.------\n",
      "---------.|.---------\n"
     ]
    }
   ],
   "source": [
    "def door_mat(n, m):\n",
    "    # Top part\n",
    "    for i in range(1, n, 2):\n",
    "        pattern = (\".|.\" * i).center(m, '-')\n",
    "        print(pattern)\n",
    "    \n",
    "    # Middle part\n",
    "    print(\"WELCOME\".center(m, '-'))\n",
    "    \n",
    "    # Bottom part\n",
    "    for i in range(n-2, 0, -2):\n",
    "        pattern = (\".|.\" * i).center(m, '-')\n",
    "        print(pattern)\n",
    "\n",
    "if __name__ == '__main__':\n",
    "    n, m = map(int, input().split())\n",
    "    door_mat(n, m)\n"
   ]
  },
  {
   "cell_type": "code",
   "execution_count": 91,
   "id": "505b301a",
   "metadata": {},
   "outputs": [
    {
     "name": "stdout",
     "output_type": "stream",
     "text": [
      "9 27\n"
     ]
    }
   ],
   "source": [
    "n, m = map(int, input().split())"
   ]
  },
  {
   "cell_type": "code",
   "execution_count": 92,
   "id": "ab02ec44",
   "metadata": {},
   "outputs": [
    {
     "data": {
      "text/plain": [
       "9"
      ]
     },
     "execution_count": 92,
     "metadata": {},
     "output_type": "execute_result"
    }
   ],
   "source": [
    "n"
   ]
  },
  {
   "cell_type": "code",
   "execution_count": 93,
   "id": "9322ef78",
   "metadata": {},
   "outputs": [
    {
     "data": {
      "text/plain": [
       "27"
      ]
     },
     "execution_count": 93,
     "metadata": {},
     "output_type": "execute_result"
    }
   ],
   "source": [
    "m"
   ]
  },
  {
   "cell_type": "code",
   "execution_count": 33,
   "id": "e5b76404",
   "metadata": {},
   "outputs": [
    {
     "name": "stdout",
     "output_type": "stream",
     "text": [
      "１７\n",
      "    1     1     1     1\n",
      "    2     2     2    10\n",
      "    3     3     3    11\n",
      "    4     4     4   100\n",
      "    5     5     5   101\n",
      "    6     6     6   110\n",
      "    7     7     7   111\n",
      "    8    10     8  1000\n",
      "    9    11     9  1001\n",
      "   10    12     A  1010\n",
      "   11    13     B  1011\n",
      "   12    14     C  1100\n",
      "   13    15     D  1101\n",
      "   14    16     E  1110\n",
      "   15    17     F  1111\n",
      "   16    20    10 10000\n",
      "   17    21    11 10001\n"
     ]
    }
   ],
   "source": [
    "def print_formatted(number):\n",
    "    # your code goes here\n",
    "    \n",
    "    width = len(bin(number))-2\n",
    "    \n",
    "    for i in range(1, number+1):\n",
    "        decimal = i\n",
    "        octal = oct(i)[2:]\n",
    "        hexadecimal = hex(i)[2:].upper()\n",
    "        binary = bin(i)[2:]\n",
    "        print(f\"{decimal:>{width}} {octal:>{width}} {hexadecimal:>{width}} {binary:>{width}}\")\n",
    "        \n",
    "    return \n",
    "    \n",
    "if __name__ == '__main__':\n",
    "    n = int(input())\n",
    "    print_formatted(n)"
   ]
  },
  {
   "cell_type": "code",
   "execution_count": 13,
   "id": "99578156",
   "metadata": {},
   "outputs": [
    {
     "data": {
      "text/plain": [
       "'21'"
      ]
     },
     "execution_count": 13,
     "metadata": {},
     "output_type": "execute_result"
    }
   ],
   "source": [
    "oct(17)[2:]"
   ]
  },
  {
   "cell_type": "code",
   "execution_count": 27,
   "id": "4d32c4c4",
   "metadata": {},
   "outputs": [
    {
     "data": {
      "text/plain": [
       "'1B'"
      ]
     },
     "execution_count": 27,
     "metadata": {},
     "output_type": "execute_result"
    }
   ],
   "source": [
    "hex(27)[2:].upper()"
   ]
  },
  {
   "cell_type": "code",
   "execution_count": 24,
   "id": "b78184de",
   "metadata": {},
   "outputs": [
    {
     "data": {
      "text/plain": [
       "'0b11011'"
      ]
     },
     "execution_count": 24,
     "metadata": {},
     "output_type": "execute_result"
    }
   ],
   "source": [
    "bin(27)"
   ]
  },
  {
   "cell_type": "code",
   "execution_count": 42,
   "id": "3a077b5c",
   "metadata": {},
   "outputs": [
    {
     "name": "stdout",
     "output_type": "stream",
     "text": [
      "5\n",
      "--------e--------\n",
      "------e-d-e------\n",
      "----e-d-c-d-e----\n",
      "--e-d-c-b-c-d-e--\n",
      "e-d-c-b-a-b-c-d-e\n",
      "--e-d-c-b-c-d-e--\n",
      "----e-d-c-d-e----\n",
      "------e-d-e------\n",
      "--------e--------\n"
     ]
    }
   ],
   "source": [
    "def print_rangoli(size):\n",
    "    # your code goes here\n",
    "    import string\n",
    "    alphabet = string.ascii_lowercase\n",
    "    a_list = []\n",
    "    \n",
    "    for i in range(size):\n",
    "        s = '-'.join(alphabet[size-1:i:-1]+alphabet[i:size])\n",
    "        a_list.append(s.center(size*4 - 3, '-'))\n",
    "        \n",
    "    rangoli = '\\n'.join(a_list[::-1]+a_list[1:])\n",
    "    \n",
    "    return print(rangoli)\n",
    "\n",
    "if __name__ == '__main__':\n",
    "    n = int(input())\n",
    "    print_rangoli(n)"
   ]
  },
  {
   "cell_type": "code",
   "execution_count": 38,
   "id": "a203b209",
   "metadata": {},
   "outputs": [
    {
     "name": "stdout",
     "output_type": "stream",
     "text": [
      "e-d-c-b-a-b-c-d-e\n",
      "e-d-c-b-c-d-e\n",
      "e-d-c-d-e\n",
      "e-d-e\n",
      "e\n"
     ]
    }
   ],
   "source": [
    "alphabet = string.ascii_lowercase\n",
    "a_list = []\n",
    "\n",
    "size = 5\n",
    "for i in range(size):\n",
    "    s = '-'.join(alphabet[size-1:i:-1]+alphabet[i:size])\n",
    "    a_list.append(s.center(size*4 - 3, '-'))\n",
    "    "
   ]
  },
  {
   "cell_type": "code",
   "execution_count": 39,
   "id": "a1bc2383",
   "metadata": {},
   "outputs": [
    {
     "data": {
      "text/plain": [
       "['e-d-c-b-a-b-c-d-e',\n",
       " '--e-d-c-b-c-d-e--',\n",
       " '----e-d-c-d-e----',\n",
       " '------e-d-e------',\n",
       " '--------e--------']"
      ]
     },
     "execution_count": 39,
     "metadata": {},
     "output_type": "execute_result"
    }
   ],
   "source": [
    "a_list"
   ]
  },
  {
   "cell_type": "code",
   "execution_count": 43,
   "id": "f6be513f",
   "metadata": {},
   "outputs": [
    {
     "data": {
      "text/plain": [
       "['--------e--------',\n",
       " '------e-d-e------',\n",
       " '----e-d-c-d-e----',\n",
       " '--e-d-c-b-c-d-e--',\n",
       " 'e-d-c-b-a-b-c-d-e']"
      ]
     },
     "execution_count": 43,
     "metadata": {},
     "output_type": "execute_result"
    }
   ],
   "source": [
    "a_list[::-1]"
   ]
  },
  {
   "cell_type": "code",
   "execution_count": 44,
   "id": "d98ce4a4",
   "metadata": {},
   "outputs": [
    {
     "data": {
      "text/plain": [
       "['--e-d-c-b-c-d-e--',\n",
       " '----e-d-c-d-e----',\n",
       " '------e-d-e------',\n",
       " '--------e--------']"
      ]
     },
     "execution_count": 44,
     "metadata": {},
     "output_type": "execute_result"
    }
   ],
   "source": [
    "a_list[1:]"
   ]
  },
  {
   "cell_type": "code",
   "execution_count": null,
   "id": "bff4f3bb",
   "metadata": {},
   "outputs": [],
   "source": []
  },
  {
   "cell_type": "code",
   "execution_count": null,
   "id": "ebdc1668",
   "metadata": {},
   "outputs": [],
   "source": []
  },
  {
   "cell_type": "code",
   "execution_count": null,
   "id": "4bb49111",
   "metadata": {},
   "outputs": [],
   "source": []
  },
  {
   "cell_type": "code",
   "execution_count": 2,
   "id": "6bfc77d0",
   "metadata": {},
   "outputs": [
    {
     "data": {
      "text/plain": [
       "'abcdefghijklmnopqrstuvwxyz'"
      ]
     },
     "execution_count": 2,
     "metadata": {},
     "output_type": "execute_result"
    }
   ],
   "source": [
    "import string\n",
    "\n",
    "alpha = string.ascii_lowercase\n",
    "alpha"
   ]
  },
  {
   "cell_type": "code",
   "execution_count": null,
   "id": "04503fad",
   "metadata": {},
   "outputs": [],
   "source": []
  },
  {
   "cell_type": "code",
   "execution_count": null,
   "id": "b9437460",
   "metadata": {},
   "outputs": [],
   "source": []
  },
  {
   "cell_type": "code",
   "execution_count": null,
   "id": "b4391fa5",
   "metadata": {},
   "outputs": [],
   "source": []
  },
  {
   "cell_type": "code",
   "execution_count": null,
   "id": "523d55d6",
   "metadata": {},
   "outputs": [],
   "source": []
  },
  {
   "cell_type": "code",
   "execution_count": null,
   "id": "7b002526",
   "metadata": {},
   "outputs": [],
   "source": []
  },
  {
   "cell_type": "code",
   "execution_count": null,
   "id": "a41fc98d",
   "metadata": {},
   "outputs": [],
   "source": []
  },
  {
   "cell_type": "code",
   "execution_count": 26,
   "id": "1b58c618",
   "metadata": {},
   "outputs": [
    {
     "data": {
      "text/plain": [
       "'edc'"
      ]
     },
     "execution_count": 26,
     "metadata": {},
     "output_type": "execute_result"
    }
   ],
   "source": [
    "alpha[4:1:-1]"
   ]
  },
  {
   "cell_type": "code",
   "execution_count": 27,
   "id": "047c3177",
   "metadata": {},
   "outputs": [
    {
     "data": {
      "text/plain": [
       "'dc'"
      ]
     },
     "execution_count": 27,
     "metadata": {},
     "output_type": "execute_result"
    }
   ],
   "source": [
    "alpha[3:1:-1]"
   ]
  },
  {
   "cell_type": "code",
   "execution_count": 28,
   "id": "0d025b28",
   "metadata": {},
   "outputs": [
    {
     "data": {
      "text/plain": [
       "'c'"
      ]
     },
     "execution_count": 28,
     "metadata": {},
     "output_type": "execute_result"
    }
   ],
   "source": [
    "alpha[2:1:-1]"
   ]
  },
  {
   "cell_type": "code",
   "execution_count": 29,
   "id": "1af9c2e7",
   "metadata": {},
   "outputs": [
    {
     "data": {
      "text/plain": [
       "'bcde'"
      ]
     },
     "execution_count": 29,
     "metadata": {},
     "output_type": "execute_result"
    }
   ],
   "source": [
    "alpha[1:5]"
   ]
  },
  {
   "cell_type": "code",
   "execution_count": 35,
   "id": "79ae5d53",
   "metadata": {},
   "outputs": [
    {
     "data": {
      "text/plain": [
       "17"
      ]
     },
     "execution_count": 35,
     "metadata": {},
     "output_type": "execute_result"
    }
   ],
   "source": [
    "len(\"--------e--------\")"
   ]
  },
  {
   "cell_type": "code",
   "execution_count": 3,
   "id": "3f701cb4",
   "metadata": {},
   "outputs": [],
   "source": [
    "n = 3"
   ]
  },
  {
   "cell_type": "code",
   "execution_count": 25,
   "id": "f9c1f7e2",
   "metadata": {},
   "outputs": [
    {
     "name": "stdout",
     "output_type": "stream",
     "text": [
      "----c----\n",
      "----b----\n",
      "----a----\n"
     ]
    }
   ],
   "source": [
    "for i in range(n-1, 0-1, -1):\n",
    "    pattern = (f\"{alpha[i]}\".center(n**2, '-'))\n",
    "    print(pattern)"
   ]
  },
  {
   "cell_type": "code",
   "execution_count": null,
   "id": "d4d6baeb",
   "metadata": {},
   "outputs": [],
   "source": [
    "pattern = (\".|.\" * i).center(m, '-')"
   ]
  },
  {
   "cell_type": "code",
   "execution_count": null,
   "id": "a753b6f7",
   "metadata": {},
   "outputs": [],
   "source": [
    "----c----"
   ]
  },
  {
   "cell_type": "code",
   "execution_count": null,
   "id": "8e3e4961",
   "metadata": {},
   "outputs": [],
   "source": []
  },
  {
   "cell_type": "code",
   "execution_count": 40,
   "id": "26004924",
   "metadata": {},
   "outputs": [
    {
     "ename": "KeyError",
     "evalue": "'OUTPUT_PATH'",
     "output_type": "error",
     "traceback": [
      "\u001b[0;31m---------------------------------------------------------------------------\u001b[0m",
      "\u001b[0;31mKeyError\u001b[0m                                  Traceback (most recent call last)",
      "Cell \u001b[0;32mIn[40], line 17\u001b[0m\n\u001b[1;32m     14\u001b[0m     \u001b[38;5;28;01mreturn\u001b[39;00m result\n\u001b[1;32m     16\u001b[0m \u001b[38;5;28;01mif\u001b[39;00m \u001b[38;5;18m__name__\u001b[39m \u001b[38;5;241m==\u001b[39m \u001b[38;5;124m'\u001b[39m\u001b[38;5;124m__main__\u001b[39m\u001b[38;5;124m'\u001b[39m:\n\u001b[0;32m---> 17\u001b[0m     fptr \u001b[38;5;241m=\u001b[39m \u001b[38;5;28mopen\u001b[39m(\u001b[43mos\u001b[49m\u001b[38;5;241;43m.\u001b[39;49m\u001b[43menviron\u001b[49m\u001b[43m[\u001b[49m\u001b[38;5;124;43m'\u001b[39;49m\u001b[38;5;124;43mOUTPUT_PATH\u001b[39;49m\u001b[38;5;124;43m'\u001b[39;49m\u001b[43m]\u001b[49m, \u001b[38;5;124m'\u001b[39m\u001b[38;5;124mw\u001b[39m\u001b[38;5;124m'\u001b[39m)\n\u001b[1;32m     19\u001b[0m     s \u001b[38;5;241m=\u001b[39m \u001b[38;5;28minput\u001b[39m()\n\u001b[1;32m     21\u001b[0m     result \u001b[38;5;241m=\u001b[39m solve(s)\n",
      "File \u001b[0;32m<frozen os>:679\u001b[0m, in \u001b[0;36m__getitem__\u001b[0;34m(self, key)\u001b[0m\n",
      "\u001b[0;31mKeyError\u001b[0m: 'OUTPUT_PATH'"
     ]
    }
   ],
   "source": [
    "#!/bin/python3\n",
    "\n",
    "import math\n",
    "import os\n",
    "import random\n",
    "import re\n",
    "import sys\n",
    "\n",
    "# Complete the solve function below.\n",
    "def solve(s):\n",
    "    words = s.split()\n",
    "    capitalized_words = [word.capitalize() for word in words]\n",
    "    result = \" \".join(capitalized_words)\n",
    "    return result\n",
    "\n",
    "if __name__ == '__main__':\n",
    "    fptr = open(os.environ['OUTPUT_PATH'], 'w')\n",
    "\n",
    "    s = input()\n",
    "\n",
    "    result = solve(s)\n",
    "\n",
    "    fptr.write(result + '\\n')\n",
    "\n",
    "    fptr.close()\n"
   ]
  },
  {
   "cell_type": "code",
   "execution_count": null,
   "id": "1e87c019",
   "metadata": {},
   "outputs": [],
   "source": []
  },
  {
   "cell_type": "code",
   "execution_count": 46,
   "id": "686398e5",
   "metadata": {},
   "outputs": [
    {
     "name": "stdout",
     "output_type": "stream",
     "text": [
      "hello   world  lol\n"
     ]
    },
    {
     "data": {
      "text/plain": [
       "'Hello World Lol'"
      ]
     },
     "execution_count": 46,
     "metadata": {},
     "output_type": "execute_result"
    }
   ],
   "source": [
    "# Complete the solve function below.\n",
    "def solve(s):\n",
    "    s = input()\n",
    "    words = s.split()\n",
    "    capitalized_words = [word.capitalize() for word in words]\n",
    "    result = \" \".join(capitalized_words)\n",
    "    return result\n",
    "\n",
    "solve(s)"
   ]
  },
  {
   "cell_type": "code",
   "execution_count": 45,
   "id": "f04d9b70",
   "metadata": {},
   "outputs": [
    {
     "name": "stdout",
     "output_type": "stream",
     "text": [
      "c\n",
      "h\n",
      "r\n",
      "i\n",
      "s\n",
      " \n",
      "a\n",
      "l\n",
      "a\n",
      "n\n"
     ]
    }
   ],
   "source": [
    "s = \"chris alan\"\n",
    "for char in s:\n",
    "    print(char)"
   ]
  },
  {
   "cell_type": "code",
   "execution_count": 1,
   "id": "b41a1e4b-81f5-4774-8290-cc4d71a8f89a",
   "metadata": {},
   "outputs": [
    {
     "name": "stdin",
     "output_type": "stream",
     "text": [
      " AABCAAADA\n",
      " 3\n"
     ]
    }
   ],
   "source": [
    "string, k = input(), int(input())"
   ]
  },
  {
   "cell_type": "code",
   "execution_count": 2,
   "id": "4aea7dc0-ff00-4952-9105-179338623869",
   "metadata": {},
   "outputs": [
    {
     "data": {
      "text/plain": [
       "'AABCAAADA'"
      ]
     },
     "execution_count": 2,
     "metadata": {},
     "output_type": "execute_result"
    }
   ],
   "source": [
    "string"
   ]
  },
  {
   "cell_type": "code",
   "execution_count": 14,
   "id": "65f2bd8c-4d2e-4570-85a5-c7139d3541dd",
   "metadata": {},
   "outputs": [
    {
     "data": {
      "text/plain": [
       "['AAB', 'CAA', 'ADA']"
      ]
     },
     "execution_count": 14,
     "metadata": {},
     "output_type": "execute_result"
    }
   ],
   "source": [
    "words = [string[i:i+k] for i in range(0, len(string), k)]\n",
    "words"
   ]
  },
  {
   "cell_type": "code",
   "execution_count": 21,
   "id": "82a27c0b-be66-416e-ac53-a207c35e6b35",
   "metadata": {},
   "outputs": [
    {
     "name": "stdout",
     "output_type": "stream",
     "text": [
      "AB\n",
      "CA\n",
      "AD\n"
     ]
    }
   ],
   "source": [
    "word = [\"\".join(set(words[i])) for i in range(len(words))]\n",
    "for text in word:\n",
    "    print(text)"
   ]
  },
  {
   "cell_type": "code",
   "execution_count": 22,
   "id": "ce2b4b7d-ad12-44a0-8fe1-37279befc73e",
   "metadata": {},
   "outputs": [],
   "source": [
    "def merge_the_tools(string, k):\n",
    "    # your code goes here\n",
    "    words = [string[i:i+k] for i in range(0, len(string), k)]\n",
    "    word = [\"\".join(set(words[i])) for i in range(len(words))]\n",
    "    for text in word:\n",
    "        print(text)\n",
    "    return "
   ]
  },
  {
   "cell_type": "code",
   "execution_count": 23,
   "id": "7dab6909-d440-4bb5-bb24-2abf6f95da59",
   "metadata": {},
   "outputs": [
    {
     "name": "stdout",
     "output_type": "stream",
     "text": [
      "AB\n",
      "CA\n",
      "AD\n"
     ]
    }
   ],
   "source": [
    "merge_the_tools(string, k)"
   ]
  },
  {
   "cell_type": "code",
   "execution_count": null,
   "id": "ab6f2ad2-1f64-4a7d-a447-b4e0f8a3e454",
   "metadata": {},
   "outputs": [],
   "source": []
  },
  {
   "cell_type": "code",
   "execution_count": null,
   "id": "bfbfc1dc-fb38-4e83-a825-665ee4a40541",
   "metadata": {},
   "outputs": [],
   "source": []
  },
  {
   "cell_type": "code",
   "execution_count": 1,
   "id": "41405756-e7b4-4161-bfd7-95bb821b1152",
   "metadata": {},
   "outputs": [
    {
     "name": "stdin",
     "output_type": "stream",
     "text": [
      " 10\n",
      " 161 182 161 154 176 170 167 171 170 174\n"
     ]
    }
   ],
   "source": [
    "n = int(input())\n",
    "arr = list(map(int, input().split()))"
   ]
  },
  {
   "cell_type": "code",
   "execution_count": 18,
   "id": "63a8a3b9-c920-4dc2-b017-6379c4f13f40",
   "metadata": {},
   "outputs": [
    {
     "data": {
      "text/plain": [
       "1355"
      ]
     },
     "execution_count": 18,
     "metadata": {},
     "output_type": "execute_result"
    }
   ],
   "source": [
    "total = set(arr)\n",
    "sum(total)"
   ]
  },
  {
   "cell_type": "code",
   "execution_count": 21,
   "id": "c6e30971-f3dd-43d3-b656-084b39c6bf73",
   "metadata": {},
   "outputs": [
    {
     "data": {
      "text/plain": [
       "{154, 161, 167, 170, 171, 174, 176, 182}"
      ]
     },
     "execution_count": 21,
     "metadata": {},
     "output_type": "execute_result"
    }
   ],
   "source": [
    "total"
   ]
  },
  {
   "cell_type": "code",
   "execution_count": 8,
   "id": "180d7302-ca6e-461b-9394-256170050488",
   "metadata": {},
   "outputs": [
    {
     "data": {
      "text/plain": [
       "169.375"
      ]
     },
     "execution_count": 8,
     "metadata": {},
     "output_type": "execute_result"
    }
   ],
   "source": [
    "sum(total)/8"
   ]
  },
  {
   "cell_type": "code",
   "execution_count": 6,
   "id": "18f7af74-c480-4be6-a72f-9e911d3e2d15",
   "metadata": {},
   "outputs": [
    {
     "data": {
      "text/plain": [
       "8"
      ]
     },
     "execution_count": 6,
     "metadata": {},
     "output_type": "execute_result"
    }
   ],
   "source": [
    "len(total)"
   ]
  },
  {
   "cell_type": "code",
   "execution_count": null,
   "id": "d1bef255-fcf1-4bee-80a2-b057975b3a31",
   "metadata": {},
   "outputs": [],
   "source": []
  },
  {
   "cell_type": "code",
   "execution_count": 19,
   "id": "500c324a-2e3f-424b-9c7f-d8bdf45da82b",
   "metadata": {},
   "outputs": [],
   "source": [
    "def average(array):\n",
    "    # your code goes here\n",
    "    heights = set(array)\n",
    "    distinct_average = sum(heights) / len(heights)\n",
    "    return distinct_average\n",
    "    "
   ]
  },
  {
   "cell_type": "code",
   "execution_count": 20,
   "id": "6383e2ac-2d0b-41e9-809b-0448f50c445c",
   "metadata": {},
   "outputs": [
    {
     "name": "stdout",
     "output_type": "stream",
     "text": [
      "169.375\n"
     ]
    }
   ],
   "source": [
    "print(average(arr))"
   ]
  },
  {
   "cell_type": "code",
   "execution_count": null,
   "id": "5f10d2d5-0954-4d82-8854-9d64925c0dcc",
   "metadata": {},
   "outputs": [],
   "source": []
  },
  {
   "cell_type": "code",
   "execution_count": 52,
   "id": "d13cdd6b-b719-4c26-a52e-c41008eee599",
   "metadata": {},
   "outputs": [
    {
     "name": "stdin",
     "output_type": "stream",
     "text": [
      " 4\n",
      " 2 4 5 9\n",
      " 4\n",
      " 2 4 11 12\n"
     ]
    },
    {
     "name": "stdout",
     "output_type": "stream",
     "text": [
      "5\n",
      "9\n",
      "11\n",
      "12\n"
     ]
    }
   ],
   "source": [
    "def sym_diff(set_a_size, a, set_b_size, b):\n",
    "    sym_list = []\n",
    "    for sym_a in sorted(list(a.difference(b))):\n",
    "        sym_list.append(sym_a)\n",
    "    for sym_b in sorted(list(b.difference(a))):\n",
    "        sym_list.append(sym_b)\n",
    "    for num in sorted(sym_list):\n",
    "        print(num) \n",
    "    return\n",
    "\n",
    "if __name__ == '__main__':\n",
    "    set_a_size = int(input())\n",
    "    a = set(map(int, input().split()))\n",
    "    set_b_size = int(input())\n",
    "    b = set(map(int, input().split()))\n",
    "    sym_diff(set_a_size, a, set_b_size, b)\n",
    "    "
   ]
  },
  {
   "cell_type": "code",
   "execution_count": 47,
   "id": "7a9ead7f-fd7b-43ba-9a67-ad75ab2e7ba3",
   "metadata": {},
   "outputs": [
    {
     "name": "stdin",
     "output_type": "stream",
     "text": [
      " 4\n",
      " 2 4 5 9\n",
      " 4\n",
      " 2 4 11 12\n"
     ]
    }
   ],
   "source": [
    "set_a_size = int(input())\n",
    "a = set(map(int, input().split()))\n",
    "set_b_size = int(input())\n",
    "b = set(map(int, input().split()))"
   ]
  },
  {
   "cell_type": "code",
   "execution_count": null,
   "id": "9235dedc-fbd0-4ee8-87ac-1561128bff9d",
   "metadata": {},
   "outputs": [],
   "source": []
  },
  {
   "cell_type": "code",
   "execution_count": 15,
   "id": "58152271-d751-489e-87e3-e81915ae8a86",
   "metadata": {},
   "outputs": [
    {
     "name": "stdin",
     "output_type": "stream",
     "text": [
      " 3 2\n",
      " 1 5 3\n",
      " 3 1\n",
      " 5 7\n"
     ]
    },
    {
     "name": "stdout",
     "output_type": "stream",
     "text": [
      "1\n"
     ]
    }
   ],
   "source": [
    "m, n = map(int, input().split())\n",
    "array = list(map(int, input().split()))\n",
    "A = set(map(int, input().split()))\n",
    "B = set(map(int, input().split()))\n",
    "\n",
    "happiness = 0\n",
    "\n",
    "for element in array:\n",
    "    if element in A:\n",
    "        happiness += 1\n",
    "    elif element in B:\n",
    "        happiness -= 1\n",
    "\n",
    "print(happiness)\n"
   ]
  },
  {
   "cell_type": "code",
   "execution_count": 16,
   "id": "5fea0703-1f08-45c7-b938-e0ba90a8ffcc",
   "metadata": {},
   "outputs": [
    {
     "name": "stdin",
     "output_type": "stream",
     "text": [
      " 7\n"
     ]
    }
   ],
   "source": [
    "numbers = int(input())"
   ]
  },
  {
   "cell_type": "code",
   "execution_count": 24,
   "id": "618fa67a-ed63-470e-b6ca-da3005e36266",
   "metadata": {},
   "outputs": [
    {
     "name": "stdin",
     "output_type": "stream",
     "text": [
      " 7\n",
      " UK\n",
      " China\n",
      " USA\n",
      " France\n",
      " New Zealand\n",
      " UK\n",
      " France\n"
     ]
    },
    {
     "name": "stdout",
     "output_type": "stream",
     "text": [
      "5\n"
     ]
    }
   ],
   "source": [
    "\n",
    "\n",
    "numbers = int(input())\n",
    "\n",
    "countries = []\n",
    "\n",
    "for num in range(0, numbers):\n",
    "    countries.append(input())\n",
    "\n",
    "print(len(set(countries)))"
   ]
  },
  {
   "cell_type": "code",
   "execution_count": null,
   "id": "49ac016e-02cb-4850-b57d-bebc34800486",
   "metadata": {},
   "outputs": [],
   "source": []
  },
  {
   "cell_type": "code",
   "execution_count": 27,
   "id": "36b4256b-a93a-4827-9ced-236e98c682c2",
   "metadata": {},
   "outputs": [
    {
     "name": "stdin",
     "output_type": "stream",
     "text": [
      " 9\n",
      " 1 2 3 4 5 6 7 8 9\n",
      " 10\n",
      " pop\n",
      " remove 9\n",
      " discard 9\n",
      " discard 8\n",
      " remove 7\n",
      " pop\n",
      " discard 6\n",
      " remove 5\n",
      " pop\n",
      " discard 5\n"
     ]
    },
    {
     "name": "stdout",
     "output_type": "stream",
     "text": [
      "{4}\n"
     ]
    }
   ],
   "source": [
    "n = int(input())\n",
    "s = set(map(int, input().split()))\n",
    "m = int(input())\n",
    "\n",
    "for _ in range(m):\n",
    "    command = input().split()\n",
    "    if command[0] == 'pop':\n",
    "        s.pop()\n",
    "    elif command[0] == 'remove':\n",
    "        try:\n",
    "            s.remove(int(command[1]))\n",
    "        except KeyError:\n",
    "            pass\n",
    "    elif command[0] == 'discard':\n",
    "        s.discard(int(command[1]))\n",
    "\n",
    "print(sum(s))\n"
   ]
  },
  {
   "cell_type": "code",
   "execution_count": null,
   "id": "60e8dc2e-293a-44ac-8e55-c4e0b7446d0e",
   "metadata": {},
   "outputs": [],
   "source": []
  },
  {
   "cell_type": "code",
   "execution_count": 30,
   "id": "61473ffa-f922-4c8b-85dd-e83690647781",
   "metadata": {},
   "outputs": [
    {
     "name": "stdin",
     "output_type": "stream",
     "text": [
      " 1\n",
      " \n",
      " \n"
     ]
    },
    {
     "ename": "ValueError",
     "evalue": "invalid literal for int() with base 10: ''",
     "output_type": "error",
     "traceback": [
      "\u001b[0;31m---------------------------------------------------------------------------\u001b[0m",
      "\u001b[0;31mValueError\u001b[0m                                Traceback (most recent call last)",
      "Cell \u001b[0;32mIn[30], line 3\u001b[0m\n\u001b[1;32m      1\u001b[0m n \u001b[38;5;241m=\u001b[39m \u001b[38;5;28mint\u001b[39m(\u001b[38;5;28minput\u001b[39m())\n\u001b[1;32m      2\u001b[0m a \u001b[38;5;241m=\u001b[39m \u001b[38;5;28mset\u001b[39m(\u001b[38;5;28mmap\u001b[39m(\u001b[38;5;28mint\u001b[39m, \u001b[38;5;28minput\u001b[39m()\u001b[38;5;241m.\u001b[39msplit()))\n\u001b[0;32m----> 3\u001b[0m m \u001b[38;5;241m=\u001b[39m \u001b[38;5;28;43mint\u001b[39;49m\u001b[43m(\u001b[49m\u001b[38;5;28;43minput\u001b[39;49m\u001b[43m(\u001b[49m\u001b[43m)\u001b[49m\u001b[43m)\u001b[49m\n\u001b[1;32m      4\u001b[0m b \u001b[38;5;241m=\u001b[39m \u001b[38;5;28mset\u001b[39m(\u001b[38;5;28mmap\u001b[39m(\u001b[38;5;28mint\u001b[39m, \u001b[38;5;28minput\u001b[39m()\u001b[38;5;241m.\u001b[39msplit()))\n\u001b[1;32m      6\u001b[0m total \u001b[38;5;241m=\u001b[39m a\u001b[38;5;241m.\u001b[39munion(b)\n",
      "\u001b[0;31mValueError\u001b[0m: invalid literal for int() with base 10: ''"
     ]
    }
   ],
   "source": [
    "n = int(input())\n",
    "a = set(map(int, input().split()))\n",
    "m = int(input())\n",
    "b = set(map(int, input().split()))\n",
    "\n",
    "total = a.union(b)\n",
    "print(len(total))"
   ]
  },
  {
   "cell_type": "code",
   "execution_count": 31,
   "id": "eef093fc-e0a8-4767-a7c2-70d1c98a0ddd",
   "metadata": {},
   "outputs": [
    {
     "name": "stdin",
     "output_type": "stream",
     "text": [
      " 16\n",
      "  1 2 3 4 5 6 7 8 9 10 11 12 13 14 24 52\n",
      " 4\n",
      " intersection_update 10\n",
      " 2 3 5 6 8 9 1 4 7 11\n",
      " update 2\n",
      " 55 66\n",
      " symmetric_difference_update 5\n",
      " 22 7 35 62 58\n",
      " difference_update 7\n",
      " 11 22 35 55 58 62 66\n"
     ]
    },
    {
     "name": "stdout",
     "output_type": "stream",
     "text": [
      "8\n"
     ]
    }
   ],
   "source": [
    "n = int(input())\n",
    "A = set(map(int, input().split()))\n",
    "m = int(input())\n",
    "\n",
    "for _ in range(m):\n",
    "    command = input().split()\n",
    "    command_set = set(map(int, input().split()))\n",
    "    if command[0] == 'update':\n",
    "        A.update(command_set)\n",
    "    elif command[0] == 'intersection_update':\n",
    "        A.intersection_update(command_set)\n",
    "    elif command[0] == 'difference_update':\n",
    "        A.difference_update(command_set)\n",
    "    elif command[0] == 'symmetric_difference_update':\n",
    "        A.symmetric_difference_update(command_set)\n",
    "\n",
    "\n",
    "print(sum(A))"
   ]
  },
  {
   "cell_type": "code",
   "execution_count": 32,
   "id": "7518a8e1-2464-4276-ae6f-c06fe8b55712",
   "metadata": {},
   "outputs": [
    {
     "data": {
      "text/plain": [
       "38"
      ]
     },
     "execution_count": 32,
     "metadata": {},
     "output_type": "execute_result"
    }
   ],
   "source": [
    "sum(A)"
   ]
  },
  {
   "cell_type": "code",
   "execution_count": null,
   "id": "30956c24-c85d-4225-b91d-ab11db9fc46f",
   "metadata": {},
   "outputs": [],
   "source": []
  },
  {
   "cell_type": "code",
   "execution_count": 12,
   "id": "036431c3-300e-45f0-9f05-13770969b782",
   "metadata": {},
   "outputs": [
    {
     "name": "stdin",
     "output_type": "stream",
     "text": [
      " 5\n",
      "  1 2 3 6 5 4 4 2 5 3 6 1 6 5 3 2 4 1 2 5 1 4 3 6 8 4 3 1 5 6 2 \n"
     ]
    },
    {
     "name": "stdout",
     "output_type": "stream",
     "text": [
      "8\n"
     ]
    }
   ],
   "source": [
    "import collections\n",
    "\n",
    "n = int(input())\n",
    "A = list(map(int, input().split()))\n",
    "\n",
    "c = collections.Counter(A)\n",
    "\n",
    "print(c.most_common()[-1][0])\n"
   ]
  },
  {
   "cell_type": "code",
   "execution_count": null,
   "id": "f4562743-e6b3-4fb0-8a7f-4b47457918ed",
   "metadata": {},
   "outputs": [],
   "source": []
  },
  {
   "cell_type": "code",
   "execution_count": 26,
   "id": "22794e99-fa57-4c5c-98d0-74b59a315cff",
   "metadata": {},
   "outputs": [
    {
     "name": "stdin",
     "output_type": "stream",
     "text": [
      " 3\n",
      " 5\n",
      " 1 2 3 5 6\n",
      " 9\n",
      " 9 8 5 6 3 2 1 4 7\n",
      " 1\n",
      " 2\n",
      " 5\n",
      " 3 6 5 4 1\n",
      " 7\n",
      " 1 2 3 5 6 8 9\n",
      " 3\n",
      " 9 8 2\n"
     ]
    },
    {
     "name": "stdout",
     "output_type": "stream",
     "text": [
      "True\n",
      "False\n",
      "False\n"
     ]
    }
   ],
   "source": [
    "T = int(input())\n",
    "\n",
    "results = []\n",
    "\n",
    "for i in range(T):\n",
    "    \n",
    "    a = int(input())\n",
    "    A = set(map(int, input().split()))\n",
    "    b = int(input())\n",
    "    B = set(map(int, input().split()))\n",
    "    if A.issubset(B):\n",
    "        results.append(True)\n",
    "    else:\n",
    "        results.append(False)\n",
    "\n",
    "for result in results:\n",
    "    print(result)"
   ]
  },
  {
   "cell_type": "code",
   "execution_count": null,
   "id": "cc1e9678-f861-43ef-af15-230ef41f21a2",
   "metadata": {},
   "outputs": [],
   "source": []
  },
  {
   "cell_type": "code",
   "execution_count": 33,
   "id": "5982f2a0-9ca6-4d92-8ee3-099f3e496646",
   "metadata": {},
   "outputs": [
    {
     "name": "stdin",
     "output_type": "stream",
     "text": [
      " 1 2 3 4 5 6 7 8 9 10 11 12 23 45 84 78\n",
      " 2\n",
      " 1 2 3 4 5\n",
      " 100 11 12\n"
     ]
    },
    {
     "name": "stdout",
     "output_type": "stream",
     "text": [
      "False\n"
     ]
    }
   ],
   "source": [
    "A = set(map(int, input().split()))\n",
    "n = int(input())\n",
    "\n",
    "is_strict_superset = True\n",
    "\n",
    "for _ in range(n):\n",
    "    B = set(map(int, input().split()))\n",
    "    if not (A > B):\n",
    "        is_strict_superset = False\n",
    "        break\n",
    "print(is_strict_superset)"
   ]
  },
  {
   "cell_type": "code",
   "execution_count": null,
   "id": "d4025ca0-9126-4044-8616-51f13840fe93",
   "metadata": {},
   "outputs": [],
   "source": []
  },
  {
   "cell_type": "code",
   "execution_count": null,
   "id": "de29533b-014f-400b-99ac-b0ea4a72e757",
   "metadata": {},
   "outputs": [],
   "source": []
  },
  {
   "cell_type": "code",
   "execution_count": 25,
   "id": "4c9518a2-e708-427c-9268-dd8beb4a0696",
   "metadata": {},
   "outputs": [
    {
     "name": "stdin",
     "output_type": "stream",
     "text": [
      " 1 2\n"
     ]
    }
   ],
   "source": [
    "a = list(map(int, input().split()))"
   ]
  },
  {
   "cell_type": "code",
   "execution_count": 26,
   "id": "dbe2c09c-69c5-4551-a15c-66937869f23f",
   "metadata": {},
   "outputs": [
    {
     "data": {
      "text/plain": [
       "[1, 2]"
      ]
     },
     "execution_count": 26,
     "metadata": {},
     "output_type": "execute_result"
    }
   ],
   "source": [
    "a"
   ]
  },
  {
   "cell_type": "code",
   "execution_count": 27,
   "id": "81d823c0-ec0b-4a18-a1db-08be19b8fc25",
   "metadata": {},
   "outputs": [
    {
     "name": "stdin",
     "output_type": "stream",
     "text": [
      " 1 2\n",
      " 3 4\n"
     ]
    }
   ],
   "source": [
    "A = list(map(int, input().split()))\n",
    "B = list(map(int, input().split()))"
   ]
  },
  {
   "cell_type": "code",
   "execution_count": 28,
   "id": "0700e222-ce64-461a-85d5-a7aab72e2b26",
   "metadata": {},
   "outputs": [
    {
     "data": {
      "text/plain": [
       "([1, 2], [3, 4])"
      ]
     },
     "execution_count": 28,
     "metadata": {},
     "output_type": "execute_result"
    }
   ],
   "source": [
    "A, B"
   ]
  },
  {
   "cell_type": "code",
   "execution_count": 29,
   "id": "57d27f0e-e56c-4654-b681-07d0104a4f0e",
   "metadata": {},
   "outputs": [],
   "source": [
    "C = list(product(A, B))"
   ]
  },
  {
   "cell_type": "code",
   "execution_count": 37,
   "id": "793c5750-35da-4cf6-ae17-d4489d13d43c",
   "metadata": {},
   "outputs": [
    {
     "data": {
      "text/plain": [
       "[(1, 3), (1, 4), (2, 3), (2, 4)]"
      ]
     },
     "execution_count": 37,
     "metadata": {},
     "output_type": "execute_result"
    }
   ],
   "source": [
    "C"
   ]
  },
  {
   "cell_type": "code",
   "execution_count": 38,
   "id": "c5455362-80ab-49a2-80e1-4a7aad4ebfa9",
   "metadata": {},
   "outputs": [
    {
     "name": "stdout",
     "output_type": "stream",
     "text": [
      "(1, 3) (1, 4) (2, 3) (2, 4)\n"
     ]
    }
   ],
   "source": [
    "print(' '.join(map(str, C)))"
   ]
  },
  {
   "cell_type": "code",
   "execution_count": null,
   "id": "4d27909c-dd4a-4a9b-9d2e-aa3b7200a3ef",
   "metadata": {},
   "outputs": [],
   "source": []
  },
  {
   "cell_type": "code",
   "execution_count": null,
   "id": "06c40591-39e7-46a6-9616-076f92e16d01",
   "metadata": {},
   "outputs": [],
   "source": [
    "from itertools import product\n",
    "\n",
    "A = list(map(int, input().split()))\n",
    "B = list(map(int, input().split()))\n",
    "\n",
    "C = list(product(A, B))\n",
    "\n",
    "print(' '.join(map(str, C)))"
   ]
  },
  {
   "cell_type": "code",
   "execution_count": null,
   "id": "bd0af5a5-3291-45ee-a2e1-34bf0d8db01b",
   "metadata": {},
   "outputs": [],
   "source": []
  },
  {
   "cell_type": "code",
   "execution_count": 91,
   "id": "a58c84b8-8977-4000-8c85-dfb7ff24d323",
   "metadata": {},
   "outputs": [
    {
     "name": "stdin",
     "output_type": "stream",
     "text": [
      " HACK 2\n"
     ]
    },
    {
     "name": "stdout",
     "output_type": "stream",
     "text": [
      "AC\n",
      "AH\n",
      "AK\n",
      "CA\n",
      "CH\n",
      "CK\n",
      "HA\n",
      "HC\n",
      "HK\n",
      "KA\n",
      "KC\n",
      "KH\n"
     ]
    }
   ],
   "source": [
    "from itertools import permutations\n",
    "\n",
    "S, k = input().split()\n",
    "s=sorted(list(S))\n",
    "\n",
    "C = list(permutations(s, int(k)))\n",
    "\n",
    "for _ in C:\n",
    "    print(''.join(_))"
   ]
  },
  {
   "cell_type": "code",
   "execution_count": null,
   "id": "ea26513f-c444-4ac4-851b-3ff085f7cdc7",
   "metadata": {},
   "outputs": [],
   "source": []
  },
  {
   "cell_type": "code",
   "execution_count": 113,
   "id": "5e472db1-204d-44b5-bb7d-86f4e531a460",
   "metadata": {},
   "outputs": [
    {
     "name": "stdin",
     "output_type": "stream",
     "text": [
      " HACK 2\n"
     ]
    },
    {
     "name": "stdout",
     "output_type": "stream",
     "text": [
      "A\n",
      "C\n",
      "H\n",
      "K\n",
      "AC\n",
      "AH\n",
      "AK\n",
      "CH\n",
      "CK\n",
      "HK\n"
     ]
    }
   ],
   "source": [
    "from itertools import combinations\n",
    "S, k = input().split()\n",
    "s=sorted(list(S))\n",
    "\n",
    "for i in range(1, int(k)+1):\n",
    "    C = list(combinations(s, i))\n",
    "    # print(C)\n",
    "    for _ in C:\n",
    "        print(''.join(_))"
   ]
  },
  {
   "cell_type": "code",
   "execution_count": 100,
   "id": "1dff1515-f0ba-4591-8498-16c05885ad01",
   "metadata": {},
   "outputs": [
    {
     "data": {
      "text/plain": [
       "'2'"
      ]
     },
     "execution_count": 100,
     "metadata": {},
     "output_type": "execute_result"
    }
   ],
   "source": [
    "k"
   ]
  },
  {
   "cell_type": "code",
   "execution_count": 106,
   "id": "3154498d-e15f-4673-a1fc-1ca4a2360e55",
   "metadata": {},
   "outputs": [
    {
     "data": {
      "text/plain": [
       "'2'"
      ]
     },
     "execution_count": 106,
     "metadata": {},
     "output_type": "execute_result"
    }
   ],
   "source": [
    "k"
   ]
  },
  {
   "cell_type": "code",
   "execution_count": 112,
   "id": "e7e28230-c376-4b44-8b56-a589e99ca787",
   "metadata": {},
   "outputs": [
    {
     "name": "stdout",
     "output_type": "stream",
     "text": [
      "A\n",
      "C\n",
      "H\n",
      "K\n",
      "AC\n",
      "AH\n",
      "AK\n",
      "CH\n",
      "CK\n",
      "HK\n"
     ]
    }
   ],
   "source": [
    "for i in range(1, int(k)+1):\n",
    "    C = list(combinations(s, i))\n",
    "    # print(C)\n",
    "    for _ in C:\n",
    "        print(''.join(_))\n"
   ]
  },
  {
   "cell_type": "code",
   "execution_count": null,
   "id": "13a4136f-30f2-4d2c-94f3-b191a0d6a786",
   "metadata": {},
   "outputs": [],
   "source": []
  },
  {
   "cell_type": "code",
   "execution_count": 120,
   "id": "147a3999-bf73-4019-9598-58004e812a85",
   "metadata": {},
   "outputs": [
    {
     "name": "stdin",
     "output_type": "stream",
     "text": [
      " HACK 2\n"
     ]
    },
    {
     "name": "stdout",
     "output_type": "stream",
     "text": [
      "AA\n",
      "AC\n",
      "AH\n",
      "AK\n",
      "CC\n",
      "CH\n",
      "CK\n",
      "HH\n",
      "HK\n",
      "KK\n"
     ]
    }
   ],
   "source": [
    "from itertools import combinations_with_replacement\n",
    "\n",
    "S, k = input().split()\n",
    "s=sorted(list(S))\n",
    "\n",
    "C = list(combinations_with_replacement(s, int(k)))\n",
    "for _ in C:\n",
    "        print(''.join(_))"
   ]
  },
  {
   "cell_type": "code",
   "execution_count": 159,
   "id": "83a2df58-e51c-4929-8001-6a9650178a96",
   "metadata": {},
   "outputs": [
    {
     "name": "stdin",
     "output_type": "stream",
     "text": [
      " 1222311\n"
     ]
    },
    {
     "name": "stdout",
     "output_type": "stream",
     "text": [
      "(1, 1) (3, 2) (1, 3) (2, 1)\n"
     ]
    }
   ],
   "source": [
    "from itertools import groupby\n",
    "\n",
    "S = input()\n",
    "s = groupby(S)\n",
    "\n",
    "result = [(len(list(j)), int(k)) for k, j in s]\n",
    "\n",
    "print(' '.join(map(str, result)))"
   ]
  },
  {
   "cell_type": "code",
   "execution_count": null,
   "id": "826835f5-2282-46d6-9220-2657804d259d",
   "metadata": {},
   "outputs": [],
   "source": []
  },
  {
   "cell_type": "code",
   "execution_count": 181,
   "id": "a95c25bf-2551-4fe0-93dd-2ab1fc783fe1",
   "metadata": {},
   "outputs": [
    {
     "name": "stdin",
     "output_type": "stream",
     "text": [
      " 4\n",
      " a a c d\n",
      " 2\n"
     ]
    },
    {
     "name": "stdout",
     "output_type": "stream",
     "text": [
      "0.8333\n"
     ]
    }
   ],
   "source": [
    "from itertools import combinations\n",
    "\n",
    "N = input()\n",
    "N_list = list(input().split())\n",
    "K = int(input())\n",
    "\n",
    "c = list(combinations(N_list, K))\n",
    "\n",
    "a = [x for x in c if 'a' in x]\n",
    "\n",
    "probability = len(a)/len(c)\n",
    "\n",
    "print(f\"{probability:.4f}\")"
   ]
  },
  {
   "cell_type": "code",
   "execution_count": null,
   "id": "087b4671-d00a-465c-8534-45d7d0e0feb2",
   "metadata": {},
   "outputs": [],
   "source": []
  },
  {
   "cell_type": "code",
   "execution_count": 191,
   "id": "19a30d3d-50c2-4b66-b0bd-f70a43a3cf53",
   "metadata": {},
   "outputs": [
    {
     "name": "stdin",
     "output_type": "stream",
     "text": [
      " 3 1000\n",
      " 2 5 4\n",
      " 3 7 8 9\n",
      " 5 5 7 8 9 10\n"
     ]
    },
    {
     "name": "stdout",
     "output_type": "stream",
     "text": [
      "206\n"
     ]
    }
   ],
   "source": [
    "from itertools import product\n",
    "\n",
    "k, m = map(int, input().split())\n",
    "\n",
    "combinations = [list(map(int, input().split())) for _ in range(k)]\n",
    "\n",
    "print(max([sum([x**2 for x in item]) % m for item in product(*combinations)]))"
   ]
  },
  {
   "cell_type": "code",
   "execution_count": null,
   "id": "43fa7edc-d290-461f-a72c-79822c4eafc4",
   "metadata": {},
   "outputs": [],
   "source": []
  },
  {
   "cell_type": "code",
   "execution_count": 1,
   "id": "f5c2bc65-924c-40ca-9881-88f9ddb79115",
   "metadata": {},
   "outputs": [
    {
     "name": "stdin",
     "output_type": "stream",
     "text": [
      " 3\n",
      " lara@hackerrank.com\n",
      " brian-23@hackerrank.com\n",
      " britts_54@hackerrank.com\n"
     ]
    },
    {
     "name": "stdout",
     "output_type": "stream",
     "text": [
      "['brian-23@hackerrank.com', 'britts_54@hackerrank.com', 'lara@hackerrank.com']\n"
     ]
    }
   ],
   "source": [
    "import re\n",
    "\n",
    "def fun(s):\n",
    "    # return True if s is a valid email, else return False\n",
    "    email_pattern = r'^[a-zA-Z0-9-_]+@[a-zA-Z0-9]+\\.[a-zA-Z]{1,3}$'\n",
    "    return re.match(email_pattern, s)\n",
    "\n",
    "def filter_mail(emails):\n",
    "    return list(filter(fun, emails))\n",
    "\n",
    "if __name__ == '__main__':\n",
    "    n = int(input())\n",
    "    emails = []\n",
    "    for _ in range(n):\n",
    "        emails.append(input())\n",
    "\n",
    "filtered_emails = filter_mail(emails)\n",
    "filtered_emails.sort()\n",
    "print(filtered_emails)"
   ]
  },
  {
   "cell_type": "code",
   "execution_count": null,
   "id": "a4ccd10b-4ee8-4a87-8af1-bea250ae7dc9",
   "metadata": {},
   "outputs": [],
   "source": []
  },
  {
   "cell_type": "code",
   "execution_count": 11,
   "id": "f9ea3adf-4ae2-45b4-8ea5-ae2396d239e9",
   "metadata": {},
   "outputs": [
    {
     "name": "stdin",
     "output_type": "stream",
     "text": [
      " 3\n",
      " 1 2\n",
      " 3 4\n",
      " 10 6\n"
     ]
    },
    {
     "name": "stdout",
     "output_type": "stream",
     "text": [
      "5 8\n"
     ]
    }
   ],
   "source": [
    "from fractions import Fraction\n",
    "from functools import reduce\n",
    "\n",
    "def product(fracs):\n",
    "    t = reduce(lambda x, y: x*y, fracs)  # complete this line with a reduce statement\n",
    "    return t.numerator, t.denominator\n",
    "\n",
    "if __name__ == '__main__':\n",
    "    fracs = []\n",
    "    for _ in range(int(input())):\n",
    "        fracs.append(Fraction(*map(int, input().split())))\n",
    "    result = product(fracs)\n",
    "    print(*result)"
   ]
  },
  {
   "cell_type": "code",
   "execution_count": null,
   "id": "0d1df812-2549-4fa2-a1c7-22843bc0f090",
   "metadata": {},
   "outputs": [],
   "source": []
  },
  {
   "cell_type": "code",
   "execution_count": 56,
   "id": "45278313-6328-4a95-ba77-55e72993a4a2",
   "metadata": {},
   "outputs": [],
   "source": [
    "import numpy"
   ]
  },
  {
   "cell_type": "code",
   "execution_count": 9,
   "id": "968b4dd1-5890-4c80-99d2-76c02a1e1aba",
   "metadata": {},
   "outputs": [
    {
     "name": "stdin",
     "output_type": "stream",
     "text": [
      " 4 2\n"
     ]
    }
   ],
   "source": [
    "N = input().split()"
   ]
  },
  {
   "cell_type": "code",
   "execution_count": 14,
   "id": "d4bab8de-c1cc-4ce7-80e4-1f100b281fb7",
   "metadata": {},
   "outputs": [
    {
     "data": {
      "text/plain": [
       "4"
      ]
     },
     "execution_count": 14,
     "metadata": {},
     "output_type": "execute_result"
    }
   ],
   "source": [
    "int(N[0])"
   ]
  },
  {
   "cell_type": "code",
   "execution_count": 38,
   "id": "f9b5d14f-3062-4984-9878-efd1e83d2b31",
   "metadata": {},
   "outputs": [
    {
     "name": "stdin",
     "output_type": "stream",
     "text": [
      " 4 2\n",
      " 2 5\n",
      " 3 7\n",
      " 1 3\n",
      " 4 0\n"
     ]
    },
    {
     "name": "stdout",
     "output_type": "stream",
     "text": [
      "3\n"
     ]
    }
   ],
   "source": [
    "N = input().split()\n",
    "my_array = []\n",
    "\n",
    "for _ in range(int(N[0])):\n",
    "    k = list(map(int, input().split()))\n",
    "    my_array.append(k)\n",
    "\n",
    "print(max(numpy.min(my_array, axis=1)))"
   ]
  },
  {
   "cell_type": "code",
   "execution_count": null,
   "id": "4184daf4-30fc-4c3c-84ef-e74afa82f9c8",
   "metadata": {},
   "outputs": [],
   "source": []
  },
  {
   "cell_type": "code",
   "execution_count": 46,
   "id": "8566c261-b8a1-4d94-938a-c1f27f9be2e6",
   "metadata": {},
   "outputs": [
    {
     "name": "stdin",
     "output_type": "stream",
     "text": [
      " 2 2\n",
      " 1 2\n",
      " 3 4\n"
     ]
    },
    {
     "name": "stdout",
     "output_type": "stream",
     "text": [
      "[1.5 3.5]\n",
      "[1. 1.]\n",
      "1.11803398875\n"
     ]
    }
   ],
   "source": [
    "N = input().split()\n",
    "my_array = []\n",
    "\n",
    "for _ in range(int(N[0])):\n",
    "    k = list(map(int, input().split()))\n",
    "    my_array.append(k)\n",
    "\n",
    "print(numpy.mean(my_array, axis=1))\n",
    "print(numpy.var(my_array, axis=0))\n",
    "print(round(numpy.std(my_array, axis=None), 11))"
   ]
  },
  {
   "cell_type": "code",
   "execution_count": 40,
   "id": "bc775f83-1b60-4137-957c-1f7b537483d8",
   "metadata": {},
   "outputs": [
    {
     "data": {
      "text/plain": [
       "array([1.5, 3.5])"
      ]
     },
     "execution_count": 40,
     "metadata": {},
     "output_type": "execute_result"
    }
   ],
   "source": [
    "numpy.mean(my_array, axis=1)"
   ]
  },
  {
   "cell_type": "code",
   "execution_count": 41,
   "id": "141a3d94-7fb1-4b74-8514-83feaded2543",
   "metadata": {},
   "outputs": [
    {
     "data": {
      "text/plain": [
       "array([1., 1.])"
      ]
     },
     "execution_count": 41,
     "metadata": {},
     "output_type": "execute_result"
    }
   ],
   "source": [
    "numpy.var(my_array, axis=0)"
   ]
  },
  {
   "cell_type": "code",
   "execution_count": 45,
   "id": "09979b03-3974-4b0f-9053-6b8235851d55",
   "metadata": {},
   "outputs": [
    {
     "data": {
      "text/plain": [
       "1.11803398875"
      ]
     },
     "execution_count": 45,
     "metadata": {},
     "output_type": "execute_result"
    }
   ],
   "source": [
    "round(numpy.std(my_array, axis=None), 11)"
   ]
  },
  {
   "cell_type": "code",
   "execution_count": null,
   "id": "aabb89ab-353f-43b3-a67a-1d08dab2aa31",
   "metadata": {},
   "outputs": [],
   "source": []
  },
  {
   "cell_type": "code",
   "execution_count": 66,
   "id": "cb7e9167-0c3e-4434-a696-b9efcc4a737b",
   "metadata": {},
   "outputs": [
    {
     "name": "stdin",
     "output_type": "stream",
     "text": [
      " 2\n",
      " 1 2\n",
      " 3 4\n",
      " 1 2\n",
      " 3 4\n"
     ]
    },
    {
     "name": "stdout",
     "output_type": "stream",
     "text": [
      "[[ 7 10]\n",
      " [15 22]]\n"
     ]
    }
   ],
   "source": [
    "N = int(input())\n",
    "a = []\n",
    "b = []\n",
    "\n",
    "for _ in range(N):\n",
    "    k = list(map(int, input().split()))\n",
    "    a.append(k)\n",
    "\n",
    "for _ in range(N):\n",
    "    l = list(map(int, input().split()))\n",
    "    b.append(l)\n",
    "\n",
    "print(numpy.dot(a, b))"
   ]
  },
  {
   "cell_type": "code",
   "execution_count": 64,
   "id": "98bac92b-ee91-4b2c-b6b3-555b51731073",
   "metadata": {},
   "outputs": [
    {
     "data": {
      "text/plain": [
       "[[1, 2], [3, 4]]"
      ]
     },
     "execution_count": 64,
     "metadata": {},
     "output_type": "execute_result"
    }
   ],
   "source": [
    "a"
   ]
  },
  {
   "cell_type": "code",
   "execution_count": 65,
   "id": "8b8f8be7-7e58-46f1-817f-c2abb029c7ed",
   "metadata": {},
   "outputs": [
    {
     "name": "stdout",
     "output_type": "stream",
     "text": [
      "[[ 7 10]\n",
      " [15 22]]\n"
     ]
    }
   ],
   "source": [
    "print(numpy.dot(a, b))"
   ]
  },
  {
   "cell_type": "code",
   "execution_count": null,
   "id": "d6123afa-6d06-4a61-b933-5ae105b87f3c",
   "metadata": {},
   "outputs": [],
   "source": []
  },
  {
   "cell_type": "code",
   "execution_count": 37,
   "id": "f8a1cb0d-ed37-468c-aec9-8ffea6fa10d1",
   "metadata": {},
   "outputs": [
    {
     "name": "stdin",
     "output_type": "stream",
     "text": [
      " 10\n",
      " 2 3 4 5 6 8 7 6 5 18\n",
      " 6\n",
      " 6 55\n",
      " 6 45\n",
      " 6 55\n",
      " 4 40\n",
      " 18 60\n",
      " 10 50\n"
     ]
    },
    {
     "name": "stdout",
     "output_type": "stream",
     "text": [
      "200\n"
     ]
    }
   ],
   "source": [
    "from collections import Counter\n",
    "\n",
    "X = int(input())\n",
    "x = Counter(list(map(int, input().split())))\n",
    "N = int(input())\n",
    "\n",
    "total_price = 0\n",
    "\n",
    "for _ in range(N):\n",
    "    # size, price\n",
    "    size, price = map(int, input().split())\n",
    "    \n",
    "    # xのsizeからsizeの数を引いていく、もし引くことができたら、priceをtotalにたす\n",
    "    if x[size]>0:\n",
    "        total_price += price\n",
    "        x[size] -= 1\n",
    "        \n",
    "print(total_price)"
   ]
  },
  {
   "cell_type": "code",
   "execution_count": 2,
   "id": "e3dd16eb-6662-4be4-8895-49c4a8dff50a",
   "metadata": {},
   "outputs": [
    {
     "name": "stdin",
     "output_type": "stream",
     "text": [
      " 6 55\n"
     ]
    }
   ],
   "source": [
    "size, price = map(int, input().split())"
   ]
  },
  {
   "cell_type": "code",
   "execution_count": 4,
   "id": "95d7c432-5298-4d12-89f3-e50416f6e2b5",
   "metadata": {},
   "outputs": [
    {
     "data": {
      "text/plain": [
       "55"
      ]
     },
     "execution_count": 4,
     "metadata": {},
     "output_type": "execute_result"
    }
   ],
   "source": [
    "price "
   ]
  },
  {
   "cell_type": "code",
   "execution_count": 6,
   "id": "951a56ef-9adc-4dc9-bb32-5dd8237f5d17",
   "metadata": {},
   "outputs": [
    {
     "name": "stdin",
     "output_type": "stream",
     "text": [
      " 2 3 4 5 6 8 7 6 5 18\n"
     ]
    }
   ],
   "source": [
    "from collections import Counter\n",
    "\n",
    "x = Counter(list(map(int, input().split())))"
   ]
  },
  {
   "cell_type": "code",
   "execution_count": 27,
   "id": "a8eeb33b-c7cc-40e0-9eb4-1579bc10a2c9",
   "metadata": {},
   "outputs": [
    {
     "data": {
      "text/plain": [
       "dict_keys([2, 3, 4, 5, 6, 8, 7, 18])"
      ]
     },
     "execution_count": 27,
     "metadata": {},
     "output_type": "execute_result"
    }
   ],
   "source": [
    "x.keys()"
   ]
  },
  {
   "cell_type": "code",
   "execution_count": 30,
   "id": "f37b0583-916a-499b-aeab-c1920223bacb",
   "metadata": {},
   "outputs": [
    {
     "name": "stdin",
     "output_type": "stream",
     "text": [
      " 10\n",
      " 2 3 4 5 6 8 7 6 5 18\n",
      " 6\n",
      " 6 55\n",
      " 6 45\n",
      " 6 55\n",
      " 4 40\n",
      " 18 60\n",
      " 10 50\n"
     ]
    },
    {
     "name": "stdout",
     "output_type": "stream",
     "text": [
      "200\n"
     ]
    }
   ],
   "source": [
    "\n",
    "from collections import Counter\n",
    "\n",
    "X = int(input()) \n",
    "shoes = [str(x) for x in input().split()] \n",
    "inventory = Counter(shoes) \n",
    "rev = 0 \n",
    "N = int(input()) \n",
    "for _ in range(N):\n",
    "    ss, price = [int(x) for x in input().split()] \n",
    "    if inventory[str(ss)] > 0:\n",
    "        rev += price \n",
    "        inventory[str(ss)] -= 1 \n",
    "print(str(rev))"
   ]
  },
  {
   "cell_type": "code",
   "execution_count": 31,
   "id": "00fe769c-6a41-40de-a09e-b7a778bce1ad",
   "metadata": {},
   "outputs": [
    {
     "name": "stdin",
     "output_type": "stream",
     "text": [
      " 6 55\n"
     ]
    }
   ],
   "source": [
    "ss, price = [int(x) for x in input().split()] "
   ]
  },
  {
   "cell_type": "code",
   "execution_count": 34,
   "id": "e080f75e-a632-4f20-8e89-6cb6a3ed5bcf",
   "metadata": {},
   "outputs": [
    {
     "data": {
      "text/plain": [
       "1"
      ]
     },
     "execution_count": 34,
     "metadata": {},
     "output_type": "execute_result"
    }
   ],
   "source": [
    "x[18]"
   ]
  },
  {
   "cell_type": "code",
   "execution_count": null,
   "id": "554bdbab-8de3-4dc7-925c-6cf087998ad0",
   "metadata": {},
   "outputs": [],
   "source": []
  },
  {
   "cell_type": "code",
   "execution_count": 61,
   "id": "dbdb059f-3544-4ad2-a08f-a34c87cc04e8",
   "metadata": {},
   "outputs": [
    {
     "name": "stdin",
     "output_type": "stream",
     "text": [
      " 5 2\n",
      " a\n",
      " a\n",
      " b\n",
      " a\n",
      " b\n",
      " a\n"
     ]
    },
    {
     "name": "stdout",
     "output_type": "stream",
     "text": [
      "1 2 4\n"
     ]
    },
    {
     "name": "stdin",
     "output_type": "stream",
     "text": [
      " b\n"
     ]
    },
    {
     "name": "stdout",
     "output_type": "stream",
     "text": [
      "3 5\n"
     ]
    }
   ],
   "source": [
    "from collections import defaultdict\n",
    "\n",
    "A = defaultdict(list)\n",
    "\n",
    "n, m = map(int, input().split())\n",
    "\n",
    "for i in range(n):\n",
    "    A[input()].append(i+1)\n",
    "\n",
    "for _ in range(m):\n",
    "    word = input()\n",
    "    if word in A:\n",
    "        print(\" \".join(list(map(str, A[word]))))\n",
    "    else:\n",
    "        print(-1)    "
   ]
  },
  {
   "cell_type": "code",
   "execution_count": null,
   "id": "b5c89835-18a7-4f48-aff1-2c0fd9662060",
   "metadata": {},
   "outputs": [],
   "source": []
  },
  {
   "cell_type": "code",
   "execution_count": 63,
   "id": "e1a54691-3699-44f1-aee1-43be0d7a76a2",
   "metadata": {},
   "outputs": [
    {
     "name": "stdout",
     "output_type": "stream",
     "text": [
      "11\n"
     ]
    }
   ],
   "source": [
    "from collections import namedtuple\n",
    "Point = namedtuple('Point', 'x,y')\n",
    "pt1 = Point(1,2)\n",
    "pt2 = Point(3,4)\n",
    "dot_product = (pt1.x * pt2.x) + (pt1.y * pt2.y)\n",
    "print(dot_product)"
   ]
  },
  {
   "cell_type": "code",
   "execution_count": 64,
   "id": "cb2ae718-33bd-4151-8c1f-328b6370d494",
   "metadata": {},
   "outputs": [
    {
     "name": "stdout",
     "output_type": "stream",
     "text": [
      "Car(Price=100000, Mileage=30, Colour='Cyan', Class='Y')\n"
     ]
    }
   ],
   "source": [
    "Car = namedtuple('Car', 'Price Mileage Colour Class')\n",
    "xyz = Car(Price = 100000, Mileage = 30, Colour = 'Cyan', Class = 'Y')\n",
    "print(xyz)"
   ]
  },
  {
   "cell_type": "code",
   "execution_count": 65,
   "id": "93094b7e-7943-4ea0-8916-4864f14cabeb",
   "metadata": {},
   "outputs": [
    {
     "name": "stdout",
     "output_type": "stream",
     "text": [
      "Y\n"
     ]
    }
   ],
   "source": [
    "print(xyz.Class)"
   ]
  },
  {
   "cell_type": "code",
   "execution_count": null,
   "id": "3b48317d-b731-4bf8-b8a2-0754e9614b22",
   "metadata": {},
   "outputs": [],
   "source": []
  },
  {
   "cell_type": "code",
   "execution_count": 74,
   "id": "f564a34c-c490-4772-a75a-bcbaf3bae396",
   "metadata": {},
   "outputs": [
    {
     "name": "stdin",
     "output_type": "stream",
     "text": [
      " 2\n",
      " ID         MARKS      NAME       CLASS\n",
      " 1          97         Raymond    7\n",
      " 2          50         Steven     4\n"
     ]
    },
    {
     "name": "stdout",
     "output_type": "stream",
     "text": [
      "73.5\n"
     ]
    }
   ],
   "source": [
    "from collections import namedtuple\n",
    "\n",
    "N = int(input())\n",
    "student = namedtuple('student', input().split())\n",
    "\n",
    "marks = 0\n",
    "\n",
    "for _ in range(N):\n",
    "    columns = student(*input().split())\n",
    "\n",
    "    marks += int(columns.MARKS)\n",
    "\n",
    "print(round(marks/N, 2))"
   ]
  },
  {
   "cell_type": "code",
   "execution_count": null,
   "id": "73853078-20d5-4d0b-8f90-6926bc213d2a",
   "metadata": {},
   "outputs": [],
   "source": []
  },
  {
   "cell_type": "code",
   "execution_count": null,
   "id": "e362da26-9942-42c6-926c-9aad3f0dad6a",
   "metadata": {},
   "outputs": [],
   "source": []
  },
  {
   "cell_type": "code",
   "execution_count": null,
   "id": "d823d546-382b-4441-a18f-c6624b2bb6c4",
   "metadata": {},
   "outputs": [],
   "source": []
  }
 ],
 "metadata": {
  "kernelspec": {
   "display_name": "Python 3 (ipykernel)",
   "language": "python",
   "name": "python3"
  },
  "language_info": {
   "codemirror_mode": {
    "name": "ipython",
    "version": 3
   },
   "file_extension": ".py",
   "mimetype": "text/x-python",
   "name": "python",
   "nbconvert_exporter": "python",
   "pygments_lexer": "ipython3",
   "version": "3.11.5"
  },
  "toc": {
   "base_numbering": 1,
   "nav_menu": {},
   "number_sections": true,
   "sideBar": true,
   "skip_h1_title": false,
   "title_cell": "Table of Contents",
   "title_sidebar": "Contents",
   "toc_cell": false,
   "toc_position": {},
   "toc_section_display": true,
   "toc_window_display": false
  }
 },
 "nbformat": 4,
 "nbformat_minor": 5
}
