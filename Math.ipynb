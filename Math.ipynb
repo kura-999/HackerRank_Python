{
 "cells": [
  {
   "cell_type": "markdown",
   "id": "ea98dbee-46df-4445-8f70-9dbb57733789",
   "metadata": {},
   "source": [
    "# Math"
   ]
  },
  {
   "cell_type": "markdown",
   "id": "904babe4-1a9c-463b-94ab-f2efc2d5f7f8",
   "metadata": {},
   "source": [
    "## Polar Coordinates"
   ]
  },
  {
   "cell_type": "code",
   "execution_count": 4,
   "id": "8b849069-fdb9-4802-b808-c99cbfbbc3c7",
   "metadata": {},
   "outputs": [
    {
     "data": {
      "text/plain": [
       "3.141592653589793"
      ]
     },
     "execution_count": 4,
     "metadata": {},
     "output_type": "execute_result"
    }
   ],
   "source": [
    "import cmath\n",
    "\n",
    "cmath.phase(complex(-1.0, 0.0))"
   ]
  },
  {
   "cell_type": "code",
   "execution_count": 5,
   "id": "5627d168-c3fe-4f1a-a189-2498243eeb25",
   "metadata": {},
   "outputs": [
    {
     "data": {
      "text/plain": [
       "1.0"
      ]
     },
     "execution_count": 5,
     "metadata": {},
     "output_type": "execute_result"
    }
   ],
   "source": [
    "abs(complex(-1.0, 0.0))"
   ]
  },
  {
   "cell_type": "code",
   "execution_count": 57,
   "id": "30979a17-a797-48c8-a545-fb3e9e1a27bb",
   "metadata": {},
   "outputs": [
    {
     "name": "stdin",
     "output_type": "stream",
     "text": [
      " -1-5j\n"
     ]
    },
    {
     "name": "stdout",
     "output_type": "stream",
     "text": [
      "5.0990195135927845\n",
      "-1.7681918866447774\n"
     ]
    }
   ],
   "source": [
    "import re\n",
    "import cmath\n",
    "\n",
    "z = input()\n",
    "\n",
    "pattern = r\"([-]?\\d+)([+-]\\d+)\"\n",
    "\n",
    "matches = re.match(pattern, z)\n",
    "\n",
    "m, n = int(matches.group(1)), int(matches.group(2))\n",
    "\n",
    "print(abs(complex(m,n)))\n",
    "print(cmath.phase(complex(m,n)))"
   ]
  },
  {
   "cell_type": "code",
   "execution_count": 60,
   "id": "47f5501e-ad96-4f19-b45d-018486e37a0c",
   "metadata": {},
   "outputs": [
    {
     "name": "stdin",
     "output_type": "stream",
     "text": [
      " -1-5j\n"
     ]
    },
    {
     "name": "stdout",
     "output_type": "stream",
     "text": [
      "5.0990195135927845\n",
      "-1.7681918866447774\n"
     ]
    }
   ],
   "source": [
    "import cmath\n",
    "\n",
    "com = complex(input())\n",
    "\n",
    "print(abs(com))\n",
    "print(cmath.phase(com))"
   ]
  },
  {
   "cell_type": "markdown",
   "id": "da3844a4-628b-422d-9617-37eca2597fce",
   "metadata": {},
   "source": [
    "## Find Angle MBC"
   ]
  },
  {
   "cell_type": "code",
   "execution_count": 78,
   "id": "0cc5e4a4-9aa3-4baf-9449-1fe4c82ee520",
   "metadata": {},
   "outputs": [
    {
     "name": "stdin",
     "output_type": "stream",
     "text": [
      " 10\n",
      " 10\n"
     ]
    },
    {
     "name": "stdout",
     "output_type": "stream",
     "text": [
      "45°\n"
     ]
    }
   ],
   "source": [
    "import math\n",
    "\n",
    "a = int(input())\n",
    "b = int(input())\n",
    "\n",
    "c = math.degrees(math.atan2(a,b))\n",
    "d = round(c)\n",
    "e = chr(176)\n",
    "print(f\"{d}{e}\")"
   ]
  },
  {
   "cell_type": "markdown",
   "id": "77b0b8e3-503f-4517-9cb4-39453bf45443",
   "metadata": {},
   "source": [
    "## Triangle Quest 2"
   ]
  },
  {
   "cell_type": "code",
   "execution_count": 89,
   "id": "f429f810-de57-43bd-acb7-a734a3c0f46a",
   "metadata": {},
   "outputs": [
    {
     "name": "stdin",
     "output_type": "stream",
     "text": [
      " 5\n"
     ]
    },
    {
     "name": "stdout",
     "output_type": "stream",
     "text": [
      "1\n",
      "121\n",
      "12321\n",
      "1234321\n",
      "123454321\n"
     ]
    }
   ],
   "source": [
    "for i in range(1, int(input())+1):\n",
    "    print((10**i - 1)**2 // 81)"
   ]
  },
  {
   "cell_type": "markdown",
   "id": "d9c66cf8-2cd6-4be0-a237-e3107cbfc8f8",
   "metadata": {},
   "source": [
    "## Mod Divmod"
   ]
  },
  {
   "cell_type": "code",
   "execution_count": 90,
   "id": "6cc3effb-36d3-422b-9607-3bd4eea143f1",
   "metadata": {},
   "outputs": [
    {
     "name": "stdout",
     "output_type": "stream",
     "text": [
      "(17, 7)\n"
     ]
    }
   ],
   "source": [
    "print(divmod(177,10))"
   ]
  },
  {
   "cell_type": "code",
   "execution_count": 91,
   "id": "29abfe1a-0c9d-4bd1-abd2-a100d6109e87",
   "metadata": {},
   "outputs": [
    {
     "name": "stdout",
     "output_type": "stream",
     "text": [
      "(130, 0)\n"
     ]
    }
   ],
   "source": [
    "print(divmod(1950,15))"
   ]
  },
  {
   "cell_type": "code",
   "execution_count": 98,
   "id": "f57aa0e7-fd3a-4fe1-9ab6-6659d29ad1fc",
   "metadata": {},
   "outputs": [
    {
     "name": "stdin",
     "output_type": "stream",
     "text": [
      " 177\n",
      " 10\n"
     ]
    },
    {
     "name": "stdout",
     "output_type": "stream",
     "text": [
      "17\n",
      "7\n",
      "(17, 7)\n"
     ]
    }
   ],
   "source": [
    "a = int(input())\n",
    "b = int(input())\n",
    "\n",
    "print(a//b)\n",
    "print(a%b)\n",
    "print(divmod(a,b))"
   ]
  },
  {
   "cell_type": "markdown",
   "id": "d5d7e345-9f63-4004-b98d-1e00d761ed9d",
   "metadata": {},
   "source": [
    "## Power - Mod Power"
   ]
  },
  {
   "cell_type": "code",
   "execution_count": 100,
   "id": "2ba80d34-cd62-42fc-82d6-5c692920dd1d",
   "metadata": {},
   "outputs": [
    {
     "data": {
      "text/plain": [
       "8"
      ]
     },
     "execution_count": 100,
     "metadata": {},
     "output_type": "execute_result"
    }
   ],
   "source": [
    "a = 2\n",
    "b = 3\n",
    "\n",
    "pow(a,b)"
   ]
  },
  {
   "cell_type": "code",
   "execution_count": 101,
   "id": "0b660f65-9d65-4de0-b40a-ac49a2151c48",
   "metadata": {},
   "outputs": [
    {
     "data": {
      "text/plain": [
       "8"
      ]
     },
     "execution_count": 101,
     "metadata": {},
     "output_type": "execute_result"
    }
   ],
   "source": [
    "a**b"
   ]
  },
  {
   "cell_type": "code",
   "execution_count": 102,
   "id": "047266fb-0cc0-4f87-b9f3-e3baf4ac0e32",
   "metadata": {},
   "outputs": [
    {
     "data": {
      "text/plain": [
       "1"
      ]
     },
     "execution_count": 102,
     "metadata": {},
     "output_type": "execute_result"
    }
   ],
   "source": [
    "pow(3,4,5)"
   ]
  },
  {
   "cell_type": "code",
   "execution_count": 104,
   "id": "18ee1bd0-6867-4a5a-87f7-9c1d28604c21",
   "metadata": {},
   "outputs": [
    {
     "data": {
      "text/plain": [
       "16"
      ]
     },
     "execution_count": 104,
     "metadata": {},
     "output_type": "execute_result"
    }
   ],
   "source": [
    "81 // 5"
   ]
  },
  {
   "cell_type": "code",
   "execution_count": 105,
   "id": "e1cb7c3b-0488-4c2f-80f0-9214390934db",
   "metadata": {},
   "outputs": [
    {
     "data": {
      "text/plain": [
       "1"
      ]
     },
     "execution_count": 105,
     "metadata": {},
     "output_type": "execute_result"
    }
   ],
   "source": [
    "81%5"
   ]
  },
  {
   "cell_type": "code",
   "execution_count": 113,
   "id": "4c68fee5-4414-4ae0-a040-c7a76a69caee",
   "metadata": {},
   "outputs": [
    {
     "name": "stdin",
     "output_type": "stream",
     "text": [
      " 3\n",
      " 4\n",
      " 5\n"
     ]
    },
    {
     "name": "stdout",
     "output_type": "stream",
     "text": [
      "81\n",
      "1\n"
     ]
    }
   ],
   "source": [
    "a = int(input())\n",
    "b = int(input())\n",
    "m = int(input())\n",
    "\n",
    "print(pow(a,b))\n",
    "print(pow(a,b,m))"
   ]
  },
  {
   "cell_type": "markdown",
   "id": "5d79f7b4-f511-482a-ab6f-c4b4d2a24e5a",
   "metadata": {},
   "source": [
    "## Integers Come In All Sizes"
   ]
  },
  {
   "cell_type": "code",
   "execution_count": 116,
   "id": "cb565e23-91e9-437f-a5ff-6cce372e02c6",
   "metadata": {},
   "outputs": [
    {
     "name": "stdin",
     "output_type": "stream",
     "text": [
      " 9\n",
      " 29\n",
      " 7\n",
      " 27\n"
     ]
    },
    {
     "name": "stdout",
     "output_type": "stream",
     "text": [
      "4710194409608608369201743232\n"
     ]
    }
   ],
   "source": [
    "a = int(input())\n",
    "b = int(input())\n",
    "c = int(input())\n",
    "d = int(input())\n",
    "\n",
    "print(pow(a, b) + pow(c, d))"
   ]
  },
  {
   "cell_type": "markdown",
   "id": "99656857-51db-4853-a204-1c287d2fc717",
   "metadata": {},
   "source": [
    "## Triangle Quest"
   ]
  },
  {
   "cell_type": "code",
   "execution_count": 151,
   "id": "55f0d49d-8019-411c-9abb-e361293b0a45",
   "metadata": {},
   "outputs": [
    {
     "name": "stdin",
     "output_type": "stream",
     "text": [
      " 5\n"
     ]
    },
    {
     "name": "stdout",
     "output_type": "stream",
     "text": [
      "1\n",
      "22\n",
      "333\n",
      "4444\n"
     ]
    }
   ],
   "source": [
    "for i in range(1,int(input())): #More than 2 lines will result in 0 score. Do not leave a blank line also\n",
    "    print(int(((10**i - 1)/9)*i))"
   ]
  }
 ],
 "metadata": {
  "kernelspec": {
   "display_name": "Python 3 (ipykernel)",
   "language": "python",
   "name": "python3"
  },
  "language_info": {
   "codemirror_mode": {
    "name": "ipython",
    "version": 3
   },
   "file_extension": ".py",
   "mimetype": "text/x-python",
   "name": "python",
   "nbconvert_exporter": "python",
   "pygments_lexer": "ipython3",
   "version": "3.11.5"
  },
  "toc": {
   "base_numbering": 1,
   "nav_menu": {},
   "number_sections": true,
   "sideBar": true,
   "skip_h1_title": false,
   "title_cell": "Table of Contents",
   "title_sidebar": "Contents",
   "toc_cell": false,
   "toc_position": {},
   "toc_section_display": true,
   "toc_window_display": false
  }
 },
 "nbformat": 4,
 "nbformat_minor": 5
}
